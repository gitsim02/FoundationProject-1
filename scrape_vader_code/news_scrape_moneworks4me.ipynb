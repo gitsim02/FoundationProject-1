{
 "cells": [
  {
   "cell_type": "code",
   "execution_count": 24,
   "id": "cc3f0326",
   "metadata": {},
   "outputs": [],
   "source": [
    "## for jupyter\n",
    "import logging\n",
    "logger = logging.getLogger()\n",
    "formatter = logging.Formatter('%(asctime)s - %(levelname)s - %(message)s')\n",
    "logger.setLevel(logging.INFO)\n",
    "\n",
    "fhandler = logging.FileHandler(filename='moneyWorks4me.txt', mode='w')\n",
    "fhandler.setFormatter(formatter)\n",
    "logger.addHandler(fhandler)\n",
    "\n",
    "# logger.\n",
    "# logging.info('This is a warning message')"
   ]
  },
  {
   "cell_type": "code",
   "execution_count": 25,
   "id": "e543c5e5",
   "metadata": {},
   "outputs": [],
   "source": [
    "import pandas as pd\n",
    "from bs4 import BeautifulSoup as bs\n",
    "import requests \n",
    "from urllib.request import urlopen, Request\n",
    "from urllib.parse import urljoin\n",
    "import time\n",
    "import re\n",
    "import json"
   ]
  },
  {
   "cell_type": "code",
   "execution_count": 4,
   "id": "dbfd2614",
   "metadata": {},
   "outputs": [],
   "source": [
    "root_url = \"https://www.moneyworks4me.com/\""
   ]
  },
  {
   "cell_type": "code",
   "execution_count": 5,
   "id": "06641724",
   "metadata": {},
   "outputs": [],
   "source": [
    "moneyWorksForMeCode = {\"Reliance\":\"100325\"}"
   ]
  },
  {
   "cell_type": "code",
   "execution_count": 37,
   "id": "1e541b2e",
   "metadata": {},
   "outputs": [],
   "source": [
    "class moneyWorksForMe():\n",
    "    \n",
    "    def __init__(self,comp_code,to_page=2):\n",
    "        self.comp_code = comp_code\n",
    "        self.to_page = to_page\n",
    "        \n",
    "        self.url = \"https://www.moneyworks4me.com/stock-markets/search/news/fincode/\" + comp_code #+ \"/page/\" + from_page\n",
    "    \n",
    "    def get_html(self,url):\n",
    "        agent = \"Mozilla/5.0 (platform; rv:geckoversion) Gecko/geckotrail Firefox/firefoxversion\"\n",
    "        return urlopen(Request(url,headers = {'User-Agent': agent})).read()\n",
    "    \n",
    "    def get_news_content(self,url):\n",
    "        \n",
    "        time.sleep(3)\n",
    "        s = bs(\n",
    "                self.get_html(\n",
    "                url), \"html.parser\")\n",
    "        \n",
    "        div = s.find(\"div\",{\"class\":\"col-12 sub-heading-3 text-darkgray\"})\n",
    "        \n",
    "        content = str(div.text)\n",
    "        content = content.strip()\n",
    "        \n",
    "        return content\n",
    "    \n",
    "    def crawl(self):\n",
    "\n",
    "        scraped_data = {'link' : [], 'title' : [], 'date' : [], 'news_text' : [] }\n",
    "        if self.to_page > 0:\n",
    "            for i in range(0,self.to_page):\n",
    "                time.sleep(3)\n",
    "                if i == 0:\n",
    "                            # first url\n",
    "                    url = self.url\n",
    "                else:\n",
    "                    # url/page/2 # no page 1 there in URL\n",
    "                    url = self.url + \"/page/\"+str(i+1)\n",
    "                \n",
    "                start_time = time.time()\n",
    "                logging.info(f\"fetching url:{url}\")\n",
    "                    \n",
    "                s = bs(\n",
    "                self.get_html(\n",
    "                url), \"html.parser\")\n",
    "                \n",
    "                divs = s.find_all(\"div\",{\"class\":\"col-md-12 gray-card-light newswise-conatiner mt-3\"})\n",
    "                \n",
    "                for div in divs:\n",
    "                    inner_div = div.find(\"div\",{\"class\":\"d-flex sm-d-block\"})\n",
    "\n",
    "                    date_div = inner_div.find(\"div\",{\"class\":\n",
    "                                                    \"newswise-date text-center w-25 align-self-center col-md-2 justify-content-center sm-w-100 sm-d-flex\"})\n",
    "\n",
    "                    title_div = inner_div.find(\"div\",\n",
    "                                              {\"class\":\"news-info-section col-md-10 align-self-center\"})\n",
    "\n",
    "                    date = date_div.text.strip().split(\"\\n\")\n",
    "\n",
    "                    scraped_data['date'].append(\" \".join(date))\n",
    "\n",
    "                    scraped_data['title'].append(title_div.a.text.strip())\n",
    "\n",
    "                    scraped_data['link'].append(urljoin(root_url,title_div.a['href']))\n",
    "\n",
    "                    scraped_data['news_text'].append(self.get_news_content(\n",
    "                    urljoin(root_url,title_div.a['href'])\n",
    "                    ))\n",
    "                \n",
    "                end_time = time.time()\n",
    "                logging.info(f\"time taken : {round((end_time-start_time),2)} seconds\")\n",
    "            \n",
    "            return scraped_data\n",
    "\n",
    "        \n",
    "#     def scrape(self):"
   ]
  },
  {
   "cell_type": "code",
   "execution_count": 38,
   "id": "b4c9c597",
   "metadata": {},
   "outputs": [],
   "source": [
    "reliance = moneyWorksForMe(moneyWorksForMeCode['Reliance'],to_page=110)"
   ]
  },
  {
   "cell_type": "code",
   "execution_count": 39,
   "id": "8801c05c",
   "metadata": {},
   "outputs": [
    {
     "name": "stdout",
     "output_type": "stream",
     "text": [
      "Wall time: 1h 13min 9s\n"
     ]
    }
   ],
   "source": [
    "%%time\n",
    "df = pd.DataFrame(reliance.crawl())"
   ]
  },
  {
   "cell_type": "code",
   "execution_count": 40,
   "id": "1a36d016",
   "metadata": {},
   "outputs": [
    {
     "data": {
      "text/html": [
       "<div>\n",
       "<style scoped>\n",
       "    .dataframe tbody tr th:only-of-type {\n",
       "        vertical-align: middle;\n",
       "    }\n",
       "\n",
       "    .dataframe tbody tr th {\n",
       "        vertical-align: top;\n",
       "    }\n",
       "\n",
       "    .dataframe thead th {\n",
       "        text-align: right;\n",
       "    }\n",
       "</style>\n",
       "<table border=\"1\" class=\"dataframe\">\n",
       "  <thead>\n",
       "    <tr style=\"text-align: right;\">\n",
       "      <th></th>\n",
       "      <th>link</th>\n",
       "      <th>title</th>\n",
       "      <th>date</th>\n",
       "      <th>news_text</th>\n",
       "    </tr>\n",
       "  </thead>\n",
       "  <tbody>\n",
       "    <tr>\n",
       "      <th>0</th>\n",
       "      <td>https://www.moneyworks4me.com/company/news/ind...</td>\n",
       "      <td>Reliance Industries’ step down arm inks agreem...</td>\n",
       "      <td>05 Aug, 2022</td>\n",
       "      <td>Reliance Industries' step down arm -- Reliance...</td>\n",
       "    </tr>\n",
       "    <tr>\n",
       "      <th>1</th>\n",
       "      <td>https://www.moneyworks4me.com/company/news/ind...</td>\n",
       "      <td>Reliance Industries secures 104th position in ...</td>\n",
       "      <td>04 Aug, 2022</td>\n",
       "      <td>Reliance Industries (RIL) has jumped 51 places...</td>\n",
       "    </tr>\n",
       "    <tr>\n",
       "      <th>2</th>\n",
       "      <td>https://www.moneyworks4me.com/company/news/ind...</td>\n",
       "      <td>Reliance Industries gains as its arm gets CCI ...</td>\n",
       "      <td>03 Aug, 2022</td>\n",
       "      <td>Reliance Industries is currently trading at Rs...</td>\n",
       "    </tr>\n",
       "    <tr>\n",
       "      <th>3</th>\n",
       "      <td>https://www.moneyworks4me.com/company/news/ind...</td>\n",
       "      <td>CCI approves stake buy in SCIPL by Reliance In...</td>\n",
       "      <td>03 Aug, 2022</td>\n",
       "      <td>The Competition Commission of India (CCI) has ...</td>\n",
       "    </tr>\n",
       "    <tr>\n",
       "      <th>4</th>\n",
       "      <td>https://www.moneyworks4me.com/company/news/ind...</td>\n",
       "      <td>Reliance Industries rises as its arm acquires ...</td>\n",
       "      <td>02 Aug, 2022</td>\n",
       "      <td>Reliance Industries is currently trading at Rs...</td>\n",
       "    </tr>\n",
       "  </tbody>\n",
       "</table>\n",
       "</div>"
      ],
      "text/plain": [
       "                                                link  \\\n",
       "0  https://www.moneyworks4me.com/company/news/ind...   \n",
       "1  https://www.moneyworks4me.com/company/news/ind...   \n",
       "2  https://www.moneyworks4me.com/company/news/ind...   \n",
       "3  https://www.moneyworks4me.com/company/news/ind...   \n",
       "4  https://www.moneyworks4me.com/company/news/ind...   \n",
       "\n",
       "                                               title          date  \\\n",
       "0  Reliance Industries’ step down arm inks agreem...  05 Aug, 2022   \n",
       "1  Reliance Industries secures 104th position in ...  04 Aug, 2022   \n",
       "2  Reliance Industries gains as its arm gets CCI ...  03 Aug, 2022   \n",
       "3  CCI approves stake buy in SCIPL by Reliance In...  03 Aug, 2022   \n",
       "4  Reliance Industries rises as its arm acquires ...  02 Aug, 2022   \n",
       "\n",
       "                                           news_text  \n",
       "0  Reliance Industries' step down arm -- Reliance...  \n",
       "1  Reliance Industries (RIL) has jumped 51 places...  \n",
       "2  Reliance Industries is currently trading at Rs...  \n",
       "3  The Competition Commission of India (CCI) has ...  \n",
       "4  Reliance Industries is currently trading at Rs...  "
      ]
     },
     "execution_count": 40,
     "metadata": {},
     "output_type": "execute_result"
    }
   ],
   "source": [
    "df.head()"
   ]
  },
  {
   "cell_type": "code",
   "execution_count": 41,
   "id": "c24b1c45",
   "metadata": {},
   "outputs": [
    {
     "name": "stdout",
     "output_type": "stream",
     "text": [
      "<class 'pandas.core.frame.DataFrame'>\n",
      "RangeIndex: 1100 entries, 0 to 1099\n",
      "Data columns (total 4 columns):\n",
      " #   Column     Non-Null Count  Dtype \n",
      "---  ------     --------------  ----- \n",
      " 0   link       1100 non-null   object\n",
      " 1   title      1100 non-null   object\n",
      " 2   date       1100 non-null   object\n",
      " 3   news_text  1100 non-null   object\n",
      "dtypes: object(4)\n",
      "memory usage: 34.5+ KB\n"
     ]
    }
   ],
   "source": [
    "df.info()"
   ]
  },
  {
   "cell_type": "code",
   "execution_count": 44,
   "id": "f3d6dd16",
   "metadata": {},
   "outputs": [],
   "source": [
    "df.to_csv(\".\\\\..\\\\data\\\\moneyWorks4me_Reliance_history.csv\",encoding='utf-8-sig',index=False)"
   ]
  },
  {
   "cell_type": "code",
   "execution_count": null,
   "id": "2fe0e1a9",
   "metadata": {},
   "outputs": [],
   "source": []
  }
 ],
 "metadata": {
  "kernelspec": {
   "display_name": "Python 3 (ipykernel)",
   "language": "python",
   "name": "python3"
  },
  "language_info": {
   "codemirror_mode": {
    "name": "ipython",
    "version": 3
   },
   "file_extension": ".py",
   "mimetype": "text/x-python",
   "name": "python",
   "nbconvert_exporter": "python",
   "pygments_lexer": "ipython3",
   "version": "3.9.7"
  }
 },
 "nbformat": 4,
 "nbformat_minor": 5
}
