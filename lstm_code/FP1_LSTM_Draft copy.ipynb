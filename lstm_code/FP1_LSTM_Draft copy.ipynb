{
 "cells": [
  {
   "cell_type": "markdown",
   "metadata": {},
   "source": [
    "## Foundational Project 1"
   ]
  },
  {
   "cell_type": "markdown",
   "metadata": {},
   "source": [
    "PART 1. Data Pre-processing"
   ]
  },
  {
   "cell_type": "markdown",
   "metadata": {},
   "source": [
    "Step #0. Fire the system"
   ]
  },
  {
   "cell_type": "code",
   "execution_count": 131,
   "metadata": {},
   "outputs": [],
   "source": [
    "# Import modules and packages\n",
    "import numpy as np\n",
    "import pandas as pd\n",
    "import matplotlib.pyplot as plt\n",
    "import datetime as dt\n",
    "from datetime import datetime\n",
    "\n",
    "from keras.callbacks import EarlyStopping, ReduceLROnPlateau, ModelCheckpoint, TensorBoard\n",
    "\n",
    "%matplotlib inline"
   ]
  },
  {
   "cell_type": "markdown",
   "metadata": {},
   "source": [
    "Step #1. Read data"
   ]
  },
  {
   "cell_type": "code",
   "execution_count": 132,
   "metadata": {},
   "outputs": [
    {
     "data": {
      "text/html": [
       "<div>\n",
       "<style scoped>\n",
       "    .dataframe tbody tr th:only-of-type {\n",
       "        vertical-align: middle;\n",
       "    }\n",
       "\n",
       "    .dataframe tbody tr th {\n",
       "        vertical-align: top;\n",
       "    }\n",
       "\n",
       "    .dataframe thead th {\n",
       "        text-align: right;\n",
       "    }\n",
       "</style>\n",
       "<table border=\"1\" class=\"dataframe\">\n",
       "  <thead>\n",
       "    <tr style=\"text-align: right;\">\n",
       "      <th></th>\n",
       "      <th>Date</th>\n",
       "      <th>Adj Close</th>\n",
       "      <th>1d_diff</th>\n",
       "      <th>5d_diff</th>\n",
       "      <th>10d_diff</th>\n",
       "      <th>SMA3</th>\n",
       "      <th>EMA3</th>\n",
       "      <th>Volume_100k</th>\n",
       "      <th>news_senti_comp</th>\n",
       "    </tr>\n",
       "  </thead>\n",
       "  <tbody>\n",
       "    <tr>\n",
       "      <th>0</th>\n",
       "      <td>2016-12-13</td>\n",
       "      <td>501.832367</td>\n",
       "      <td>-9.757507</td>\n",
       "      <td>-8.965027</td>\n",
       "      <td>-12.333130</td>\n",
       "      <td>511.146505</td>\n",
       "      <td>510.925976</td>\n",
       "      <td>47.838</td>\n",
       "      <td>0.000000</td>\n",
       "    </tr>\n",
       "    <tr>\n",
       "      <th>1</th>\n",
       "      <td>2016-12-14</td>\n",
       "      <td>511.339996</td>\n",
       "      <td>3.244202</td>\n",
       "      <td>-1.857422</td>\n",
       "      <td>4.853943</td>\n",
       "      <td>516.190358</td>\n",
       "      <td>517.850805</td>\n",
       "      <td>111.403</td>\n",
       "      <td>0.730367</td>\n",
       "    </tr>\n",
       "    <tr>\n",
       "      <th>2</th>\n",
       "      <td>2016-12-15</td>\n",
       "      <td>508.178925</td>\n",
       "      <td>-2.080261</td>\n",
       "      <td>-0.198120</td>\n",
       "      <td>-6.191284</td>\n",
       "      <td>520.441732</td>\n",
       "      <td>519.691119</td>\n",
       "      <td>89.217</td>\n",
       "      <td>0.000000</td>\n",
       "    </tr>\n",
       "    <tr>\n",
       "      <th>3</th>\n",
       "      <td>2016-12-16</td>\n",
       "      <td>510.205872</td>\n",
       "      <td>-2.674622</td>\n",
       "      <td>-0.074280</td>\n",
       "      <td>-12.506470</td>\n",
       "      <td>523.306254</td>\n",
       "      <td>521.651407</td>\n",
       "      <td>68.958</td>\n",
       "      <td>0.000000</td>\n",
       "    </tr>\n",
       "    <tr>\n",
       "      <th>4</th>\n",
       "      <td>2016-12-19</td>\n",
       "      <td>512.812012</td>\n",
       "      <td>2.303162</td>\n",
       "      <td>7.479065</td>\n",
       "      <td>-11.169128</td>\n",
       "      <td>523.809814</td>\n",
       "      <td>523.968861</td>\n",
       "      <td>69.269</td>\n",
       "      <td>0.000000</td>\n",
       "    </tr>\n",
       "    <tr>\n",
       "      <th>...</th>\n",
       "      <td>...</td>\n",
       "      <td>...</td>\n",
       "      <td>...</td>\n",
       "      <td>...</td>\n",
       "      <td>...</td>\n",
       "      <td>...</td>\n",
       "      <td>...</td>\n",
       "      <td>...</td>\n",
       "      <td>...</td>\n",
       "    </tr>\n",
       "    <tr>\n",
       "      <th>1379</th>\n",
       "      <td>2022-07-11</td>\n",
       "      <td>2423.899902</td>\n",
       "      <td>3.449951</td>\n",
       "      <td>1.649902</td>\n",
       "      <td>3.500000</td>\n",
       "      <td>2401.133301</td>\n",
       "      <td>2411.709763</td>\n",
       "      <td>63.906</td>\n",
       "      <td>0.000000</td>\n",
       "    </tr>\n",
       "    <tr>\n",
       "      <th>1380</th>\n",
       "      <td>2022-07-12</td>\n",
       "      <td>2420.449951</td>\n",
       "      <td>42.899902</td>\n",
       "      <td>-16.650146</td>\n",
       "      <td>-1.050049</td>\n",
       "      <td>2411.916585</td>\n",
       "      <td>2416.079857</td>\n",
       "      <td>49.745</td>\n",
       "      <td>0.000000</td>\n",
       "    </tr>\n",
       "    <tr>\n",
       "      <th>1381</th>\n",
       "      <td>2022-07-13</td>\n",
       "      <td>2377.550049</td>\n",
       "      <td>-19.599854</td>\n",
       "      <td>-125.449951</td>\n",
       "      <td>-41.649902</td>\n",
       "      <td>2407.299967</td>\n",
       "      <td>2396.814953</td>\n",
       "      <td>65.644</td>\n",
       "      <td>-0.077200</td>\n",
       "    </tr>\n",
       "    <tr>\n",
       "      <th>1382</th>\n",
       "      <td>2022-07-14</td>\n",
       "      <td>2397.149902</td>\n",
       "      <td>-4.650146</td>\n",
       "      <td>-89.150146</td>\n",
       "      <td>-59.950195</td>\n",
       "      <td>2398.383301</td>\n",
       "      <td>2396.982428</td>\n",
       "      <td>78.318</td>\n",
       "      <td>0.470300</td>\n",
       "    </tr>\n",
       "    <tr>\n",
       "      <th>1383</th>\n",
       "      <td>2022-07-15</td>\n",
       "      <td>2401.800049</td>\n",
       "      <td>-20.449951</td>\n",
       "      <td>-101.300049</td>\n",
       "      <td>-107.649902</td>\n",
       "      <td>2392.166667</td>\n",
       "      <td>2399.391238</td>\n",
       "      <td>44.319</td>\n",
       "      <td>0.000000</td>\n",
       "    </tr>\n",
       "  </tbody>\n",
       "</table>\n",
       "<p>1384 rows × 9 columns</p>\n",
       "</div>"
      ],
      "text/plain": [
       "           Date    Adj Close    1d_diff     5d_diff    10d_diff         SMA3  \\\n",
       "0    2016-12-13   501.832367  -9.757507   -8.965027  -12.333130   511.146505   \n",
       "1    2016-12-14   511.339996   3.244202   -1.857422    4.853943   516.190358   \n",
       "2    2016-12-15   508.178925  -2.080261   -0.198120   -6.191284   520.441732   \n",
       "3    2016-12-16   510.205872  -2.674622   -0.074280  -12.506470   523.306254   \n",
       "4    2016-12-19   512.812012   2.303162    7.479065  -11.169128   523.809814   \n",
       "...         ...          ...        ...         ...         ...          ...   \n",
       "1379 2022-07-11  2423.899902   3.449951    1.649902    3.500000  2401.133301   \n",
       "1380 2022-07-12  2420.449951  42.899902  -16.650146   -1.050049  2411.916585   \n",
       "1381 2022-07-13  2377.550049 -19.599854 -125.449951  -41.649902  2407.299967   \n",
       "1382 2022-07-14  2397.149902  -4.650146  -89.150146  -59.950195  2398.383301   \n",
       "1383 2022-07-15  2401.800049 -20.449951 -101.300049 -107.649902  2392.166667   \n",
       "\n",
       "             EMA3  Volume_100k  news_senti_comp  \n",
       "0      510.925976       47.838         0.000000  \n",
       "1      517.850805      111.403         0.730367  \n",
       "2      519.691119       89.217         0.000000  \n",
       "3      521.651407       68.958         0.000000  \n",
       "4      523.968861       69.269         0.000000  \n",
       "...           ...          ...              ...  \n",
       "1379  2411.709763       63.906         0.000000  \n",
       "1380  2416.079857       49.745         0.000000  \n",
       "1381  2396.814953       65.644        -0.077200  \n",
       "1382  2396.982428       78.318         0.470300  \n",
       "1383  2399.391238       44.319         0.000000  \n",
       "\n",
       "[1384 rows x 9 columns]"
      ]
     },
     "execution_count": 132,
     "metadata": {},
     "output_type": "execute_result"
    }
   ],
   "source": [
    "df_news = pd.read_csv(\"Reliance_sentiment.csv\")\n",
    "df_price = pd.read_csv(\"reliance_prices.csv\")\n",
    "\n",
    "df_news['date'] = pd.to_datetime(df_news.date)\n",
    "df_price['Date'] = pd.to_datetime(df_price.Date)\n",
    "\n",
    "df_combined = pd.merge(left=df_price,right=df_news,how=\"left\",left_on = 'Date',right_on='date')\n",
    "df_combined.drop(['date'],axis=1,inplace=True)\n",
    "\n",
    "# Impute all the NaN with 0 as the sentiment score.\n",
    "\n",
    "df_combined.fillna(0.0,inplace=True)\n",
    "\n",
    "\n",
    "cols = list(df_combined.columns)\n",
    "a, b = cols.index('Open'), cols.index('Adj Close')\n",
    "cols[b], cols[a] = cols[a], cols[b]\n",
    "df_combined = df_combined[cols]\n",
    "\n",
    "df_combined = df_combined.drop(['High','Low', 'Close', 'Open', 'Volume', 'SMA5', 'SMA9', 'SMA15', 'SMA30', 'EMA5', 'EMA9', 'EMA15', 'EMA30',  'avg_senti_comp', 'title_senti_comp'],axis=1)\n",
    "\n",
    "\n",
    "# Select features (columns) to be involved into training and predictions\n",
    "cols = list(df_combined)[1:24]\n",
    "\n",
    "df_combined\n",
    "\n"
   ]
  },
  {
   "cell_type": "code",
   "execution_count": 133,
   "metadata": {},
   "outputs": [
    {
     "name": "stdout",
     "output_type": "stream",
     "text": [
      "Training set shape == (1384, 8)\n",
      "All timestamps == 1384\n",
      "Feature selected: ['Adj Close', '1d_diff', '5d_diff', '10d_diff', 'SMA3', 'EMA3', 'Volume_100k', 'news_senti_comp']\n"
     ]
    }
   ],
   "source": [
    "# Extract dates (will be used in visualization)\n",
    "datelist_train = list(df_combined['Date'])\n",
    "df_combined = df_combined.drop('Date', axis=1)\n",
    "df_combined.head()\n",
    "\n",
    "print('Training set shape == {}'.format(df_combined.shape))\n",
    "print('All timestamps == {}'.format(len(datelist_train)))\n",
    "print('Feature selected: {}'.format(cols))\n",
    "\n",
    "#df_combined.to_csv(\"Finance with sentiment_trial.csv\",encoding=\"utf-8\", index='Date')\n"
   ]
  },
  {
   "cell_type": "markdown",
   "metadata": {},
   "source": [
    "Step #2. Data pre-processing"
   ]
  },
  {
   "cell_type": "markdown",
   "metadata": {},
   "source": [
    "Removing all commas and convert data to matrix shape format."
   ]
  },
  {
   "cell_type": "code",
   "execution_count": 134,
   "metadata": {},
   "outputs": [
    {
     "name": "stdout",
     "output_type": "stream",
     "text": [
      "Shape of training set == (1384, 8).\n"
     ]
    },
    {
     "data": {
      "text/plain": [
       "array([[ 5.01832367e+02, -9.75750732e+00, -8.96502686e+00, ...,\n",
       "         5.10925976e+02,  4.78380000e+01,  0.00000000e+00],\n",
       "       [ 5.11339996e+02,  3.24420166e+00, -1.85742188e+00, ...,\n",
       "         5.17850805e+02,  1.11403000e+02,  7.30366667e-01],\n",
       "       [ 5.08178925e+02, -2.08026123e+00, -1.98120117e-01, ...,\n",
       "         5.19691119e+02,  8.92170000e+01,  0.00000000e+00],\n",
       "       ...,\n",
       "       [ 2.37755005e+03, -1.95998535e+01, -1.25449951e+02, ...,\n",
       "         2.39681495e+03,  6.56440000e+01, -7.72000000e-02],\n",
       "       [ 2.39714990e+03, -4.65014648e+00, -8.91501465e+01, ...,\n",
       "         2.39698243e+03,  7.83180000e+01,  4.70300000e-01],\n",
       "       [ 2.40180005e+03, -2.04499512e+01, -1.01300049e+02, ...,\n",
       "         2.39939124e+03,  4.43190000e+01,  0.00000000e+00]])"
      ]
     },
     "execution_count": 134,
     "metadata": {},
     "output_type": "execute_result"
    }
   ],
   "source": [
    "df_combined = df_combined[cols].astype(str)\n",
    "for i in cols:\n",
    "    for j in range(0, len(df_combined)):\n",
    "        df_combined[i][j] = df_combined[i][j].replace(',', '')\n",
    "\n",
    "df_combined = df_combined.astype(float)\n",
    "\n",
    "# Using multiple features (predictors)\n",
    "training_set = df_combined.values\n",
    "\n",
    "print('Shape of training set == {}.'.format(training_set.shape))\n",
    "training_set"
   ]
  },
  {
   "cell_type": "code",
   "execution_count": 135,
   "metadata": {},
   "outputs": [
    {
     "data": {
      "text/plain": [
       "array([[-1.5495049 ],\n",
       "       [-1.53464199],\n",
       "       [-1.53958357],\n",
       "       ...,\n",
       "       [ 1.38273276],\n",
       "       [ 1.41337246],\n",
       "       [ 1.42064186]])"
      ]
     },
     "execution_count": 135,
     "metadata": {},
     "output_type": "execute_result"
    }
   ],
   "source": [
    "# Feature Scaling\n",
    "from sklearn.preprocessing import StandardScaler\n",
    "\n",
    "sc = StandardScaler()\n",
    "training_set_scaled = sc.fit_transform(training_set)\n",
    "\n",
    "sc_predict = StandardScaler()\n",
    "sc_predict.fit_transform(training_set[:, 0:1])"
   ]
  },
  {
   "cell_type": "code",
   "execution_count": 136,
   "metadata": {},
   "outputs": [
    {
     "name": "stdout",
     "output_type": "stream",
     "text": [
      "X_train shape == (875, 500, 7).\n",
      "y_train shape == (875, 1).\n"
     ]
    }
   ],
   "source": [
    "# Creating a data structure with 50 timestamps and 1 output\n",
    "X_train = []\n",
    "y_train = []\n",
    "\n",
    "n_future = 10   # Number of days we want to predict into the future\n",
    "n_past = 500     # Number of past days we want to use to predict the future\n",
    "\n",
    "for i in range(n_past, len(training_set_scaled) - n_future +1):\n",
    "    X_train.append(training_set_scaled[i - n_past:i, 0:df_combined.shape[1] - 1])\n",
    "    y_train.append(training_set_scaled[i + n_future - 1:i + n_future, 0])\n",
    "\n",
    "X_train, y_train = np.array(X_train), np.array(y_train)\n",
    "\n",
    "print('X_train shape == {}.'.format(X_train.shape))\n",
    "print('y_train shape == {}.'.format(y_train.shape))"
   ]
  },
  {
   "cell_type": "markdown",
   "metadata": {},
   "source": [
    "PART 2. Create a model. Training"
   ]
  },
  {
   "cell_type": "markdown",
   "metadata": {},
   "source": [
    "Step #3. Building the LSTM based Neural Network"
   ]
  },
  {
   "cell_type": "code",
   "execution_count": 137,
   "metadata": {},
   "outputs": [],
   "source": [
    "# Import Libraries and packages from Keras\n",
    "from keras.models import Sequential\n",
    "from keras.layers import Dense\n",
    "from keras.layers import LSTM\n",
    "from keras.layers import Dropout\n",
    "from keras.optimizers import Adam"
   ]
  },
  {
   "cell_type": "code",
   "execution_count": 138,
   "metadata": {},
   "outputs": [
    {
     "data": {
      "text/plain": [
       "7"
      ]
     },
     "execution_count": 138,
     "metadata": {},
     "output_type": "execute_result"
    }
   ],
   "source": [
    "df_combined.shape[1]-1"
   ]
  },
  {
   "cell_type": "code",
   "execution_count": 139,
   "metadata": {},
   "outputs": [],
   "source": [
    "# Initializing the Neural Network based on LSTM\n",
    "model = Sequential()\n",
    "\n",
    "# Adding 1st LSTM layer\n",
    "model.add(LSTM(units=64, return_sequences=True, input_shape=(n_past, df_combined.shape[1]-1)))\n",
    "\n",
    "# Adding 2nd LSTM layer\n",
    "model.add(LSTM(units=10, return_sequences=False))\n",
    "\n",
    "# Adding Dropout\n",
    "model.add(Dropout(0.25))\n",
    "\n",
    "# Output layer\n",
    "model.add(Dense(units=1, activation='linear'))\n",
    "\n",
    "# Compiling the Neural Network\n",
    "model.compile(optimizer = Adam(learning_rate=0.01), loss='mean_squared_error')"
   ]
  },
  {
   "cell_type": "markdown",
   "metadata": {},
   "source": [
    "Step #4. Start training"
   ]
  },
  {
   "cell_type": "code",
   "execution_count": 140,
   "metadata": {},
   "outputs": [
    {
     "name": "stdout",
     "output_type": "stream",
     "text": [
      "Epoch 1/30\n",
      "3/3 [==============================] - ETA: 0s - loss: 0.3158\n",
      "Epoch 1: val_loss improved from inf to 0.39366, saving model to weights.h5\n",
      "3/3 [==============================] - 10s 3s/step - loss: 0.3158 - val_loss: 0.3937 - lr: 0.0100\n",
      "Epoch 2/30\n",
      "3/3 [==============================] - ETA: 0s - loss: 0.1050\n",
      "Epoch 2: val_loss improved from 0.39366 to 0.16039, saving model to weights.h5\n",
      "3/3 [==============================] - 8s 3s/step - loss: 0.1050 - val_loss: 0.1604 - lr: 0.0100\n",
      "Epoch 3/30\n",
      "3/3 [==============================] - ETA: 0s - loss: 0.0630\n",
      "Epoch 3: val_loss did not improve from 0.16039\n",
      "3/3 [==============================] - 8s 2s/step - loss: 0.0630 - val_loss: 0.1769 - lr: 0.0100\n",
      "Epoch 4/30\n",
      "3/3 [==============================] - ETA: 0s - loss: 0.0428\n",
      "Epoch 4: val_loss improved from 0.16039 to 0.02532, saving model to weights.h5\n",
      "3/3 [==============================] - 7s 2s/step - loss: 0.0428 - val_loss: 0.0253 - lr: 0.0100\n",
      "Epoch 5/30\n",
      "3/3 [==============================] - ETA: 0s - loss: 0.0415\n",
      "Epoch 5: val_loss did not improve from 0.02532\n",
      "3/3 [==============================] - 8s 2s/step - loss: 0.0415 - val_loss: 0.1268 - lr: 0.0100\n",
      "Epoch 6/30\n",
      "3/3 [==============================] - ETA: 0s - loss: 0.0396\n",
      "Epoch 6: val_loss did not improve from 0.02532\n",
      "3/3 [==============================] - 8s 3s/step - loss: 0.0396 - val_loss: 0.0318 - lr: 0.0100\n",
      "Epoch 7/30\n",
      "3/3 [==============================] - ETA: 0s - loss: 0.0361\n",
      "Epoch 7: val_loss did not improve from 0.02532\n",
      "3/3 [==============================] - 8s 3s/step - loss: 0.0361 - val_loss: 0.0878 - lr: 0.0100\n",
      "Epoch 8/30\n",
      "3/3 [==============================] - ETA: 0s - loss: 0.0344\n",
      "Epoch 8: val_loss did not improve from 0.02532\n",
      "3/3 [==============================] - 9s 3s/step - loss: 0.0344 - val_loss: 0.0854 - lr: 0.0100\n",
      "Epoch 9/30\n",
      "3/3 [==============================] - ETA: 0s - loss: 0.0287\n",
      "Epoch 9: val_loss did not improve from 0.02532\n",
      "3/3 [==============================] - 10s 3s/step - loss: 0.0287 - val_loss: 0.0258 - lr: 0.0100\n",
      "Epoch 10/30\n",
      "3/3 [==============================] - ETA: 0s - loss: 0.0273\n",
      "Epoch 10: val_loss did not improve from 0.02532\n",
      "3/3 [==============================] - 9s 3s/step - loss: 0.0273 - val_loss: 0.0822 - lr: 0.0100\n",
      "Epoch 11/30\n",
      "3/3 [==============================] - ETA: 0s - loss: 0.0255\n",
      "Epoch 11: val_loss did not improve from 0.02532\n",
      "3/3 [==============================] - 9s 3s/step - loss: 0.0255 - val_loss: 0.0388 - lr: 0.0100\n",
      "Epoch 12/30\n",
      "3/3 [==============================] - ETA: 0s - loss: 0.0270\n",
      "Epoch 12: val_loss improved from 0.02532 to 0.00766, saving model to weights.h5\n",
      "3/3 [==============================] - 9s 3s/step - loss: 0.0270 - val_loss: 0.0077 - lr: 0.0100\n",
      "Epoch 13/30\n",
      "3/3 [==============================] - ETA: 0s - loss: 0.0218\n",
      "Epoch 13: val_loss did not improve from 0.00766\n",
      "3/3 [==============================] - 9s 3s/step - loss: 0.0218 - val_loss: 0.0526 - lr: 0.0100\n",
      "Epoch 14/30\n",
      "3/3 [==============================] - ETA: 0s - loss: 0.0244\n",
      "Epoch 14: val_loss did not improve from 0.00766\n",
      "3/3 [==============================] - 8s 3s/step - loss: 0.0244 - val_loss: 0.0326 - lr: 0.0100\n",
      "Epoch 15/30\n",
      "3/3 [==============================] - ETA: 0s - loss: 0.0271\n",
      "Epoch 15: val_loss did not improve from 0.00766\n",
      "3/3 [==============================] - 9s 3s/step - loss: 0.0271 - val_loss: 0.0199 - lr: 0.0100\n",
      "Epoch 16/30\n",
      "3/3 [==============================] - ETA: 0s - loss: 0.0200\n",
      "Epoch 16: val_loss did not improve from 0.00766\n",
      "3/3 [==============================] - 11s 3s/step - loss: 0.0200 - val_loss: 0.0529 - lr: 0.0100\n",
      "Epoch 17/30\n",
      "3/3 [==============================] - ETA: 0s - loss: 0.0244\n",
      "Epoch 17: val_loss did not improve from 0.00766\n",
      "3/3 [==============================] - 9s 3s/step - loss: 0.0244 - val_loss: 0.0302 - lr: 0.0100\n",
      "Epoch 18/30\n",
      "3/3 [==============================] - ETA: 0s - loss: 0.0206\n",
      "Epoch 18: val_loss did not improve from 0.00766\n",
      "3/3 [==============================] - 10s 3s/step - loss: 0.0206 - val_loss: 0.0302 - lr: 0.0100\n",
      "Epoch 19/30\n",
      "3/3 [==============================] - ETA: 0s - loss: 0.0249\n",
      "Epoch 19: val_loss did not improve from 0.00766\n",
      "3/3 [==============================] - 9s 3s/step - loss: 0.0249 - val_loss: 0.0340 - lr: 0.0100\n",
      "Epoch 20/30\n",
      "3/3 [==============================] - ETA: 0s - loss: 0.0221\n",
      "Epoch 20: val_loss did not improve from 0.00766\n",
      "3/3 [==============================] - 9s 3s/step - loss: 0.0221 - val_loss: 0.0120 - lr: 0.0100\n",
      "Epoch 21/30\n",
      "3/3 [==============================] - ETA: 0s - loss: 0.0222\n",
      "Epoch 21: val_loss did not improve from 0.00766\n",
      "3/3 [==============================] - 9s 3s/step - loss: 0.0222 - val_loss: 0.0527 - lr: 0.0100\n",
      "Epoch 22/30\n",
      "3/3 [==============================] - ETA: 0s - loss: 0.0197\n",
      "Epoch 22: ReduceLROnPlateau reducing learning rate to 0.004999999888241291.\n",
      "\n",
      "Epoch 22: val_loss did not improve from 0.00766\n",
      "3/3 [==============================] - 8s 3s/step - loss: 0.0197 - val_loss: 0.0085 - lr: 0.0100\n",
      "Epoch 22: early stopping\n",
      "Wall time: 3min 12s\n"
     ]
    }
   ],
   "source": [
    "%%time\n",
    "es = EarlyStopping(monitor='val_loss', min_delta=1e-10, patience=10, verbose=1)\n",
    "rlr = ReduceLROnPlateau(monitor='val_loss', factor=0.5, patience=10, verbose=1)\n",
    "mcp = ModelCheckpoint(filepath='weights.h5', monitor='val_loss', verbose=1, save_best_only=True, save_weights_only=True)\n",
    "\n",
    "tb = TensorBoard('logs')\n",
    "\n",
    "history = model.fit(X_train, y_train, shuffle=True, epochs=30, callbacks=[es, rlr, mcp, tb], validation_split=0.2, verbose=1, batch_size=256)"
   ]
  },
  {
   "cell_type": "markdown",
   "metadata": {},
   "source": [
    "Notes:\n",
    "- EarlyStopping - Stop training when a monitored metric has stopped improving.\n",
    "- monitor - quantity to be monitored.\n",
    "- min_delta - minimum change in the monitored quantity to qualify as an improvement, i.e. an absolute change of less than min_delta, will count as no improvement.\n",
    "- patience - number of epochs with no improvement after which training will be stopped.\n",
    "- ReduceLROnPlateau - Reduce learning rate when a metric has stopped improving.\n",
    "- factor - factor by which the learning rate will be reduced. new_lr = lr * factor."
   ]
  },
  {
   "cell_type": "markdown",
   "metadata": {},
   "source": [
    "PART 3. Make future predictions"
   ]
  },
  {
   "cell_type": "code",
   "execution_count": 141,
   "metadata": {},
   "outputs": [],
   "source": [
    "# Generate list of sequence of days for predictions\n",
    "datelist_future = pd.date_range(datelist_train[-1], periods=n_future, freq='7d').tolist()\n",
    "\n",
    "'''\n",
    "Remember, we have datelist_train from begining.\n",
    "'''\n",
    "\n",
    "# Convert Pandas Timestamp to Datetime object (for transformation) --> FUTURE\n",
    "datelist_future_ = []\n",
    "for this_timestamp in datelist_future:\n",
    "    datelist_future_.append(this_timestamp.date())"
   ]
  },
  {
   "cell_type": "markdown",
   "metadata": {},
   "source": [
    "Step #5. Make predictions for future dates"
   ]
  },
  {
   "cell_type": "code",
   "execution_count": 142,
   "metadata": {},
   "outputs": [
    {
     "name": "stdout",
     "output_type": "stream",
     "text": [
      "1/1 [==============================] - 1s 925ms/step\n",
      "12/12 [==============================] - 2s 136ms/step\n"
     ]
    }
   ],
   "source": [
    "# Perform predictions\n",
    "predictions_future = model.predict(X_train[-n_future:])\n",
    "\n",
    "predictions_train = model.predict(X_train[n_past:])"
   ]
  },
  {
   "cell_type": "code",
   "execution_count": 143,
   "metadata": {},
   "outputs": [
    {
     "data": {
      "text/html": [
       "<div>\n",
       "<style scoped>\n",
       "    .dataframe tbody tr th:only-of-type {\n",
       "        vertical-align: middle;\n",
       "    }\n",
       "\n",
       "    .dataframe tbody tr th {\n",
       "        vertical-align: top;\n",
       "    }\n",
       "\n",
       "    .dataframe thead th {\n",
       "        text-align: right;\n",
       "    }\n",
       "</style>\n",
       "<table border=\"1\" class=\"dataframe\">\n",
       "  <thead>\n",
       "    <tr style=\"text-align: right;\">\n",
       "      <th></th>\n",
       "      <th>Adj Close</th>\n",
       "    </tr>\n",
       "  </thead>\n",
       "  <tbody>\n",
       "    <tr>\n",
       "      <th>2021-01-12</th>\n",
       "      <td>1934.911377</td>\n",
       "    </tr>\n",
       "    <tr>\n",
       "      <th>2021-01-13</th>\n",
       "      <td>1944.749268</td>\n",
       "    </tr>\n",
       "    <tr>\n",
       "      <th>2021-01-14</th>\n",
       "      <td>1965.608398</td>\n",
       "    </tr>\n",
       "    <tr>\n",
       "      <th>2021-01-15</th>\n",
       "      <td>1975.073364</td>\n",
       "    </tr>\n",
       "    <tr>\n",
       "      <th>2021-01-18</th>\n",
       "      <td>1987.115723</td>\n",
       "    </tr>\n",
       "    <tr>\n",
       "      <th>...</th>\n",
       "      <td>...</td>\n",
       "    </tr>\n",
       "    <tr>\n",
       "      <th>2022-07-11</th>\n",
       "      <td>2351.821533</td>\n",
       "    </tr>\n",
       "    <tr>\n",
       "      <th>2022-07-12</th>\n",
       "      <td>2366.435059</td>\n",
       "    </tr>\n",
       "    <tr>\n",
       "      <th>2022-07-13</th>\n",
       "      <td>2346.842285</td>\n",
       "    </tr>\n",
       "    <tr>\n",
       "      <th>2022-07-14</th>\n",
       "      <td>2320.711670</td>\n",
       "    </tr>\n",
       "    <tr>\n",
       "      <th>2022-07-15</th>\n",
       "      <td>2324.974121</td>\n",
       "    </tr>\n",
       "  </tbody>\n",
       "</table>\n",
       "<p>375 rows × 1 columns</p>\n",
       "</div>"
      ],
      "text/plain": [
       "              Adj Close\n",
       "2021-01-12  1934.911377\n",
       "2021-01-13  1944.749268\n",
       "2021-01-14  1965.608398\n",
       "2021-01-15  1975.073364\n",
       "2021-01-18  1987.115723\n",
       "...                 ...\n",
       "2022-07-11  2351.821533\n",
       "2022-07-12  2366.435059\n",
       "2022-07-13  2346.842285\n",
       "2022-07-14  2320.711670\n",
       "2022-07-15  2324.974121\n",
       "\n",
       "[375 rows x 1 columns]"
      ]
     },
     "execution_count": 143,
     "metadata": {},
     "output_type": "execute_result"
    }
   ],
   "source": [
    "# Inverse the predictions to original measurements\n",
    "\n",
    "# ---> Special function: convert <datetime.date> to <Timestamp>\n",
    "def datetime_to_timestamp(x):\n",
    "    '''\n",
    "        x : a given datetime value (datetime.date)\n",
    "    '''\n",
    "    return datetime.strptime(x.strftime('%Y%m%d'), '%Y%m%d')\n",
    "\n",
    "\n",
    "y_pred_future = sc_predict.inverse_transform(predictions_future)\n",
    "y_pred_train = sc_predict.inverse_transform(predictions_train)\n",
    "\n",
    "PREDICTIONS_FUTURE = pd.DataFrame(y_pred_future, columns=['Adj Close']).set_index(pd.Series(datelist_future))\n",
    "PREDICTION_TRAIN = pd.DataFrame(y_pred_train, columns=['Adj Close']).set_index(pd.Series(datelist_train[2 * n_past + n_future -1:]))\n",
    "\n",
    "# Convert <datetime.date> to <Timestamp> for PREDCITION_TRAIN\n",
    "PREDICTION_TRAIN.index = PREDICTION_TRAIN.index.to_series().apply(datetime_to_timestamp)\n",
    "\n",
    "PREDICTION_TRAIN"
   ]
  },
  {
   "cell_type": "code",
   "execution_count": 144,
   "metadata": {},
   "outputs": [
    {
     "data": {
      "text/html": [
       "<div>\n",
       "<style scoped>\n",
       "    .dataframe tbody tr th:only-of-type {\n",
       "        vertical-align: middle;\n",
       "    }\n",
       "\n",
       "    .dataframe tbody tr th {\n",
       "        vertical-align: top;\n",
       "    }\n",
       "\n",
       "    .dataframe thead th {\n",
       "        text-align: right;\n",
       "    }\n",
       "</style>\n",
       "<table border=\"1\" class=\"dataframe\">\n",
       "  <thead>\n",
       "    <tr style=\"text-align: right;\">\n",
       "      <th></th>\n",
       "      <th>Adj Close</th>\n",
       "    </tr>\n",
       "  </thead>\n",
       "  <tbody>\n",
       "    <tr>\n",
       "      <th>2022-07-15</th>\n",
       "      <td>2419.726074</td>\n",
       "    </tr>\n",
       "    <tr>\n",
       "      <th>2022-07-22</th>\n",
       "      <td>2389.582275</td>\n",
       "    </tr>\n",
       "    <tr>\n",
       "      <th>2022-07-29</th>\n",
       "      <td>2366.820068</td>\n",
       "    </tr>\n",
       "    <tr>\n",
       "      <th>2022-08-05</th>\n",
       "      <td>2343.198242</td>\n",
       "    </tr>\n",
       "    <tr>\n",
       "      <th>2022-08-12</th>\n",
       "      <td>2331.730225</td>\n",
       "    </tr>\n",
       "  </tbody>\n",
       "</table>\n",
       "</div>"
      ],
      "text/plain": [
       "              Adj Close\n",
       "2022-07-15  2419.726074\n",
       "2022-07-22  2389.582275\n",
       "2022-07-29  2366.820068\n",
       "2022-08-05  2343.198242\n",
       "2022-08-12  2331.730225"
      ]
     },
     "execution_count": 144,
     "metadata": {},
     "output_type": "execute_result"
    }
   ],
   "source": [
    "PREDICTIONS_FUTURE.index = PREDICTIONS_FUTURE.index.to_series().apply(datetime_to_timestamp)\n",
    "PREDICTIONS_FUTURE.head()"
   ]
  },
  {
   "cell_type": "markdown",
   "metadata": {},
   "source": [
    "Step #6. Visualize the Predictions"
   ]
  },
  {
   "cell_type": "code",
   "execution_count": 145,
   "metadata": {},
   "outputs": [],
   "source": [
    "# Parse training set timestamp for better visualization\n",
    "df_combined = pd.DataFrame(df_combined, columns=cols)\n",
    "df_combined.index = datelist_train\n",
    "df_combined.index = pd.to_datetime(df_combined.index)"
   ]
  },
  {
   "cell_type": "code",
   "execution_count": 146,
   "metadata": {},
   "outputs": [
    {
     "data": {
      "image/png": "[encoded data removed]",
      "text/plain": [
       "<Figure size 1008x360 with 1 Axes>"
      ]
     },
     "metadata": {
      "needs_background": "light"
     },
     "output_type": "display_data"
    }
   ],
   "source": [
    "# Set plot size \n",
    "from pylab import rcParams\n",
    "rcParams['figure.figsize'] = 14, 5\n",
    "\n",
    "# Plot parameters\n",
    "START_DATE_FOR_PLOTTING = '2016-12-13'\n",
    "\n",
    "plt.plot(PREDICTIONS_FUTURE.index, PREDICTIONS_FUTURE['Adj Close'], color='r', label='Predicted Stock Price')\n",
    "plt.plot(PREDICTION_TRAIN.loc[START_DATE_FOR_PLOTTING:].index, PREDICTION_TRAIN.loc[START_DATE_FOR_PLOTTING:]['Adj Close'], color='orange', label='Training predictions')\n",
    "plt.plot(df_combined.loc[START_DATE_FOR_PLOTTING:].index, df_combined.loc[START_DATE_FOR_PLOTTING:]['Adj Close'], color='b', label='Actual Stock Price')\n",
    "\n",
    "plt.axvline(x = min(PREDICTIONS_FUTURE.index), color='green', linewidth=2, linestyle='--')\n",
    "\n",
    "plt.grid(which='major', color='#cccccc', alpha=0.5)\n",
    "\n",
    "plt.legend(shadow=True)\n",
    "plt.title('Predictions and Actual Stock Prices', family='Arial', fontsize=12)\n",
    "plt.xlabel('Timeline', family='Arial', fontsize=10)\n",
    "plt.ylabel('Stock Price Value', family='Arial', fontsize=10)\n",
    "plt.xticks(rotation=45, fontsize=8)\n",
    "plt.show()"
   ]
  },
  {
   "cell_type": "markdown",
   "metadata": {},
   "source": [
    "Saving the model"
   ]
  },
  {
   "cell_type": "code",
   "execution_count": 147,
   "metadata": {},
   "outputs": [
    {
     "name": "stdout",
     "output_type": "stream",
     "text": [
      "Saved model to disk\n"
     ]
    }
   ],
   "source": [
    "\n",
    "# save model and architecture to single file\n",
    "model.save(\"model_new1.h5\")\n",
    "print(\"Saved model to disk\")"
   ]
  }
 ],
 "metadata": {
  "kernelspec": {
   "display_name": "Python 3.9.7 ('base')",
   "language": "python",
   "name": "python3"
  },
  "language_info": {
   "codemirror_mode": {
    "name": "ipython",
    "version": 3
   },
   "file_extension": ".py",
   "mimetype": "text/x-python",
   "name": "python",
   "nbconvert_exporter": "python",
   "pygments_lexer": "ipython3",
   "version": "3.9.7"
  },
  "orig_nbformat": 4,
  "vscode": {
   "interpreter": {
    "hash": "2b9f91ff83407beeef0ca992536d5a2e5f8bb88641087e9da4ef24875be3a70b"
   }
  }
 },
 "nbformat": 4,
 "nbformat_minor": 2
}
