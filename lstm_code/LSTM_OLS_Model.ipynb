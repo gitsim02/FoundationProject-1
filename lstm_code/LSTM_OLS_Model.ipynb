{
 "cells": [
  {
   "cell_type": "markdown",
   "metadata": {},
   "source": [
    "## FOUNDATIONAL PROJECT 1"
   ]
  },
  {
   "cell_type": "code",
   "execution_count": 1,
   "metadata": {},
   "outputs": [],
   "source": [
    "# Import Libraries\n",
    "\n",
    "import pandas as pd\n",
    "import numpy as np\n",
    "from matplotlib import pyplot as plt\n",
    "plt.style.use('fivethirtyeight')\n",
    "\n",
    "from keras.optimizers import Adam\n",
    "import statistics\n",
    "import seaborn as sns\n",
    "from datetime import datetime, date\n",
    "from sklearn.model_selection import train_test_split\n",
    "from sklearn.preprocessing import StandardScaler\n",
    "from sklearn.compose import ColumnTransformer\n",
    "from sklearn.pipeline import Pipeline\n",
    "from sklearn.linear_model import SGDRegressor,LogisticRegression\n",
    "from sklearn.metrics import mean_squared_error, r2_score,accuracy_score, recall_score, precision_score\n",
    "from sklearn.metrics import confusion_matrix, ConfusionMatrixDisplay, classification_report"
   ]
  },
  {
   "cell_type": "code",
   "execution_count": 2,
   "metadata": {},
   "outputs": [
    {
     "data": {
      "text/html": [
       "<div>\n",
       "<style scoped>\n",
       "    .dataframe tbody tr th:only-of-type {\n",
       "        vertical-align: middle;\n",
       "    }\n",
       "\n",
       "    .dataframe tbody tr th {\n",
       "        vertical-align: top;\n",
       "    }\n",
       "\n",
       "    .dataframe thead th {\n",
       "        text-align: right;\n",
       "    }\n",
       "</style>\n",
       "<table border=\"1\" class=\"dataframe\">\n",
       "  <thead>\n",
       "    <tr style=\"text-align: right;\">\n",
       "      <th></th>\n",
       "      <th>date</th>\n",
       "      <th>title_senti_comp</th>\n",
       "      <th>news_senti_comp</th>\n",
       "      <th>avg_senti_comp</th>\n",
       "    </tr>\n",
       "  </thead>\n",
       "  <tbody>\n",
       "    <tr>\n",
       "      <th>0</th>\n",
       "      <td>2016-08-01</td>\n",
       "      <td>0.0000</td>\n",
       "      <td>0.6369</td>\n",
       "      <td>0.320</td>\n",
       "    </tr>\n",
       "    <tr>\n",
       "      <th>1</th>\n",
       "      <td>2016-08-05</td>\n",
       "      <td>0.0000</td>\n",
       "      <td>0.7829</td>\n",
       "      <td>0.390</td>\n",
       "    </tr>\n",
       "    <tr>\n",
       "      <th>2</th>\n",
       "      <td>2016-08-18</td>\n",
       "      <td>0.0000</td>\n",
       "      <td>0.8402</td>\n",
       "      <td>0.420</td>\n",
       "    </tr>\n",
       "    <tr>\n",
       "      <th>3</th>\n",
       "      <td>2016-08-19</td>\n",
       "      <td>-0.4588</td>\n",
       "      <td>-0.7239</td>\n",
       "      <td>-0.590</td>\n",
       "    </tr>\n",
       "    <tr>\n",
       "      <th>4</th>\n",
       "      <td>2016-08-30</td>\n",
       "      <td>0.0000</td>\n",
       "      <td>0.8824</td>\n",
       "      <td>0.445</td>\n",
       "    </tr>\n",
       "  </tbody>\n",
       "</table>\n",
       "</div>"
      ],
      "text/plain": [
       "         date  title_senti_comp  news_senti_comp  avg_senti_comp\n",
       "0  2016-08-01            0.0000           0.6369           0.320\n",
       "1  2016-08-05            0.0000           0.7829           0.390\n",
       "2  2016-08-18            0.0000           0.8402           0.420\n",
       "3  2016-08-19           -0.4588          -0.7239          -0.590\n",
       "4  2016-08-30            0.0000           0.8824           0.445"
      ]
     },
     "execution_count": 2,
     "metadata": {},
     "output_type": "execute_result"
    }
   ],
   "source": [
    "df_news = pd.read_csv(\"https://raw.githubusercontent.com/gitsim02/FoundationProject-1/main/Reliance_sentiment.csv\")\n",
    "df_news.head()"
   ]
  },
  {
   "cell_type": "code",
   "execution_count": 3,
   "metadata": {},
   "outputs": [
    {
     "name": "stdout",
     "output_type": "stream",
     "text": [
      "<class 'pandas.core.frame.DataFrame'>\n",
      "RangeIndex: 654 entries, 0 to 653\n",
      "Data columns (total 4 columns):\n",
      " #   Column            Non-Null Count  Dtype  \n",
      "---  ------            --------------  -----  \n",
      " 0   date              654 non-null    object \n",
      " 1   title_senti_comp  654 non-null    float64\n",
      " 2   news_senti_comp   654 non-null    float64\n",
      " 3   avg_senti_comp    654 non-null    float64\n",
      "dtypes: float64(3), object(1)\n",
      "memory usage: 20.6+ KB\n"
     ]
    }
   ],
   "source": [
    "df_news.info()"
   ]
  },
  {
   "cell_type": "code",
   "execution_count": 4,
   "metadata": {},
   "outputs": [
    {
     "data": {
      "text/html": [
       "<div>\n",
       "<style scoped>\n",
       "    .dataframe tbody tr th:only-of-type {\n",
       "        vertical-align: middle;\n",
       "    }\n",
       "\n",
       "    .dataframe tbody tr th {\n",
       "        vertical-align: top;\n",
       "    }\n",
       "\n",
       "    .dataframe thead th {\n",
       "        text-align: right;\n",
       "    }\n",
       "</style>\n",
       "<table border=\"1\" class=\"dataframe\">\n",
       "  <thead>\n",
       "    <tr style=\"text-align: right;\">\n",
       "      <th></th>\n",
       "      <th>Date</th>\n",
       "      <th>Open</th>\n",
       "      <th>High</th>\n",
       "      <th>Low</th>\n",
       "      <th>Close</th>\n",
       "      <th>Adj Close</th>\n",
       "      <th>Volume</th>\n",
       "      <th>1d_diff</th>\n",
       "      <th>5d_diff</th>\n",
       "      <th>10d_diff</th>\n",
       "      <th>...</th>\n",
       "      <th>SMA5</th>\n",
       "      <th>SMA9</th>\n",
       "      <th>SMA15</th>\n",
       "      <th>SMA30</th>\n",
       "      <th>EMA3</th>\n",
       "      <th>EMA5</th>\n",
       "      <th>EMA9</th>\n",
       "      <th>EMA15</th>\n",
       "      <th>EMA30</th>\n",
       "      <th>Volume_100k</th>\n",
       "    </tr>\n",
       "  </thead>\n",
       "  <tbody>\n",
       "    <tr>\n",
       "      <th>0</th>\n",
       "      <td>2016-12-13</td>\n",
       "      <td>509.173553</td>\n",
       "      <td>515.612488</td>\n",
       "      <td>508.950653</td>\n",
       "      <td>515.018127</td>\n",
       "      <td>501.832367</td>\n",
       "      <td>4783826</td>\n",
       "      <td>-9.757507</td>\n",
       "      <td>-8.965027</td>\n",
       "      <td>-12.333130</td>\n",
       "      <td>...</td>\n",
       "      <td>506.711877</td>\n",
       "      <td>501.177117</td>\n",
       "      <td>497.654399</td>\n",
       "      <td>497.400968</td>\n",
       "      <td>510.925976</td>\n",
       "      <td>507.810375</td>\n",
       "      <td>503.683619</td>\n",
       "      <td>500.984710</td>\n",
       "      <td>501.394308</td>\n",
       "      <td>47.838</td>\n",
       "    </tr>\n",
       "    <tr>\n",
       "      <th>1</th>\n",
       "      <td>2016-12-14</td>\n",
       "      <td>515.018127</td>\n",
       "      <td>527.227417</td>\n",
       "      <td>514.225647</td>\n",
       "      <td>524.775635</td>\n",
       "      <td>511.339996</td>\n",
       "      <td>11140265</td>\n",
       "      <td>3.244202</td>\n",
       "      <td>-1.857422</td>\n",
       "      <td>4.853943</td>\n",
       "      <td>...</td>\n",
       "      <td>512.690204</td>\n",
       "      <td>504.575460</td>\n",
       "      <td>499.321924</td>\n",
       "      <td>497.541305</td>\n",
       "      <td>517.850805</td>\n",
       "      <td>513.465462</td>\n",
       "      <td>507.902022</td>\n",
       "      <td>503.958576</td>\n",
       "      <td>502.902781</td>\n",
       "      <td>111.403</td>\n",
       "    </tr>\n",
       "    <tr>\n",
       "      <th>2</th>\n",
       "      <td>2016-12-15</td>\n",
       "      <td>521.258972</td>\n",
       "      <td>528.787598</td>\n",
       "      <td>519.401611</td>\n",
       "      <td>521.531433</td>\n",
       "      <td>508.178925</td>\n",
       "      <td>8921708</td>\n",
       "      <td>-2.080261</td>\n",
       "      <td>-0.198120</td>\n",
       "      <td>-6.191284</td>\n",
       "      <td>...</td>\n",
       "      <td>515.949316</td>\n",
       "      <td>507.778436</td>\n",
       "      <td>501.488059</td>\n",
       "      <td>498.023402</td>\n",
       "      <td>519.691119</td>\n",
       "      <td>516.154119</td>\n",
       "      <td>510.627905</td>\n",
       "      <td>506.155183</td>\n",
       "      <td>504.104629</td>\n",
       "      <td>89.217</td>\n",
       "    </tr>\n",
       "    <tr>\n",
       "      <th>3</th>\n",
       "      <td>2016-12-16</td>\n",
       "      <td>521.060852</td>\n",
       "      <td>526.013916</td>\n",
       "      <td>521.060852</td>\n",
       "      <td>523.611694</td>\n",
       "      <td>510.205872</td>\n",
       "      <td>6895825</td>\n",
       "      <td>-2.674622</td>\n",
       "      <td>-0.074280</td>\n",
       "      <td>-12.506470</td>\n",
       "      <td>...</td>\n",
       "      <td>518.742841</td>\n",
       "      <td>511.262082</td>\n",
       "      <td>503.583201</td>\n",
       "      <td>498.571539</td>\n",
       "      <td>521.651407</td>\n",
       "      <td>518.639977</td>\n",
       "      <td>513.224663</td>\n",
       "      <td>508.337247</td>\n",
       "      <td>505.363150</td>\n",
       "      <td>68.958</td>\n",
       "    </tr>\n",
       "    <tr>\n",
       "      <th>4</th>\n",
       "      <td>2016-12-19</td>\n",
       "      <td>522.546753</td>\n",
       "      <td>528.465698</td>\n",
       "      <td>522.224854</td>\n",
       "      <td>526.286316</td>\n",
       "      <td>512.812012</td>\n",
       "      <td>6926943</td>\n",
       "      <td>2.303162</td>\n",
       "      <td>7.479065</td>\n",
       "      <td>-11.169128</td>\n",
       "      <td>...</td>\n",
       "      <td>522.244641</td>\n",
       "      <td>514.418274</td>\n",
       "      <td>506.089443</td>\n",
       "      <td>499.512618</td>\n",
       "      <td>523.968861</td>\n",
       "      <td>521.188757</td>\n",
       "      <td>515.836993</td>\n",
       "      <td>510.580880</td>\n",
       "      <td>506.713031</td>\n",
       "      <td>69.269</td>\n",
       "    </tr>\n",
       "  </tbody>\n",
       "</table>\n",
       "<p>5 rows × 21 columns</p>\n",
       "</div>"
      ],
      "text/plain": [
       "         Date        Open        High         Low       Close   Adj Close  \\\n",
       "0  2016-12-13  509.173553  515.612488  508.950653  515.018127  501.832367   \n",
       "1  2016-12-14  515.018127  527.227417  514.225647  524.775635  511.339996   \n",
       "2  2016-12-15  521.258972  528.787598  519.401611  521.531433  508.178925   \n",
       "3  2016-12-16  521.060852  526.013916  521.060852  523.611694  510.205872   \n",
       "4  2016-12-19  522.546753  528.465698  522.224854  526.286316  512.812012   \n",
       "\n",
       "     Volume   1d_diff   5d_diff   10d_diff  ...        SMA5        SMA9  \\\n",
       "0   4783826 -9.757507 -8.965027 -12.333130  ...  506.711877  501.177117   \n",
       "1  11140265  3.244202 -1.857422   4.853943  ...  512.690204  504.575460   \n",
       "2   8921708 -2.080261 -0.198120  -6.191284  ...  515.949316  507.778436   \n",
       "3   6895825 -2.674622 -0.074280 -12.506470  ...  518.742841  511.262082   \n",
       "4   6926943  2.303162  7.479065 -11.169128  ...  522.244641  514.418274   \n",
       "\n",
       "        SMA15       SMA30        EMA3        EMA5        EMA9       EMA15  \\\n",
       "0  497.654399  497.400968  510.925976  507.810375  503.683619  500.984710   \n",
       "1  499.321924  497.541305  517.850805  513.465462  507.902022  503.958576   \n",
       "2  501.488059  498.023402  519.691119  516.154119  510.627905  506.155183   \n",
       "3  503.583201  498.571539  521.651407  518.639977  513.224663  508.337247   \n",
       "4  506.089443  499.512618  523.968861  521.188757  515.836993  510.580880   \n",
       "\n",
       "        EMA30  Volume_100k  \n",
       "0  501.394308       47.838  \n",
       "1  502.902781      111.403  \n",
       "2  504.104629       89.217  \n",
       "3  505.363150       68.958  \n",
       "4  506.713031       69.269  \n",
       "\n",
       "[5 rows x 21 columns]"
      ]
     },
     "execution_count": 4,
     "metadata": {},
     "output_type": "execute_result"
    }
   ],
   "source": [
    "df_price = pd.read_csv(\"https://raw.githubusercontent.com/gitsim02/FoundationProject-1/main/reliance_prices.csv\")\n",
    "df_price.head()"
   ]
  },
  {
   "cell_type": "code",
   "execution_count": 5,
   "metadata": {},
   "outputs": [
    {
     "name": "stdout",
     "output_type": "stream",
     "text": [
      "<class 'pandas.core.frame.DataFrame'>\n",
      "RangeIndex: 1384 entries, 0 to 1383\n",
      "Data columns (total 21 columns):\n",
      " #   Column       Non-Null Count  Dtype  \n",
      "---  ------       --------------  -----  \n",
      " 0   Date         1384 non-null   object \n",
      " 1   Open         1384 non-null   float64\n",
      " 2   High         1384 non-null   float64\n",
      " 3   Low          1384 non-null   float64\n",
      " 4   Close        1384 non-null   float64\n",
      " 5   Adj Close    1384 non-null   float64\n",
      " 6   Volume       1384 non-null   int64  \n",
      " 7   1d_diff      1384 non-null   float64\n",
      " 8   5d_diff      1384 non-null   float64\n",
      " 9   10d_diff     1384 non-null   float64\n",
      " 10  SMA3         1384 non-null   float64\n",
      " 11  SMA5         1384 non-null   float64\n",
      " 12  SMA9         1384 non-null   float64\n",
      " 13  SMA15        1384 non-null   float64\n",
      " 14  SMA30        1384 non-null   float64\n",
      " 15  EMA3         1384 non-null   float64\n",
      " 16  EMA5         1384 non-null   float64\n",
      " 17  EMA9         1384 non-null   float64\n",
      " 18  EMA15        1384 non-null   float64\n",
      " 19  EMA30        1384 non-null   float64\n",
      " 20  Volume_100k  1384 non-null   float64\n",
      "dtypes: float64(19), int64(1), object(1)\n",
      "memory usage: 227.2+ KB\n"
     ]
    }
   ],
   "source": [
    "df_price.info()"
   ]
  },
  {
   "cell_type": "code",
   "execution_count": 6,
   "metadata": {},
   "outputs": [],
   "source": [
    "# Converting Dates to datetime\n",
    "\n",
    "df_news['date'] = pd.to_datetime(df_news.date)\n",
    "df_price['Date'] = pd.to_datetime(df_price.Date)"
   ]
  },
  {
   "cell_type": "code",
   "execution_count": 7,
   "metadata": {},
   "outputs": [
    {
     "data": {
      "text/html": [
       "<div>\n",
       "<style scoped>\n",
       "    .dataframe tbody tr th:only-of-type {\n",
       "        vertical-align: middle;\n",
       "    }\n",
       "\n",
       "    .dataframe tbody tr th {\n",
       "        vertical-align: top;\n",
       "    }\n",
       "\n",
       "    .dataframe thead th {\n",
       "        text-align: right;\n",
       "    }\n",
       "</style>\n",
       "<table border=\"1\" class=\"dataframe\">\n",
       "  <thead>\n",
       "    <tr style=\"text-align: right;\">\n",
       "      <th></th>\n",
       "      <th>Date</th>\n",
       "      <th>Open</th>\n",
       "      <th>High</th>\n",
       "      <th>Low</th>\n",
       "      <th>Close</th>\n",
       "      <th>Adj Close</th>\n",
       "      <th>Volume</th>\n",
       "      <th>1d_diff</th>\n",
       "      <th>5d_diff</th>\n",
       "      <th>10d_diff</th>\n",
       "      <th>...</th>\n",
       "      <th>SMA30</th>\n",
       "      <th>EMA3</th>\n",
       "      <th>EMA5</th>\n",
       "      <th>EMA9</th>\n",
       "      <th>EMA15</th>\n",
       "      <th>EMA30</th>\n",
       "      <th>Volume_100k</th>\n",
       "      <th>title_senti_comp</th>\n",
       "      <th>news_senti_comp</th>\n",
       "      <th>avg_senti_comp</th>\n",
       "    </tr>\n",
       "  </thead>\n",
       "  <tbody>\n",
       "    <tr>\n",
       "      <th>1379</th>\n",
       "      <td>2022-07-11</td>\n",
       "      <td>2376.500000</td>\n",
       "      <td>2428.800049</td>\n",
       "      <td>2370.000000</td>\n",
       "      <td>2423.899902</td>\n",
       "      <td>2423.899902</td>\n",
       "      <td>6390604</td>\n",
       "      <td>3.449951</td>\n",
       "      <td>1.649902</td>\n",
       "      <td>3.500000</td>\n",
       "      <td>...</td>\n",
       "      <td>2574.979997</td>\n",
       "      <td>2411.709763</td>\n",
       "      <td>2417.687410</td>\n",
       "      <td>2439.967735</td>\n",
       "      <td>2472.975022</td>\n",
       "      <td>2523.815943</td>\n",
       "      <td>63.906</td>\n",
       "      <td>NaN</td>\n",
       "      <td>NaN</td>\n",
       "      <td>NaN</td>\n",
       "    </tr>\n",
       "    <tr>\n",
       "      <th>1380</th>\n",
       "      <td>2022-07-12</td>\n",
       "      <td>2404.000000</td>\n",
       "      <td>2439.699951</td>\n",
       "      <td>2404.000000</td>\n",
       "      <td>2420.449951</td>\n",
       "      <td>2420.449951</td>\n",
       "      <td>4974502</td>\n",
       "      <td>42.899902</td>\n",
       "      <td>-16.650146</td>\n",
       "      <td>-1.050049</td>\n",
       "      <td>...</td>\n",
       "      <td>2567.906665</td>\n",
       "      <td>2416.079857</td>\n",
       "      <td>2418.608257</td>\n",
       "      <td>2436.064178</td>\n",
       "      <td>2466.409388</td>\n",
       "      <td>2517.147169</td>\n",
       "      <td>49.745</td>\n",
       "      <td>NaN</td>\n",
       "      <td>NaN</td>\n",
       "      <td>NaN</td>\n",
       "    </tr>\n",
       "    <tr>\n",
       "      <th>1381</th>\n",
       "      <td>2022-07-13</td>\n",
       "      <td>2427.300049</td>\n",
       "      <td>2434.000000</td>\n",
       "      <td>2373.000000</td>\n",
       "      <td>2377.550049</td>\n",
       "      <td>2377.550049</td>\n",
       "      <td>6564435</td>\n",
       "      <td>-19.599854</td>\n",
       "      <td>-125.449951</td>\n",
       "      <td>-41.649902</td>\n",
       "      <td>...</td>\n",
       "      <td>2559.375000</td>\n",
       "      <td>2396.814953</td>\n",
       "      <td>2404.922187</td>\n",
       "      <td>2424.361352</td>\n",
       "      <td>2455.301971</td>\n",
       "      <td>2508.140903</td>\n",
       "      <td>65.644</td>\n",
       "      <td>0.0</td>\n",
       "      <td>-0.0772</td>\n",
       "      <td>-0.04</td>\n",
       "    </tr>\n",
       "    <tr>\n",
       "      <th>1382</th>\n",
       "      <td>2022-07-14</td>\n",
       "      <td>2388.000000</td>\n",
       "      <td>2433.949951</td>\n",
       "      <td>2376.949951</td>\n",
       "      <td>2397.149902</td>\n",
       "      <td>2397.149902</td>\n",
       "      <td>7831798</td>\n",
       "      <td>-4.650146</td>\n",
       "      <td>-89.150146</td>\n",
       "      <td>-59.950195</td>\n",
       "      <td>...</td>\n",
       "      <td>2548.469995</td>\n",
       "      <td>2396.982428</td>\n",
       "      <td>2402.331426</td>\n",
       "      <td>2418.919062</td>\n",
       "      <td>2448.032962</td>\n",
       "      <td>2500.980193</td>\n",
       "      <td>78.318</td>\n",
       "      <td>0.0</td>\n",
       "      <td>0.4703</td>\n",
       "      <td>0.24</td>\n",
       "    </tr>\n",
       "    <tr>\n",
       "      <th>1383</th>\n",
       "      <td>2022-07-15</td>\n",
       "      <td>2415.000000</td>\n",
       "      <td>2415.000000</td>\n",
       "      <td>2383.100098</td>\n",
       "      <td>2401.800049</td>\n",
       "      <td>2401.800049</td>\n",
       "      <td>4431880</td>\n",
       "      <td>-20.449951</td>\n",
       "      <td>-101.300049</td>\n",
       "      <td>-107.649902</td>\n",
       "      <td>...</td>\n",
       "      <td>2535.879997</td>\n",
       "      <td>2399.391238</td>\n",
       "      <td>2402.154300</td>\n",
       "      <td>2415.495260</td>\n",
       "      <td>2442.253848</td>\n",
       "      <td>2494.581474</td>\n",
       "      <td>44.319</td>\n",
       "      <td>NaN</td>\n",
       "      <td>NaN</td>\n",
       "      <td>NaN</td>\n",
       "    </tr>\n",
       "  </tbody>\n",
       "</table>\n",
       "<p>5 rows × 24 columns</p>\n",
       "</div>"
      ],
      "text/plain": [
       "           Date         Open         High          Low        Close  \\\n",
       "1379 2022-07-11  2376.500000  2428.800049  2370.000000  2423.899902   \n",
       "1380 2022-07-12  2404.000000  2439.699951  2404.000000  2420.449951   \n",
       "1381 2022-07-13  2427.300049  2434.000000  2373.000000  2377.550049   \n",
       "1382 2022-07-14  2388.000000  2433.949951  2376.949951  2397.149902   \n",
       "1383 2022-07-15  2415.000000  2415.000000  2383.100098  2401.800049   \n",
       "\n",
       "        Adj Close   Volume    1d_diff     5d_diff    10d_diff  ...  \\\n",
       "1379  2423.899902  6390604   3.449951    1.649902    3.500000  ...   \n",
       "1380  2420.449951  4974502  42.899902  -16.650146   -1.050049  ...   \n",
       "1381  2377.550049  6564435 -19.599854 -125.449951  -41.649902  ...   \n",
       "1382  2397.149902  7831798  -4.650146  -89.150146  -59.950195  ...   \n",
       "1383  2401.800049  4431880 -20.449951 -101.300049 -107.649902  ...   \n",
       "\n",
       "            SMA30         EMA3         EMA5         EMA9        EMA15  \\\n",
       "1379  2574.979997  2411.709763  2417.687410  2439.967735  2472.975022   \n",
       "1380  2567.906665  2416.079857  2418.608257  2436.064178  2466.409388   \n",
       "1381  2559.375000  2396.814953  2404.922187  2424.361352  2455.301971   \n",
       "1382  2548.469995  2396.982428  2402.331426  2418.919062  2448.032962   \n",
       "1383  2535.879997  2399.391238  2402.154300  2415.495260  2442.253848   \n",
       "\n",
       "            EMA30  Volume_100k  title_senti_comp  news_senti_comp  \\\n",
       "1379  2523.815943       63.906               NaN              NaN   \n",
       "1380  2517.147169       49.745               NaN              NaN   \n",
       "1381  2508.140903       65.644               0.0          -0.0772   \n",
       "1382  2500.980193       78.318               0.0           0.4703   \n",
       "1383  2494.581474       44.319               NaN              NaN   \n",
       "\n",
       "      avg_senti_comp  \n",
       "1379             NaN  \n",
       "1380             NaN  \n",
       "1381           -0.04  \n",
       "1382            0.24  \n",
       "1383             NaN  \n",
       "\n",
       "[5 rows x 24 columns]"
      ]
     },
     "execution_count": 7,
     "metadata": {},
     "output_type": "execute_result"
    }
   ],
   "source": [
    "# Combining both datasets\n",
    "\n",
    "df_combined = pd.merge(left=df_price,right=df_news,how=\"left\",left_on = 'Date',right_on='date')\n",
    "\n",
    "df_combined.drop(['date'],axis=1,inplace=True)\n",
    "\n",
    "df_combined.tail()"
   ]
  },
  {
   "cell_type": "code",
   "execution_count": 8,
   "metadata": {},
   "outputs": [
    {
     "data": {
      "text/plain": [
       "Date                  0\n",
       "Open                  0\n",
       "High                  0\n",
       "Low                   0\n",
       "Close                 0\n",
       "Adj Close             0\n",
       "Volume                0\n",
       "1d_diff               0\n",
       "5d_diff               0\n",
       "10d_diff              0\n",
       "SMA3                  0\n",
       "SMA5                  0\n",
       "SMA9                  0\n",
       "SMA15                 0\n",
       "SMA30                 0\n",
       "EMA3                  0\n",
       "EMA5                  0\n",
       "EMA9                  0\n",
       "EMA15                 0\n",
       "EMA30                 0\n",
       "Volume_100k           0\n",
       "title_senti_comp    846\n",
       "news_senti_comp     846\n",
       "avg_senti_comp      846\n",
       "dtype: int64"
      ]
     },
     "execution_count": 8,
     "metadata": {},
     "output_type": "execute_result"
    }
   ],
   "source": [
    "df_combined.isna().sum()"
   ]
  },
  {
   "cell_type": "code",
   "execution_count": 9,
   "metadata": {},
   "outputs": [
    {
     "data": {
      "text/plain": [
       "Date                0\n",
       "Open                0\n",
       "High                0\n",
       "Low                 0\n",
       "Close               0\n",
       "Adj Close           0\n",
       "Volume              0\n",
       "1d_diff             0\n",
       "5d_diff             0\n",
       "10d_diff            0\n",
       "SMA3                0\n",
       "SMA5                0\n",
       "SMA9                0\n",
       "SMA15               0\n",
       "SMA30               0\n",
       "EMA3                0\n",
       "EMA5                0\n",
       "EMA9                0\n",
       "EMA15               0\n",
       "EMA30               0\n",
       "Volume_100k         0\n",
       "title_senti_comp    0\n",
       "news_senti_comp     0\n",
       "avg_senti_comp      0\n",
       "dtype: int64"
      ]
     },
     "execution_count": 9,
     "metadata": {},
     "output_type": "execute_result"
    }
   ],
   "source": [
    "# Impute all the NaN with 0 as the sentiment score.\n",
    "\n",
    "df_combined.fillna(0.0,inplace=True)\n",
    "\n",
    "df_combined.isna().sum()"
   ]
  },
  {
   "cell_type": "markdown",
   "metadata": {},
   "source": [
    "## Time Series Forecasting\n",
    "\n"
   ]
  },
  {
   "cell_type": "code",
   "execution_count": 10,
   "metadata": {},
   "outputs": [
    {
     "data": {
      "text/plain": [
       "(Timestamp('2016-12-13 00:00:00'), Timestamp('2022-07-15 00:00:00'))"
      ]
     },
     "execution_count": 10,
     "metadata": {},
     "output_type": "execute_result"
    }
   ],
   "source": [
    "# convert it to the datetime64[ns] data type\n",
    "\n",
    "df_combined['Date'] = pd.to_datetime(df_combined.Date)\n",
    "\n",
    "df_combined.Date.min(),df_combined.Date.max()"
   ]
  },
  {
   "cell_type": "code",
   "execution_count": 11,
   "metadata": {},
   "outputs": [
    {
     "data": {
      "text/plain": [
       "Timedelta('2040 days 00:00:00')"
      ]
     },
     "execution_count": 11,
     "metadata": {},
     "output_type": "execute_result"
    }
   ],
   "source": [
    "df_combined.Date.max()-df_combined.Date.min()"
   ]
  },
  {
   "cell_type": "code",
   "execution_count": 12,
   "metadata": {},
   "outputs": [
    {
     "data": {
      "text/html": [
       "<div>\n",
       "<style scoped>\n",
       "    .dataframe tbody tr th:only-of-type {\n",
       "        vertical-align: middle;\n",
       "    }\n",
       "\n",
       "    .dataframe tbody tr th {\n",
       "        vertical-align: top;\n",
       "    }\n",
       "\n",
       "    .dataframe thead th {\n",
       "        text-align: right;\n",
       "    }\n",
       "</style>\n",
       "<table border=\"1\" class=\"dataframe\">\n",
       "  <thead>\n",
       "    <tr style=\"text-align: right;\">\n",
       "      <th></th>\n",
       "      <th>Open</th>\n",
       "      <th>High</th>\n",
       "      <th>Low</th>\n",
       "      <th>Close</th>\n",
       "      <th>Adj Close</th>\n",
       "      <th>Volume</th>\n",
       "      <th>1d_diff</th>\n",
       "      <th>5d_diff</th>\n",
       "      <th>10d_diff</th>\n",
       "      <th>SMA3</th>\n",
       "      <th>...</th>\n",
       "      <th>SMA30</th>\n",
       "      <th>EMA3</th>\n",
       "      <th>EMA5</th>\n",
       "      <th>EMA9</th>\n",
       "      <th>EMA15</th>\n",
       "      <th>EMA30</th>\n",
       "      <th>Volume_100k</th>\n",
       "      <th>title_senti_comp</th>\n",
       "      <th>news_senti_comp</th>\n",
       "      <th>avg_senti_comp</th>\n",
       "    </tr>\n",
       "    <tr>\n",
       "      <th>Date</th>\n",
       "      <th></th>\n",
       "      <th></th>\n",
       "      <th></th>\n",
       "      <th></th>\n",
       "      <th></th>\n",
       "      <th></th>\n",
       "      <th></th>\n",
       "      <th></th>\n",
       "      <th></th>\n",
       "      <th></th>\n",
       "      <th></th>\n",
       "      <th></th>\n",
       "      <th></th>\n",
       "      <th></th>\n",
       "      <th></th>\n",
       "      <th></th>\n",
       "      <th></th>\n",
       "      <th></th>\n",
       "      <th></th>\n",
       "      <th></th>\n",
       "      <th></th>\n",
       "    </tr>\n",
       "  </thead>\n",
       "  <tbody>\n",
       "    <tr>\n",
       "      <th>2016-12-13</th>\n",
       "      <td>509.173553</td>\n",
       "      <td>515.612488</td>\n",
       "      <td>508.950653</td>\n",
       "      <td>515.018127</td>\n",
       "      <td>501.832367</td>\n",
       "      <td>4783826</td>\n",
       "      <td>-9.757507</td>\n",
       "      <td>-8.965027</td>\n",
       "      <td>-12.333130</td>\n",
       "      <td>511.146505</td>\n",
       "      <td>...</td>\n",
       "      <td>497.400968</td>\n",
       "      <td>510.925976</td>\n",
       "      <td>507.810375</td>\n",
       "      <td>503.683619</td>\n",
       "      <td>500.984710</td>\n",
       "      <td>501.394308</td>\n",
       "      <td>47.838</td>\n",
       "      <td>0.0</td>\n",
       "      <td>0.000000</td>\n",
       "      <td>0.000000</td>\n",
       "    </tr>\n",
       "    <tr>\n",
       "      <th>2016-12-14</th>\n",
       "      <td>515.018127</td>\n",
       "      <td>527.227417</td>\n",
       "      <td>514.225647</td>\n",
       "      <td>524.775635</td>\n",
       "      <td>511.339996</td>\n",
       "      <td>11140265</td>\n",
       "      <td>3.244202</td>\n",
       "      <td>-1.857422</td>\n",
       "      <td>4.853943</td>\n",
       "      <td>516.190358</td>\n",
       "      <td>...</td>\n",
       "      <td>497.541305</td>\n",
       "      <td>517.850805</td>\n",
       "      <td>513.465462</td>\n",
       "      <td>507.902022</td>\n",
       "      <td>503.958576</td>\n",
       "      <td>502.902781</td>\n",
       "      <td>111.403</td>\n",
       "      <td>0.0</td>\n",
       "      <td>0.730367</td>\n",
       "      <td>0.366667</td>\n",
       "    </tr>\n",
       "    <tr>\n",
       "      <th>2016-12-15</th>\n",
       "      <td>521.258972</td>\n",
       "      <td>528.787598</td>\n",
       "      <td>519.401611</td>\n",
       "      <td>521.531433</td>\n",
       "      <td>508.178925</td>\n",
       "      <td>8921708</td>\n",
       "      <td>-2.080261</td>\n",
       "      <td>-0.198120</td>\n",
       "      <td>-6.191284</td>\n",
       "      <td>520.441732</td>\n",
       "      <td>...</td>\n",
       "      <td>498.023402</td>\n",
       "      <td>519.691119</td>\n",
       "      <td>516.154119</td>\n",
       "      <td>510.627905</td>\n",
       "      <td>506.155183</td>\n",
       "      <td>504.104629</td>\n",
       "      <td>89.217</td>\n",
       "      <td>0.0</td>\n",
       "      <td>0.000000</td>\n",
       "      <td>0.000000</td>\n",
       "    </tr>\n",
       "    <tr>\n",
       "      <th>2016-12-16</th>\n",
       "      <td>521.060852</td>\n",
       "      <td>526.013916</td>\n",
       "      <td>521.060852</td>\n",
       "      <td>523.611694</td>\n",
       "      <td>510.205872</td>\n",
       "      <td>6895825</td>\n",
       "      <td>-2.674622</td>\n",
       "      <td>-0.074280</td>\n",
       "      <td>-12.506470</td>\n",
       "      <td>523.306254</td>\n",
       "      <td>...</td>\n",
       "      <td>498.571539</td>\n",
       "      <td>521.651407</td>\n",
       "      <td>518.639977</td>\n",
       "      <td>513.224663</td>\n",
       "      <td>508.337247</td>\n",
       "      <td>505.363150</td>\n",
       "      <td>68.958</td>\n",
       "      <td>0.0</td>\n",
       "      <td>0.000000</td>\n",
       "      <td>0.000000</td>\n",
       "    </tr>\n",
       "    <tr>\n",
       "      <th>2016-12-19</th>\n",
       "      <td>522.546753</td>\n",
       "      <td>528.465698</td>\n",
       "      <td>522.224854</td>\n",
       "      <td>526.286316</td>\n",
       "      <td>512.812012</td>\n",
       "      <td>6926943</td>\n",
       "      <td>2.303162</td>\n",
       "      <td>7.479065</td>\n",
       "      <td>-11.169128</td>\n",
       "      <td>523.809814</td>\n",
       "      <td>...</td>\n",
       "      <td>499.512618</td>\n",
       "      <td>523.968861</td>\n",
       "      <td>521.188757</td>\n",
       "      <td>515.836993</td>\n",
       "      <td>510.580880</td>\n",
       "      <td>506.713031</td>\n",
       "      <td>69.269</td>\n",
       "      <td>0.0</td>\n",
       "      <td>0.000000</td>\n",
       "      <td>0.000000</td>\n",
       "    </tr>\n",
       "  </tbody>\n",
       "</table>\n",
       "<p>5 rows × 23 columns</p>\n",
       "</div>"
      ],
      "text/plain": [
       "                  Open        High         Low       Close   Adj Close  \\\n",
       "Date                                                                     \n",
       "2016-12-13  509.173553  515.612488  508.950653  515.018127  501.832367   \n",
       "2016-12-14  515.018127  527.227417  514.225647  524.775635  511.339996   \n",
       "2016-12-15  521.258972  528.787598  519.401611  521.531433  508.178925   \n",
       "2016-12-16  521.060852  526.013916  521.060852  523.611694  510.205872   \n",
       "2016-12-19  522.546753  528.465698  522.224854  526.286316  512.812012   \n",
       "\n",
       "              Volume   1d_diff   5d_diff   10d_diff        SMA3  ...  \\\n",
       "Date                                                             ...   \n",
       "2016-12-13   4783826 -9.757507 -8.965027 -12.333130  511.146505  ...   \n",
       "2016-12-14  11140265  3.244202 -1.857422   4.853943  516.190358  ...   \n",
       "2016-12-15   8921708 -2.080261 -0.198120  -6.191284  520.441732  ...   \n",
       "2016-12-16   6895825 -2.674622 -0.074280 -12.506470  523.306254  ...   \n",
       "2016-12-19   6926943  2.303162  7.479065 -11.169128  523.809814  ...   \n",
       "\n",
       "                 SMA30        EMA3        EMA5        EMA9       EMA15  \\\n",
       "Date                                                                     \n",
       "2016-12-13  497.400968  510.925976  507.810375  503.683619  500.984710   \n",
       "2016-12-14  497.541305  517.850805  513.465462  507.902022  503.958576   \n",
       "2016-12-15  498.023402  519.691119  516.154119  510.627905  506.155183   \n",
       "2016-12-16  498.571539  521.651407  518.639977  513.224663  508.337247   \n",
       "2016-12-19  499.512618  523.968861  521.188757  515.836993  510.580880   \n",
       "\n",
       "                 EMA30  Volume_100k  title_senti_comp  news_senti_comp  \\\n",
       "Date                                                                     \n",
       "2016-12-13  501.394308       47.838               0.0         0.000000   \n",
       "2016-12-14  502.902781      111.403               0.0         0.730367   \n",
       "2016-12-15  504.104629       89.217               0.0         0.000000   \n",
       "2016-12-16  505.363150       68.958               0.0         0.000000   \n",
       "2016-12-19  506.713031       69.269               0.0         0.000000   \n",
       "\n",
       "            avg_senti_comp  \n",
       "Date                        \n",
       "2016-12-13        0.000000  \n",
       "2016-12-14        0.366667  \n",
       "2016-12-15        0.000000  \n",
       "2016-12-16        0.000000  \n",
       "2016-12-19        0.000000  \n",
       "\n",
       "[5 rows x 23 columns]"
      ]
     },
     "execution_count": 12,
     "metadata": {},
     "output_type": "execute_result"
    }
   ],
   "source": [
    "df_combined.set_index('Date',inplace=True)\n",
    "\n",
    "df_combined.head()"
   ]
  },
  {
   "cell_type": "code",
   "execution_count": 13,
   "metadata": {},
   "outputs": [
    {
     "data": {
      "image/png": "[encoded data removed]",
      "text/plain": [
       "<Figure size 1440x864 with 1 Axes>"
      ]
     },
     "metadata": {},
     "output_type": "display_data"
    }
   ],
   "source": [
    "df_combined[['High','Low','Open','Close']].plot(figsize = (20, 12), alpha = 0.5);"
   ]
  },
  {
   "cell_type": "markdown",
   "metadata": {},
   "source": [
    "The four had almost same behaviour throughout time.\n",
    "Based on this assumption in this project, we will only focus on one of them 'High' in order to build a model which could predict future values.\n",
    "\n",
    "Firstly, we will demonstrate if the time-series problem corresponds to a Non-Stationary type, which characterizes for having:\n",
    "\n",
    "- Non-constant variance\n",
    "- Non-constant mean\n",
    "- Seasonality\n",
    "- High autocorrelation\n",
    "\n",
    "There are four well known ways to evaluate if the series meets the criteria just mentioned, these corresponds to:\n",
    "\n",
    "- Sequence visualization.\n",
    "- Histogram, Autocorrelation and Partial Aurocorrelation plots\n",
    "- Statistical summary of chunks\n",
    "- Adfuller test"
   ]
  },
  {
   "cell_type": "markdown",
   "metadata": {},
   "source": [
    "## Evaluating Stationarity:\n",
    "\n",
    "The following histogram plot should have a uniform distribution meaning non-constant mean or 'trend':"
   ]
  },
  {
   "cell_type": "code",
   "execution_count": 14,
   "metadata": {},
   "outputs": [
    {
     "data": {
      "image/png": "[encoded data removed]",
      "text/plain": [
       "<Figure size 432x288 with 1 Axes>"
      ]
     },
     "metadata": {},
     "output_type": "display_data"
    }
   ],
   "source": [
    "df_combined.High.hist(bins=50);"
   ]
  },
  {
   "cell_type": "markdown",
   "metadata": {},
   "source": [
    "We can't assume a uniform nor normal distribution in the plot above, because of that the statistical summary can helps us more, for this we will split the data into 10 chunks and compute mean and variance of each one."
   ]
  },
  {
   "cell_type": "code",
   "execution_count": 15,
   "metadata": {},
   "outputs": [
    {
     "data": {
      "text/plain": [
       "138.0"
      ]
     },
     "execution_count": 15,
     "metadata": {},
     "output_type": "execute_result"
    }
   ],
   "source": [
    "np.round(df_combined.shape[0]/10,0)"
   ]
  },
  {
   "cell_type": "code",
   "execution_count": 16,
   "metadata": {},
   "outputs": [
    {
     "data": {
      "text/html": [
       "<div>\n",
       "<style scoped>\n",
       "    .dataframe tbody tr th:only-of-type {\n",
       "        vertical-align: middle;\n",
       "    }\n",
       "\n",
       "    .dataframe tbody tr th {\n",
       "        vertical-align: top;\n",
       "    }\n",
       "\n",
       "    .dataframe thead th {\n",
       "        text-align: right;\n",
       "    }\n",
       "</style>\n",
       "<table border=\"1\" class=\"dataframe\">\n",
       "  <thead>\n",
       "    <tr style=\"text-align: right;\">\n",
       "      <th></th>\n",
       "      <th>mean</th>\n",
       "      <th>std</th>\n",
       "    </tr>\n",
       "  </thead>\n",
       "  <tbody>\n",
       "    <tr>\n",
       "      <th>0</th>\n",
       "      <td>618.141721</td>\n",
       "      <td>73.354977</td>\n",
       "    </tr>\n",
       "    <tr>\n",
       "      <th>1</th>\n",
       "      <td>860.117596</td>\n",
       "      <td>67.454233</td>\n",
       "    </tr>\n",
       "    <tr>\n",
       "      <th>2</th>\n",
       "      <td>973.668423</td>\n",
       "      <td>76.949434</td>\n",
       "    </tr>\n",
       "    <tr>\n",
       "      <th>3</th>\n",
       "      <td>1174.754717</td>\n",
       "      <td>72.281221</td>\n",
       "    </tr>\n",
       "    <tr>\n",
       "      <th>4</th>\n",
       "      <td>1292.551884</td>\n",
       "      <td>60.744464</td>\n",
       "    </tr>\n",
       "    <tr>\n",
       "      <th>5</th>\n",
       "      <td>1406.788601</td>\n",
       "      <td>162.102458</td>\n",
       "    </tr>\n",
       "    <tr>\n",
       "      <th>6</th>\n",
       "      <td>1943.824037</td>\n",
       "      <td>295.129467</td>\n",
       "    </tr>\n",
       "    <tr>\n",
       "      <th>7</th>\n",
       "      <td>2023.334413</td>\n",
       "      <td>77.385269</td>\n",
       "    </tr>\n",
       "    <tr>\n",
       "      <th>8</th>\n",
       "      <td>2360.411586</td>\n",
       "      <td>200.246806</td>\n",
       "    </tr>\n",
       "    <tr>\n",
       "      <th>9</th>\n",
       "      <td>2539.944557</td>\n",
       "      <td>142.108727</td>\n",
       "    </tr>\n",
       "  </tbody>\n",
       "</table>\n",
       "</div>"
      ],
      "text/plain": [
       "          mean         std\n",
       "0   618.141721   73.354977\n",
       "1   860.117596   67.454233\n",
       "2   973.668423   76.949434\n",
       "3  1174.754717   72.281221\n",
       "4  1292.551884   60.744464\n",
       "5  1406.788601  162.102458\n",
       "6  1943.824037  295.129467\n",
       "7  2023.334413   77.385269\n",
       "8  2360.411586  200.246806\n",
       "9  2539.944557  142.108727"
      ]
     },
     "execution_count": 16,
     "metadata": {},
     "output_type": "execute_result"
    }
   ],
   "source": [
    "from statistics import stdev\n",
    "mean=[]\n",
    "std=[]\n",
    "    \n",
    "for i in range(0,10):\n",
    "    mean.append(df_combined['High'].iloc[(i*138):(i*138)+138].mean())\n",
    "    std.append(stdev(df_combined['High'].iloc[(i*138):(i*138)+138]))\n",
    "\n",
    "pd.concat([pd.DataFrame(mean,columns=['mean']),pd.DataFrame(std,columns=['std'])], axis=1)"
   ]
  },
  {
   "cell_type": "markdown",
   "metadata": {},
   "source": [
    "Above we see how both measures are clearly different in each chunk. However looking at the plot we could assume a constant variance as the ripple in the curve, but without a doubt trend is the most outstanding feature.\n",
    "\n",
    "Until now can assume it's a non-stationary series. But to know more about it we will evaluate two other methods.\n",
    "\n",
    "\n",
    "Seasonal decomposition is a function from statsmodels library which allows us to decompose the series into trend, seasonal and residual, either additive or multiplicative"
   ]
  },
  {
   "cell_type": "raw",
   "metadata": {},
   "source": [
    "from statsmodels.tsa.seasonal import seasonal_decompose\n",
    "\n",
    "decompose_add=seasonal_decompose(df_combined['High'], model='additive', period=12)\n",
    "plt.figure(figsize=(15,15))\n",
    "plt.subplot(411)\n",
    "plt.plot(df_combined['High'], label='Original TS')\n",
    "plt.legend(loc='best')\n",
    "plt.subplot(412)\n",
    "plt.plot(decompose_add.trend, label='Trend')\n",
    "plt.legend(loc='best')\n",
    "plt.subplot(413)\n",
    "plt.plot(decompose_add.seasonal,label='Seasonality')\n",
    "plt.legend(loc='best')\n",
    "plt.subplot(414)\n",
    "plt.plot(decompose_add.resid, label='Residual')\n",
    "plt.legend(loc='best');"
   ]
  },
  {
   "cell_type": "raw",
   "metadata": {},
   "source": [
    "decompose_mul=seasonal_decompose(df_combined['High'], model='multiplicative', period=12)\n",
    "plt.figure(figsize=(15,15))\n",
    "plt.subplot(411)\n",
    "plt.plot(df_combined['High'], label='Original TS')\n",
    "plt.legend(loc='best')\n",
    "plt.subplot(412)\n",
    "plt.plot(decompose_mul.trend, label='Trend')\n",
    "plt.legend(loc='best')\n",
    "plt.subplot(413)\n",
    "plt.plot(decompose_mul.seasonal,label='Seasonality')\n",
    "plt.legend(loc='best')\n",
    "plt.subplot(414)\n",
    "plt.plot(decompose_mul.resid, label='Residual')\n",
    "plt.legend(loc='best');"
   ]
  },
  {
   "cell_type": "markdown",
   "metadata": {},
   "source": [
    "Looking carefully to the original curve we can say the additive decomposition makes more sense as the trend does not seem to be changing by the multiplication with seasonal component\n",
    "\n",
    "Rather every component seems to being added up to create the original curve.\n",
    "\n",
    "Independent of this there is a trend and seasonal component.\n",
    "\n",
    "Below we can see the ACF and PACF plots:"
   ]
  },
  {
   "cell_type": "code",
   "execution_count": 17,
   "metadata": {},
   "outputs": [],
   "source": [
    "from statsmodels.graphics.tsaplots import plot_acf\n",
    "from statsmodels.graphics.tsaplots import plot_pacf"
   ]
  },
  {
   "cell_type": "raw",
   "metadata": {},
   "source": [
    "plt.rc(\"figure\", figsize=(10,5))\n",
    "plot_acf(df_combined['High'])\n",
    "print()\n"
   ]
  },
  {
   "cell_type": "raw",
   "metadata": {},
   "source": [
    "plt.rc(\"figure\", figsize=(10,5))\n",
    "plot_pacf(df_combined['High'])\n",
    "print()"
   ]
  },
  {
   "cell_type": "markdown",
   "metadata": {},
   "source": [
    "Finally, we will make the Augmented Dickey-Fuller test, using 5% as significance level and declaring the following hypothesis:\n",
    "\n",
    "- H0= Series corresponds to non-stationary type.\n",
    "- H1= Series corresponds to stationary type."
   ]
  },
  {
   "cell_type": "code",
   "execution_count": 18,
   "metadata": {},
   "outputs": [],
   "source": [
    "from statsmodels.tsa.stattools import adfuller"
   ]
  },
  {
   "cell_type": "code",
   "execution_count": 19,
   "metadata": {},
   "outputs": [
    {
     "name": "stdout",
     "output_type": "stream",
     "text": [
      "ADF Statistic: -1.033713\n",
      "p-value: 0.740771\n",
      "Critical Values:\n",
      "\t1%: -3.435\n",
      "\t5%: -2.864\n",
      "\t10%: -2.568\n"
     ]
    }
   ],
   "source": [
    "result = adfuller(df_combined['High'])\n",
    "print('ADF Statistic: %f' % result[0])\n",
    "print('p-value: %f' % result[1])\n",
    "print('Critical Values:')\n",
    "for key, value in result[4].items():\n",
    "    print('\\t%s: %.3f' % (key, value))"
   ]
  },
  {
   "cell_type": "markdown",
   "metadata": {},
   "source": [
    "As p-value is greater than 0.05 we fail to reject the null hypothesis, therefore there is not enough evidence to reject that we are working with a non-stationary series. Let's apply the log transformation to the series and test again."
   ]
  },
  {
   "cell_type": "code",
   "execution_count": 20,
   "metadata": {},
   "outputs": [
    {
     "name": "stdout",
     "output_type": "stream",
     "text": [
      "ADF Statistic: -1.769665\n",
      "p-value: 0.395623\n",
      "Critical Values:\n",
      "\t1%: -3.435\n",
      "\t5%: -2.864\n",
      "\t10%: -2.568\n"
     ]
    }
   ],
   "source": [
    "from numpy import log\n",
    "result = adfuller(log(df_combined['High']))\n",
    "print('ADF Statistic: %f' % result[0])\n",
    "print('p-value: %f' % result[1])\n",
    "print('Critical Values:')\n",
    "for key, value in result[4].items():\n",
    "    print('\\t%s: %.3f' % (key, value))"
   ]
  },
  {
   "cell_type": "markdown",
   "metadata": {},
   "source": [
    "Based on every method applied we can endorse the serie clearly corresponds to a non-stationary type, which means that we have to convert this to stationary by using filters and complex transformations.\n",
    "\n",
    "However, deep learning approaches can lead us to build models which takes into account all of these characteristics and predict future values modestly, but as disadvantage it would take significantly more time to train such models."
   ]
  },
  {
   "cell_type": "markdown",
   "metadata": {},
   "source": [
    "## Modeling:\n",
    "\n",
    "Firstly, we will define a new dataset equal to the existing one, but omitting the last 50 records, later we will use the model to predict such values."
   ]
  },
  {
   "cell_type": "code",
   "execution_count": 21,
   "metadata": {},
   "outputs": [
    {
     "data": {
      "text/plain": [
       "Date\n",
       "2022-04-29    2790.250000\n",
       "2022-05-02    2780.449951\n",
       "2022-05-04    2693.649902\n",
       "2022-05-05    2640.899902\n",
       "2022-05-06    2620.649902\n",
       "Name: Close, dtype: float64"
      ]
     },
     "execution_count": 21,
     "metadata": {},
     "output_type": "execute_result"
    }
   ],
   "source": [
    "new_df = df_combined['Close'].iloc[:-50]\n",
    "new_df.tail()"
   ]
  },
  {
   "cell_type": "markdown",
   "metadata": {},
   "source": [
    "We define the length of the training set as 80% of the total records "
   ]
  },
  {
   "cell_type": "code",
   "execution_count": 22,
   "metadata": {},
   "outputs": [
    {
     "data": {
      "text/plain": [
       "1068"
      ]
     },
     "execution_count": 22,
     "metadata": {},
     "output_type": "execute_result"
    }
   ],
   "source": [
    "#!pip install python-math\n",
    "import math\n",
    "train_len = math.ceil(len(new_df)*0.8)\n",
    "train_len"
   ]
  },
  {
   "cell_type": "markdown",
   "metadata": {},
   "source": [
    "Let's use 10 as a random window to be used in the model to build:"
   ]
  },
  {
   "cell_type": "code",
   "execution_count": 23,
   "metadata": {},
   "outputs": [],
   "source": [
    "window=10"
   ]
  },
  {
   "cell_type": "markdown",
   "metadata": {},
   "source": [
    "The following lines create the training sets, as we now the first row takes the first 10 time steps and then the second row takes time steps shifted in one and so on and so forth:"
   ]
  },
  {
   "cell_type": "code",
   "execution_count": 24,
   "metadata": {},
   "outputs": [],
   "source": [
    "train_data = new_df[0:train_len]\n",
    "\n",
    "X_train=[]\n",
    "Y_train=[]\n",
    "\n",
    "for i in range(window, len(train_data)):\n",
    "    X_train.append(train_data[i-window:i])\n",
    "    Y_train.append(train_data[i])"
   ]
  },
  {
   "cell_type": "code",
   "execution_count": 25,
   "metadata": {},
   "outputs": [],
   "source": [
    "X_train, Y_train= np.array(X_train), np.array(Y_train)"
   ]
  },
  {
   "cell_type": "markdown",
   "metadata": {},
   "source": [
    "Reshaping the training set to (number of records-window, number of time steps, 1):"
   ]
  },
  {
   "cell_type": "code",
   "execution_count": 26,
   "metadata": {},
   "outputs": [
    {
     "data": {
      "text/plain": [
       "(1058, 10, 1)"
      ]
     },
     "execution_count": 26,
     "metadata": {},
     "output_type": "execute_result"
    }
   ],
   "source": [
    "X_train = np.reshape(X_train, (X_train.shape[0], X_train.shape[1], 1))\n",
    "X_train.shape"
   ]
  },
  {
   "cell_type": "code",
   "execution_count": 27,
   "metadata": {},
   "outputs": [
    {
     "data": {
      "text/plain": [
       "array([[515.01812744],\n",
       "       [524.77563477],\n",
       "       [521.53143311],\n",
       "       [523.61169434],\n",
       "       [526.28631592],\n",
       "       [523.9831543 ],\n",
       "       [526.63305664],\n",
       "       [521.72955322],\n",
       "       [523.68597412],\n",
       "       [518.80725098]])"
      ]
     },
     "execution_count": 27,
     "metadata": {},
     "output_type": "execute_result"
    }
   ],
   "source": [
    "X_train[0]"
   ]
  },
  {
   "cell_type": "markdown",
   "metadata": {},
   "source": [
    "The following is the first model to be used, this is relatively simple with one LSTM layer with relu activation function and one hidden fully connected layer, the optimizer used is Adam, number of epochs=10, batch_size=10 and loss function=Mean squared error:"
   ]
  },
  {
   "cell_type": "code",
   "execution_count": 28,
   "metadata": {},
   "outputs": [],
   "source": [
    "from keras.models import Sequential\n",
    "from keras.layers import Dense, LSTM, Dropout"
   ]
  },
  {
   "cell_type": "code",
   "execution_count": 29,
   "metadata": {},
   "outputs": [
    {
     "name": "stdout",
     "output_type": "stream",
     "text": [
      "Model: \"sequential\"\n",
      "_________________________________________________________________\n",
      " Layer (type)                Output Shape              Param #   \n",
      "=================================================================\n",
      " lstm (LSTM)                 (None, 50)                10400     \n",
      "                                                                 \n",
      " dense (Dense)               (None, 25)                1275      \n",
      "                                                                 \n",
      " dense_1 (Dense)             (None, 1)                 26        \n",
      "                                                                 \n",
      "=================================================================\n",
      "Total params: 11,701\n",
      "Trainable params: 11,701\n",
      "Non-trainable params: 0\n",
      "_________________________________________________________________\n"
     ]
    }
   ],
   "source": [
    "model=Sequential()\n",
    "model.add(LSTM(50, activation='relu', input_shape=(X_train.shape[1],1)))\n",
    "model.add(Dense(25))\n",
    "model.add(Dense(1))\n",
    "model.compile(loss='mean_squared_error', optimizer='adam')\n",
    "model.summary()\n",
    "model.fit(X_train, Y_train, epochs=10, batch_size=10, verbose=0);"
   ]
  },
  {
   "cell_type": "markdown",
   "metadata": {},
   "source": [
    "Creating the validation set using same logic as training:"
   ]
  },
  {
   "cell_type": "code",
   "execution_count": 30,
   "metadata": {},
   "outputs": [],
   "source": [
    "test_data = new_df[train_len-window:]\n",
    "\n",
    "X_val=[]\n",
    "Y_val=[] \n",
    "\n",
    "for i in range(window, len(test_data)):\n",
    "    X_val.append(test_data[i-window:i])\n",
    "    Y_val.append(test_data[i])"
   ]
  },
  {
   "cell_type": "code",
   "execution_count": 31,
   "metadata": {},
   "outputs": [],
   "source": [
    "X_val, Y_val = np.array(X_val), np.array(Y_val)\n",
    "X_val = np.reshape(X_val, (X_val.shape[0], X_val.shape[1],1))"
   ]
  },
  {
   "cell_type": "code",
   "execution_count": 32,
   "metadata": {},
   "outputs": [
    {
     "data": {
      "text/plain": [
       "((266, 10, 1), (266,))"
      ]
     },
     "execution_count": 32,
     "metadata": {},
     "output_type": "execute_result"
    }
   ],
   "source": [
    "X_val.shape, Y_val.shape"
   ]
  },
  {
   "cell_type": "code",
   "execution_count": 33,
   "metadata": {},
   "outputs": [
    {
     "data": {
      "text/plain": [
       "array([[2047.30004883],\n",
       "       [1991.44995117],\n",
       "       [1994.65002441],\n",
       "       [2029.30004883],\n",
       "       [2003.09997559],\n",
       "       [2021.84997559],\n",
       "       [1992.59997559],\n",
       "       [1984.30004883],\n",
       "       [2002.84997559],\n",
       "       [2005.34997559]])"
      ]
     },
     "execution_count": 33,
     "metadata": {},
     "output_type": "execute_result"
    }
   ],
   "source": [
    "X_val[0]"
   ]
  },
  {
   "cell_type": "markdown",
   "metadata": {},
   "source": [
    "Now that our validation set has the correct shape we can use it in the model to predict the next value."
   ]
  },
  {
   "cell_type": "code",
   "execution_count": 34,
   "metadata": {},
   "outputs": [
    {
     "name": "stdout",
     "output_type": "stream",
     "text": [
      "9/9 [==============================] - 1s 4ms/step\n"
     ]
    },
    {
     "data": {
      "text/plain": [
       "(266, 266)"
      ]
     },
     "execution_count": 34,
     "metadata": {},
     "output_type": "execute_result"
    }
   ],
   "source": [
    "prediction = model.predict(X_val)\n",
    "\n",
    "len(prediction), len(Y_val)"
   ]
  },
  {
   "cell_type": "markdown",
   "metadata": {},
   "source": [
    "As our prediction and actual values have the same shape we can use these sets to compute the error metrics, in this case we will use RMSE."
   ]
  },
  {
   "cell_type": "code",
   "execution_count": 35,
   "metadata": {},
   "outputs": [
    {
     "name": "stdout",
     "output_type": "stream",
     "text": [
      "34/34 [==============================] - 0s 5ms/step\n",
      "9/9 [==============================] - 0s 4ms/step\n",
      "Train rmse: 33.55989606200709\n",
      "Validation rmse: 51.858964343623505\n"
     ]
    }
   ],
   "source": [
    "from sklearn.metrics import mean_squared_error\n",
    "\n",
    "lstm_train_pred = model.predict(X_train)\n",
    "lstm_valid_pred = model.predict(X_val)\n",
    "rmse_v1 = np.sqrt(mean_squared_error(Y_train, lstm_train_pred))\n",
    "print('Train rmse:', rmse_v1)\n",
    "print('Validation rmse:', np.sqrt(mean_squared_error(Y_val, lstm_valid_pred)))"
   ]
  },
  {
   "cell_type": "code",
   "execution_count": 72,
   "metadata": {},
   "outputs": [
    {
     "data": {
      "text/plain": [
       "0.9947402069106916"
      ]
     },
     "execution_count": 72,
     "metadata": {},
     "output_type": "execute_result"
    }
   ],
   "source": [
    "from sklearn.metrics import r2_score\n",
    "\n",
    "coefficient_of_dermination = r2_score(Y_train, lstm_train_pred)\n",
    "coefficient_of_dermination"
   ]
  },
  {
   "cell_type": "markdown",
   "metadata": {},
   "source": [
    "Both errors are high, if we specifically see the validation one we could say it's too much and we aim to improve this as we build a robust model in the next steps.\n",
    "\n",
    "Below is a table which merged the actual and predicted values, therefore we can see for each record how differ these two and have an idea of how sidetracked we currently are."
   ]
  },
  {
   "cell_type": "code",
   "execution_count": 36,
   "metadata": {},
   "outputs": [
    {
     "data": {
      "text/html": [
       "<div>\n",
       "<style scoped>\n",
       "    .dataframe tbody tr th:only-of-type {\n",
       "        vertical-align: middle;\n",
       "    }\n",
       "\n",
       "    .dataframe tbody tr th {\n",
       "        vertical-align: top;\n",
       "    }\n",
       "\n",
       "    .dataframe thead th {\n",
       "        text-align: right;\n",
       "    }\n",
       "</style>\n",
       "<table border=\"1\" class=\"dataframe\">\n",
       "  <thead>\n",
       "    <tr style=\"text-align: right;\">\n",
       "      <th></th>\n",
       "      <th>Close</th>\n",
       "      <th>Predictions</th>\n",
       "    </tr>\n",
       "    <tr>\n",
       "      <th>Date</th>\n",
       "      <th></th>\n",
       "      <th></th>\n",
       "    </tr>\n",
       "  </thead>\n",
       "  <tbody>\n",
       "    <tr>\n",
       "      <th>2021-04-09</th>\n",
       "      <td>1982.050049</td>\n",
       "      <td>1997.647949</td>\n",
       "    </tr>\n",
       "    <tr>\n",
       "      <th>2021-04-12</th>\n",
       "      <td>1911.150024</td>\n",
       "      <td>1995.847900</td>\n",
       "    </tr>\n",
       "    <tr>\n",
       "      <th>2021-04-13</th>\n",
       "      <td>1931.800049</td>\n",
       "      <td>1942.678833</td>\n",
       "    </tr>\n",
       "    <tr>\n",
       "      <th>2021-04-15</th>\n",
       "      <td>1944.300049</td>\n",
       "      <td>1919.211670</td>\n",
       "    </tr>\n",
       "    <tr>\n",
       "      <th>2021-04-16</th>\n",
       "      <td>1932.099976</td>\n",
       "      <td>1918.387451</td>\n",
       "    </tr>\n",
       "    <tr>\n",
       "      <th>...</th>\n",
       "      <td>...</td>\n",
       "      <td>...</td>\n",
       "    </tr>\n",
       "    <tr>\n",
       "      <th>2022-04-29</th>\n",
       "      <td>2790.250000</td>\n",
       "      <td>2751.755127</td>\n",
       "    </tr>\n",
       "    <tr>\n",
       "      <th>2022-05-02</th>\n",
       "      <td>2780.449951</td>\n",
       "      <td>2761.979492</td>\n",
       "    </tr>\n",
       "    <tr>\n",
       "      <th>2022-05-04</th>\n",
       "      <td>2693.649902</td>\n",
       "      <td>2773.802490</td>\n",
       "    </tr>\n",
       "    <tr>\n",
       "      <th>2022-05-05</th>\n",
       "      <td>2640.899902</td>\n",
       "      <td>2750.795654</td>\n",
       "    </tr>\n",
       "    <tr>\n",
       "      <th>2022-05-06</th>\n",
       "      <td>2620.649902</td>\n",
       "      <td>2648.738770</td>\n",
       "    </tr>\n",
       "  </tbody>\n",
       "</table>\n",
       "<p>266 rows × 2 columns</p>\n",
       "</div>"
      ],
      "text/plain": [
       "                  Close  Predictions\n",
       "Date                                \n",
       "2021-04-09  1982.050049  1997.647949\n",
       "2021-04-12  1911.150024  1995.847900\n",
       "2021-04-13  1931.800049  1942.678833\n",
       "2021-04-15  1944.300049  1919.211670\n",
       "2021-04-16  1932.099976  1918.387451\n",
       "...                 ...          ...\n",
       "2022-04-29  2790.250000  2751.755127\n",
       "2022-05-02  2780.449951  2761.979492\n",
       "2022-05-04  2693.649902  2773.802490\n",
       "2022-05-05  2640.899902  2750.795654\n",
       "2022-05-06  2620.649902  2648.738770\n",
       "\n",
       "[266 rows x 2 columns]"
      ]
     },
     "execution_count": 36,
     "metadata": {},
     "output_type": "execute_result"
    }
   ],
   "source": [
    "valid = pd.DataFrame(new_df[train_len:])\n",
    "valid['Predictions']=lstm_valid_pred\n",
    "valid"
   ]
  },
  {
   "cell_type": "markdown",
   "metadata": {},
   "source": [
    "## Creating residual\n",
    "#### regressing that with news "
   ]
  },
  {
   "cell_type": "code",
   "execution_count": 37,
   "metadata": {},
   "outputs": [
    {
     "data": {
      "text/plain": [
       "(Timestamp('2021-04-09 00:00:00'), Timestamp('2022-05-06 00:00:00'))"
      ]
     },
     "execution_count": 37,
     "metadata": {},
     "output_type": "execute_result"
    }
   ],
   "source": [
    "lstm_pred_sentiment = valid.join(other=df_combined[['title_senti_comp','news_senti_comp','avg_senti_comp']],\n",
    "                                 on='Date',how='left',)\n",
    "\n",
    "lstm_pred_sentiment.index.min(),lstm_pred_sentiment.index.max()"
   ]
  },
  {
   "cell_type": "code",
   "execution_count": 75,
   "metadata": {},
   "outputs": [
    {
     "data": {
      "text/plain": [
       "Timedelta('392 days 00:00:00')"
      ]
     },
     "execution_count": 75,
     "metadata": {},
     "output_type": "execute_result"
    }
   ],
   "source": [
    "lstm_pred_sentiment.index.max()-lstm_pred_sentiment.index.min()"
   ]
  },
  {
   "cell_type": "code",
   "execution_count": 38,
   "metadata": {},
   "outputs": [
    {
     "data": {
      "text/plain": [
       "118"
      ]
     },
     "execution_count": 38,
     "metadata": {},
     "output_type": "execute_result"
    }
   ],
   "source": [
    "## only 118 rows where sentiment is not 0\n",
    "lstm_pred_sentiment[lstm_pred_sentiment['avg_senti_comp']>0].shape[0]"
   ]
  },
  {
   "cell_type": "code",
   "execution_count": 39,
   "metadata": {},
   "outputs": [],
   "source": [
    "## calculate residulal\n",
    "lstm_pred_sentiment['residual'] =  lstm_pred_sentiment['Predictions'] - lstm_pred_sentiment['Close']"
   ]
  },
  {
   "cell_type": "code",
   "execution_count": 40,
   "metadata": {},
   "outputs": [],
   "source": [
    "# regress sentiment score using OLS on residual\n",
    "from statsmodels.formula.api import ols"
   ]
  },
  {
   "cell_type": "code",
   "execution_count": 41,
   "metadata": {},
   "outputs": [],
   "source": [
    "lm = ols(formula=\"residual ~ news_senti_comp\",data=lstm_pred_sentiment).fit()"
   ]
  },
  {
   "cell_type": "code",
   "execution_count": 42,
   "metadata": {},
   "outputs": [
    {
     "data": {
      "text/html": [
       "<table class=\"simpletable\">\n",
       "<caption>OLS Regression Results</caption>\n",
       "<tr>\n",
       "  <th>Dep. Variable:</th>        <td>residual</td>     <th>  R-squared:         </th> <td>   0.002</td>\n",
       "</tr>\n",
       "<tr>\n",
       "  <th>Model:</th>                   <td>OLS</td>       <th>  Adj. R-squared:    </th> <td>  -0.002</td>\n",
       "</tr>\n",
       "<tr>\n",
       "  <th>Method:</th>             <td>Least Squares</td>  <th>  F-statistic:       </th> <td>  0.4482</td>\n",
       "</tr>\n",
       "<tr>\n",
       "  <th>Date:</th>             <td>Sat, 13 Aug 2022</td> <th>  Prob (F-statistic):</th>  <td> 0.504</td> \n",
       "</tr>\n",
       "<tr>\n",
       "  <th>Time:</th>                 <td>12:33:14</td>     <th>  Log-Likelihood:    </th> <td> -1406.6</td>\n",
       "</tr>\n",
       "<tr>\n",
       "  <th>No. Observations:</th>      <td>   266</td>      <th>  AIC:               </th> <td>   2817.</td>\n",
       "</tr>\n",
       "<tr>\n",
       "  <th>Df Residuals:</th>          <td>   264</td>      <th>  BIC:               </th> <td>   2824.</td>\n",
       "</tr>\n",
       "<tr>\n",
       "  <th>Df Model:</th>              <td>     1</td>      <th>                     </th>     <td> </td>   \n",
       "</tr>\n",
       "<tr>\n",
       "  <th>Covariance Type:</th>      <td>nonrobust</td>    <th>                     </th>     <td> </td>   \n",
       "</tr>\n",
       "</table>\n",
       "<table class=\"simpletable\">\n",
       "<tr>\n",
       "         <td></td>            <th>coef</th>     <th>std err</th>      <th>t</th>      <th>P>|t|</th>  <th>[0.025</th>    <th>0.975]</th>  \n",
       "</tr>\n",
       "<tr>\n",
       "  <th>Intercept</th>       <td>  -18.2791</td> <td>    3.720</td> <td>   -4.913</td> <td> 0.000</td> <td>  -25.604</td> <td>  -10.954</td>\n",
       "</tr>\n",
       "<tr>\n",
       "  <th>news_senti_comp</th> <td>   -5.1248</td> <td>    7.655</td> <td>   -0.669</td> <td> 0.504</td> <td>  -20.198</td> <td>    9.948</td>\n",
       "</tr>\n",
       "</table>\n",
       "<table class=\"simpletable\">\n",
       "<tr>\n",
       "  <th>Omnibus:</th>       <td> 2.727</td> <th>  Durbin-Watson:     </th> <td>   0.934</td>\n",
       "</tr>\n",
       "<tr>\n",
       "  <th>Prob(Omnibus):</th> <td> 0.256</td> <th>  Jarque-Bera (JB):  </th> <td>   2.885</td>\n",
       "</tr>\n",
       "<tr>\n",
       "  <th>Skew:</th>          <td> 0.035</td> <th>  Prob(JB):          </th> <td>   0.236</td>\n",
       "</tr>\n",
       "<tr>\n",
       "  <th>Kurtosis:</th>      <td> 3.505</td> <th>  Cond. No.          </th> <td>    2.86</td>\n",
       "</tr>\n",
       "</table><br/><br/>Notes:<br/>[1] Standard Errors assume that the covariance matrix of the errors is correctly specified."
      ],
      "text/plain": [
       "<class 'statsmodels.iolib.summary.Summary'>\n",
       "\"\"\"\n",
       "                            OLS Regression Results                            \n",
       "==============================================================================\n",
       "Dep. Variable:               residual   R-squared:                       0.002\n",
       "Model:                            OLS   Adj. R-squared:                 -0.002\n",
       "Method:                 Least Squares   F-statistic:                    0.4482\n",
       "Date:                Sat, 13 Aug 2022   Prob (F-statistic):              0.504\n",
       "Time:                        12:33:14   Log-Likelihood:                -1406.6\n",
       "No. Observations:                 266   AIC:                             2817.\n",
       "Df Residuals:                     264   BIC:                             2824.\n",
       "Df Model:                           1                                         \n",
       "Covariance Type:            nonrobust                                         \n",
       "===================================================================================\n",
       "                      coef    std err          t      P>|t|      [0.025      0.975]\n",
       "-----------------------------------------------------------------------------------\n",
       "Intercept         -18.2791      3.720     -4.913      0.000     -25.604     -10.954\n",
       "news_senti_comp    -5.1248      7.655     -0.669      0.504     -20.198       9.948\n",
       "==============================================================================\n",
       "Omnibus:                        2.727   Durbin-Watson:                   0.934\n",
       "Prob(Omnibus):                  0.256   Jarque-Bera (JB):                2.885\n",
       "Skew:                           0.035   Prob(JB):                        0.236\n",
       "Kurtosis:                       3.505   Cond. No.                         2.86\n",
       "==============================================================================\n",
       "\n",
       "Notes:\n",
       "[1] Standard Errors assume that the covariance matrix of the errors is correctly specified.\n",
       "\"\"\""
      ]
     },
     "execution_count": 42,
     "metadata": {},
     "output_type": "execute_result"
    }
   ],
   "source": [
    "lm.summary()"
   ]
  },
  {
   "cell_type": "code",
   "execution_count": 43,
   "metadata": {},
   "outputs": [],
   "source": [
    "# prediction = close + residual\n",
    "# residual   = 6.745 - 14.88*news_sentiment + epsilon\n",
    "# prediction = close + 6.475 - 14.88*news_sentiment"
   ]
  },
  {
   "cell_type": "code",
   "execution_count": 44,
   "metadata": {},
   "outputs": [],
   "source": [
    "lstm_pred_sentiment['ols_adjusted_pred']=lstm_pred_sentiment['Close']+ 6.475- 14.88*lstm_pred_sentiment['news_senti_comp']"
   ]
  },
  {
   "cell_type": "code",
   "execution_count": 71,
   "metadata": {},
   "outputs": [
    {
     "name": "stdout",
     "output_type": "stream",
     "text": [
      "OLS Modified RMSE: 6.089265816961139\n"
     ]
    }
   ],
   "source": [
    "rmse_v2 = np.sqrt(mean_squared_error(lstm_pred_sentiment.Close, lstm_pred_sentiment.ols_adjusted_pred))\n",
    "print('OLS Modified RMSE:', rmse_v2)"
   ]
  },
  {
   "cell_type": "code",
   "execution_count": 45,
   "metadata": {},
   "outputs": [
    {
     "data": {
      "image/png": "[encoded data removed]",
      "text/plain": [
       "<Figure size 1080x720 with 1 Axes>"
      ]
     },
     "metadata": {},
     "output_type": "display_data"
    }
   ],
   "source": [
    "lstm_pred_sentiment[['Close','Predictions','ols_adjusted_pred']].plot(kind='line',figsize=(15,10));"
   ]
  },
  {
   "cell_type": "code",
   "execution_count": 46,
   "metadata": {},
   "outputs": [
    {
     "name": "stdout",
     "output_type": "stream",
     "text": [
      "1/1 [==============================] - 0s 475ms/step\n"
     ]
    },
    {
     "data": {
      "text/plain": [
       "array([[2634.1672]], dtype=float32)"
      ]
     },
     "execution_count": 46,
     "metadata": {},
     "output_type": "execute_result"
    }
   ],
   "source": [
    "model.predict(([[2632,2632,2632,2632,2632,2632,2632,2632,2632,2632]]))"
   ]
  },
  {
   "cell_type": "code",
   "execution_count": 47,
   "metadata": {},
   "outputs": [
    {
     "name": "stdout",
     "output_type": "stream",
     "text": [
      "INFO:tensorflow:Assets written to: lstm_model\\assets\n"
     ]
    }
   ],
   "source": [
    "from keras.models import load_model\n",
    "\n",
    "model.save('lstm_model')  # creates a HDF5 file 'my_model.h5'\n",
    "del model  # deletes the existing model\n",
    "\n",
    "# It can be used to reconstruct the model identically.\n",
    "reconstructed_model = load_model(\"lstm_model\")\n",
    "\n",
    "# returns a compiled model\n",
    "# identical to the previous one\n",
    "# model = load_model('my_model.h5')"
   ]
  },
  {
   "cell_type": "code",
   "execution_count": null,
   "metadata": {},
   "outputs": [],
   "source": [
    "reconstructed_model"
   ]
  },
  {
   "cell_type": "code",
   "execution_count": null,
   "metadata": {},
   "outputs": [],
   "source": [
    "reconstructed_model.predict([[2632,2632,2632,2632,2632,2632,2632,2632,2632,2632]])"
   ]
  },
  {
   "cell_type": "code",
   "execution_count": null,
   "metadata": {},
   "outputs": [],
   "source": [
    "import yfinance as yf"
   ]
  },
  {
   "cell_type": "code",
   "execution_count": null,
   "metadata": {},
   "outputs": [],
   "source": [
    "def get_stock_data(stock,startdate,enddate,interval):\n",
    "        ticker = stock  \n",
    "        yf.pdr_override()\n",
    "        df = yf.download(tickers=stock, start=startdate, end=enddate, interval=interval)\n",
    "        df.reset_index(inplace=True) \n",
    "        df['Date'] = df['Date'].dt.date\n",
    "      \n",
    "        return df"
   ]
  },
  {
   "cell_type": "code",
   "execution_count": null,
   "metadata": {},
   "outputs": [],
   "source": [
    "import yfinance as yf\n",
    "GetRILInformation = yf.Ticker(\"Reliance.NS\")\n",
    "from datetime import date, timedelta\n",
    "\n",
    "stock = 'Reliance.NS'\n",
    "interval = '1d'\n",
    "today = date.today()\n",
    "yesterday = today - timedelta(20)\n"
   ]
  },
  {
   "cell_type": "code",
   "execution_count": null,
   "metadata": {},
   "outputs": [],
   "source": [
    "stock_data = get_stock_data(stock,yesterday,today,interval)\n",
    "last10prices = stock_data[['Date','Close']].head(10)   \n",
    "last10prices"
   ]
  },
  {
   "cell_type": "code",
   "execution_count": null,
   "metadata": {},
   "outputs": [],
   "source": [
    "reconstructed_model.predict([last10prices.Close.tolist()])"
   ]
  },
  {
   "cell_type": "raw",
   "metadata": {},
   "source": [
    "import urllib.request\n",
    "\n",
    "urllib.request.urlretrieve(\n",
    "    'https://github.com/gitsim02/FoundationProject-1/blob/a178b14207a3ca0cc3773acf59fd6b5213992a87/my_model.h5', \n",
    "    'model.h5')"
   ]
  },
  {
   "cell_type": "code",
   "execution_count": null,
   "metadata": {},
   "outputs": [],
   "source": [
    "#my_model = './model.h5'\n",
    "my_model = load_model('my_model.h5')"
   ]
  },
  {
   "cell_type": "code",
   "execution_count": null,
   "metadata": {},
   "outputs": [],
   "source": [
    "my_model.predict([last10prices.Close.tolist()])"
   ]
  },
  {
   "cell_type": "markdown",
   "metadata": {},
   "source": [
    "## Business Success Criteria"
   ]
  },
  {
   "cell_type": "code",
   "execution_count": 48,
   "metadata": {},
   "outputs": [
    {
     "data": {
      "text/html": [
       "<div>\n",
       "<style scoped>\n",
       "    .dataframe tbody tr th:only-of-type {\n",
       "        vertical-align: middle;\n",
       "    }\n",
       "\n",
       "    .dataframe tbody tr th {\n",
       "        vertical-align: top;\n",
       "    }\n",
       "\n",
       "    .dataframe thead th {\n",
       "        text-align: right;\n",
       "    }\n",
       "</style>\n",
       "<table border=\"1\" class=\"dataframe\">\n",
       "  <thead>\n",
       "    <tr style=\"text-align: right;\">\n",
       "      <th></th>\n",
       "      <th>Close</th>\n",
       "      <th>Predictions</th>\n",
       "      <th>title_senti_comp</th>\n",
       "      <th>news_senti_comp</th>\n",
       "      <th>avg_senti_comp</th>\n",
       "      <th>residual</th>\n",
       "      <th>ols_adjusted_pred</th>\n",
       "    </tr>\n",
       "    <tr>\n",
       "      <th>Date</th>\n",
       "      <th></th>\n",
       "      <th></th>\n",
       "      <th></th>\n",
       "      <th></th>\n",
       "      <th></th>\n",
       "      <th></th>\n",
       "      <th></th>\n",
       "    </tr>\n",
       "  </thead>\n",
       "  <tbody>\n",
       "    <tr>\n",
       "      <th>2021-04-09</th>\n",
       "      <td>1982.050049</td>\n",
       "      <td>1997.647949</td>\n",
       "      <td>0.0</td>\n",
       "      <td>0.0</td>\n",
       "      <td>0.0</td>\n",
       "      <td>15.597900</td>\n",
       "      <td>1988.525049</td>\n",
       "    </tr>\n",
       "    <tr>\n",
       "      <th>2021-04-12</th>\n",
       "      <td>1911.150024</td>\n",
       "      <td>1995.847900</td>\n",
       "      <td>0.0</td>\n",
       "      <td>0.0</td>\n",
       "      <td>0.0</td>\n",
       "      <td>84.697876</td>\n",
       "      <td>1917.625024</td>\n",
       "    </tr>\n",
       "    <tr>\n",
       "      <th>2021-04-13</th>\n",
       "      <td>1931.800049</td>\n",
       "      <td>1942.678833</td>\n",
       "      <td>0.0</td>\n",
       "      <td>0.0</td>\n",
       "      <td>0.0</td>\n",
       "      <td>10.878784</td>\n",
       "      <td>1938.275049</td>\n",
       "    </tr>\n",
       "    <tr>\n",
       "      <th>2021-04-15</th>\n",
       "      <td>1944.300049</td>\n",
       "      <td>1919.211670</td>\n",
       "      <td>0.0</td>\n",
       "      <td>0.0</td>\n",
       "      <td>0.0</td>\n",
       "      <td>-25.088379</td>\n",
       "      <td>1950.775049</td>\n",
       "    </tr>\n",
       "    <tr>\n",
       "      <th>2021-04-16</th>\n",
       "      <td>1932.099976</td>\n",
       "      <td>1918.387451</td>\n",
       "      <td>0.0</td>\n",
       "      <td>0.0</td>\n",
       "      <td>0.0</td>\n",
       "      <td>-13.712524</td>\n",
       "      <td>1938.574976</td>\n",
       "    </tr>\n",
       "  </tbody>\n",
       "</table>\n",
       "</div>"
      ],
      "text/plain": [
       "                  Close  Predictions  title_senti_comp  news_senti_comp  \\\n",
       "Date                                                                      \n",
       "2021-04-09  1982.050049  1997.647949               0.0              0.0   \n",
       "2021-04-12  1911.150024  1995.847900               0.0              0.0   \n",
       "2021-04-13  1931.800049  1942.678833               0.0              0.0   \n",
       "2021-04-15  1944.300049  1919.211670               0.0              0.0   \n",
       "2021-04-16  1932.099976  1918.387451               0.0              0.0   \n",
       "\n",
       "            avg_senti_comp   residual  ols_adjusted_pred  \n",
       "Date                                                      \n",
       "2021-04-09             0.0  15.597900        1988.525049  \n",
       "2021-04-12             0.0  84.697876        1917.625024  \n",
       "2021-04-13             0.0  10.878784        1938.275049  \n",
       "2021-04-15             0.0 -25.088379        1950.775049  \n",
       "2021-04-16             0.0 -13.712524        1938.574976  "
      ]
     },
     "execution_count": 48,
     "metadata": {},
     "output_type": "execute_result"
    }
   ],
   "source": [
    "lstm_pred_sentiment.head()"
   ]
  },
  {
   "cell_type": "markdown",
   "metadata": {},
   "source": [
    "Let's say user wants to invest Rs.1,00,000 across a duration of 1 month.  \n",
    "Using our model, the user may get a return of 12% to 14% CAGR"
   ]
  },
  {
   "cell_type": "code",
   "execution_count": 60,
   "metadata": {},
   "outputs": [
    {
     "data": {
      "text/plain": [
       "Hold    241\n",
       "Buy      25\n",
       "Name: recommendation, dtype: int64"
      ]
     },
     "execution_count": 60,
     "metadata": {},
     "output_type": "execute_result"
    }
   ],
   "source": [
    "lstm_pred_sentiment['recommendation'] = np.where(lstm_pred_sentiment['ols_adjusted_pred']>\n",
    "                                                 1.0032*lstm_pred_sentiment['Close'],\n",
    "                                                'Buy','Hold')\n",
    "lstm_pred_sentiment['recommendation'].value_counts()"
   ]
  },
  {
   "cell_type": "code",
   "execution_count": 74,
   "metadata": {},
   "outputs": [
    {
     "data": {
      "image/png": "[encoded data removed]",
      "text/plain": [
       "<Figure size 432x288 with 1 Axes>"
      ]
     },
     "metadata": {},
     "output_type": "display_data"
    }
   ],
   "source": [
    "sns.countplot(data = lstm_pred_sentiment, x='recommendation')\n",
    "plt.title(\"\");"
   ]
  },
  {
   "cell_type": "code",
   "execution_count": 61,
   "metadata": {},
   "outputs": [],
   "source": [
    "lstm_pred_sentiment['Buy'] = np.where(lstm_pred_sentiment['recommendation']=='Buy',1,0)\n",
    "lstm_pred_sentiment['Purchased'] = lstm_pred_sentiment['Buy']*lstm_pred_sentiment['Close']"
   ]
  },
  {
   "cell_type": "code",
   "execution_count": 62,
   "metadata": {},
   "outputs": [
    {
     "data": {
      "text/plain": [
       "50590.35046386719"
      ]
     },
     "execution_count": 62,
     "metadata": {},
     "output_type": "execute_result"
    }
   ],
   "source": [
    "sum(lstm_pred_sentiment['Purchased'])"
   ]
  },
  {
   "cell_type": "code",
   "execution_count": 63,
   "metadata": {},
   "outputs": [
    {
     "data": {
      "text/plain": [
       "25"
      ]
     },
     "execution_count": 63,
     "metadata": {},
     "output_type": "execute_result"
    }
   ],
   "source": [
    "sum(lstm_pred_sentiment['Buy'])"
   ]
  },
  {
   "cell_type": "code",
   "execution_count": 68,
   "metadata": {},
   "outputs": [
    {
     "data": {
      "text/plain": [
       "(Date\n",
       " 2022-05-06    2620.649902\n",
       " Name: Close, dtype: float64,\n",
       " Date\n",
       " 2022-05-06    65516.247559\n",
       " Name: Close, dtype: float64)"
      ]
     },
     "execution_count": 68,
     "metadata": {},
     "output_type": "execute_result"
    }
   ],
   "source": [
    "lstm_pred_sentiment.tail(1)['Close'], lstm_pred_sentiment.tail(1)['Close']*25"
   ]
  },
  {
   "cell_type": "code",
   "execution_count": 69,
   "metadata": {},
   "outputs": [
    {
     "data": {
      "text/plain": [
       "0.29503854516702904"
      ]
     },
     "execution_count": 69,
     "metadata": {},
     "output_type": "execute_result"
    }
   ],
   "source": [
    "(65516-50590)/50590"
   ]
  },
  {
   "cell_type": "raw",
   "metadata": {},
   "source": [
    "lstm_pred_sentiment.to_csv(r\"G:\\ISB AMPBA\\13. Foundation Project\\FoundationProject-1-main\\final_dataset.csv\")"
   ]
  },
  {
   "cell_type": "markdown",
   "metadata": {},
   "source": [
    "## END"
   ]
  }
 ],
 "metadata": {
  "kernelspec": {
   "display_name": "Python 3",
   "language": "python",
   "name": "python3"
  },
  "language_info": {
   "codemirror_mode": {
    "name": "ipython",
    "version": 3
   },
   "file_extension": ".py",
   "mimetype": "text/x-python",
   "name": "python",
   "nbconvert_exporter": "python",
   "pygments_lexer": "ipython3",
   "version": "3.8.5"
  },
  "vscode": {
   "interpreter": {
    "hash": "2b9f91ff83407beeef0ca992536d5a2e5f8bb88641087e9da4ef24875be3a70b"
   }
  }
 },
 "nbformat": 4,
 "nbformat_minor": 5
}
