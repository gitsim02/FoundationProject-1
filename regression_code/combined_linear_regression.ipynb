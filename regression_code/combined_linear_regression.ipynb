{
 "cells": [
  {
   "cell_type": "code",
   "execution_count": 1,
   "id": "9780e0ab",
   "metadata": {},
   "outputs": [],
   "source": [
    "import pandas as pd\n",
    "import numpy as np\n",
    "from sklearn.model_selection import train_test_split\n",
    "from sklearn.preprocessing import StandardScaler\n",
    "from sklearn.compose import ColumnTransformer\n",
    "from sklearn.pipeline import Pipeline\n",
    "from sklearn.linear_model import SGDRegressor,LogisticRegression\n",
    "from sklearn.metrics import mean_squared_error, r2_score,accuracy_score, recall_score, precision_score, classification_report\n",
    "from sklearn.metrics import confusion_matrix, ConfusionMatrixDisplay\n",
    "from joblib import dump"
   ]
  },
  {
   "cell_type": "code",
   "execution_count": 2,
   "id": "561ddb20",
   "metadata": {},
   "outputs": [],
   "source": [
    "# read sentiment data\n",
    "df_news = pd.read_csv(\"https://raw.githubusercontent.com/gitsim02/FoundationProject-1/main/data/Reliance_sentiment.csv\")"
   ]
  },
  {
   "cell_type": "code",
   "execution_count": 3,
   "id": "ee6f59fe",
   "metadata": {},
   "outputs": [],
   "source": [
    "# read price data\n",
    "df_price = pd.read_csv(\"https://raw.githubusercontent.com/gitsim02/FoundationProject-1/main/data/reliance_prices.csv\")"
   ]
  },
  {
   "cell_type": "code",
   "execution_count": 4,
   "id": "feec4d92",
   "metadata": {},
   "outputs": [
    {
     "name": "stdout",
     "output_type": "stream",
     "text": [
      "<class 'pandas.core.frame.DataFrame'>\n",
      "RangeIndex: 1384 entries, 0 to 1383\n",
      "Data columns (total 21 columns):\n",
      " #   Column       Non-Null Count  Dtype  \n",
      "---  ------       --------------  -----  \n",
      " 0   Date         1384 non-null   object \n",
      " 1   Open         1384 non-null   float64\n",
      " 2   High         1384 non-null   float64\n",
      " 3   Low          1384 non-null   float64\n",
      " 4   Close        1384 non-null   float64\n",
      " 5   Adj Close    1384 non-null   float64\n",
      " 6   Volume       1384 non-null   int64  \n",
      " 7   1d_diff      1384 non-null   float64\n",
      " 8   5d_diff      1384 non-null   float64\n",
      " 9   10d_diff     1384 non-null   float64\n",
      " 10  SMA3         1384 non-null   float64\n",
      " 11  SMA5         1384 non-null   float64\n",
      " 12  SMA9         1384 non-null   float64\n",
      " 13  SMA15        1384 non-null   float64\n",
      " 14  SMA30        1384 non-null   float64\n",
      " 15  EMA3         1384 non-null   float64\n",
      " 16  EMA5         1384 non-null   float64\n",
      " 17  EMA9         1384 non-null   float64\n",
      " 18  EMA15        1384 non-null   float64\n",
      " 19  EMA30        1384 non-null   float64\n",
      " 20  Volume_100k  1384 non-null   float64\n",
      "dtypes: float64(19), int64(1), object(1)\n",
      "memory usage: 227.2+ KB\n"
     ]
    }
   ],
   "source": [
    "df_price.info()"
   ]
  },
  {
   "cell_type": "code",
   "execution_count": 5,
   "id": "d4c90f3a",
   "metadata": {},
   "outputs": [
    {
     "name": "stdout",
     "output_type": "stream",
     "text": [
      "<class 'pandas.core.frame.DataFrame'>\n",
      "RangeIndex: 654 entries, 0 to 653\n",
      "Data columns (total 4 columns):\n",
      " #   Column            Non-Null Count  Dtype  \n",
      "---  ------            --------------  -----  \n",
      " 0   date              654 non-null    object \n",
      " 1   title_senti_comp  654 non-null    float64\n",
      " 2   news_senti_comp   654 non-null    float64\n",
      " 3   avg_senti_comp    654 non-null    float64\n",
      "dtypes: float64(3), object(1)\n",
      "memory usage: 20.6+ KB\n"
     ]
    }
   ],
   "source": [
    "df_news.info()"
   ]
  },
  {
   "cell_type": "code",
   "execution_count": 6,
   "id": "a45f5d50",
   "metadata": {},
   "outputs": [],
   "source": [
    "df_news['date'] = pd.to_datetime(df_news.date)\n",
    "df_price['Date'] = pd.to_datetime(df_price.Date)"
   ]
  },
  {
   "cell_type": "code",
   "execution_count": 7,
   "id": "fa0f4680",
   "metadata": {},
   "outputs": [],
   "source": [
    "# combine sentiment & price data based on \"date\"\n",
    "df_combined = pd.merge(left=df_price,right=df_news,how=\"left\",left_on = 'Date',right_on='date')"
   ]
  },
  {
   "cell_type": "code",
   "execution_count": 8,
   "id": "0507f5f5",
   "metadata": {},
   "outputs": [],
   "source": [
    "df_combined.drop(['date'],axis=1,inplace=True)"
   ]
  },
  {
   "cell_type": "code",
   "execution_count": 9,
   "id": "15e523ac",
   "metadata": {},
   "outputs": [
    {
     "data": {
      "text/html": [
       "<div>\n",
       "<style scoped>\n",
       "    .dataframe tbody tr th:only-of-type {\n",
       "        vertical-align: middle;\n",
       "    }\n",
       "\n",
       "    .dataframe tbody tr th {\n",
       "        vertical-align: top;\n",
       "    }\n",
       "\n",
       "    .dataframe thead th {\n",
       "        text-align: right;\n",
       "    }\n",
       "</style>\n",
       "<table border=\"1\" class=\"dataframe\">\n",
       "  <thead>\n",
       "    <tr style=\"text-align: right;\">\n",
       "      <th></th>\n",
       "      <th>Date</th>\n",
       "      <th>Open</th>\n",
       "      <th>High</th>\n",
       "      <th>Low</th>\n",
       "      <th>Close</th>\n",
       "      <th>Adj Close</th>\n",
       "      <th>Volume</th>\n",
       "      <th>1d_diff</th>\n",
       "      <th>5d_diff</th>\n",
       "      <th>10d_diff</th>\n",
       "      <th>...</th>\n",
       "      <th>SMA30</th>\n",
       "      <th>EMA3</th>\n",
       "      <th>EMA5</th>\n",
       "      <th>EMA9</th>\n",
       "      <th>EMA15</th>\n",
       "      <th>EMA30</th>\n",
       "      <th>Volume_100k</th>\n",
       "      <th>title_senti_comp</th>\n",
       "      <th>news_senti_comp</th>\n",
       "      <th>avg_senti_comp</th>\n",
       "    </tr>\n",
       "  </thead>\n",
       "  <tbody>\n",
       "    <tr>\n",
       "      <th>1379</th>\n",
       "      <td>2022-07-11</td>\n",
       "      <td>2376.500000</td>\n",
       "      <td>2428.800049</td>\n",
       "      <td>2370.000000</td>\n",
       "      <td>2423.899902</td>\n",
       "      <td>2423.899902</td>\n",
       "      <td>6390604</td>\n",
       "      <td>3.449951</td>\n",
       "      <td>1.649902</td>\n",
       "      <td>3.500000</td>\n",
       "      <td>...</td>\n",
       "      <td>2574.979997</td>\n",
       "      <td>2411.709763</td>\n",
       "      <td>2417.687410</td>\n",
       "      <td>2439.967735</td>\n",
       "      <td>2472.975022</td>\n",
       "      <td>2523.815943</td>\n",
       "      <td>63.906</td>\n",
       "      <td>NaN</td>\n",
       "      <td>NaN</td>\n",
       "      <td>NaN</td>\n",
       "    </tr>\n",
       "    <tr>\n",
       "      <th>1380</th>\n",
       "      <td>2022-07-12</td>\n",
       "      <td>2404.000000</td>\n",
       "      <td>2439.699951</td>\n",
       "      <td>2404.000000</td>\n",
       "      <td>2420.449951</td>\n",
       "      <td>2420.449951</td>\n",
       "      <td>4974502</td>\n",
       "      <td>42.899902</td>\n",
       "      <td>-16.650146</td>\n",
       "      <td>-1.050049</td>\n",
       "      <td>...</td>\n",
       "      <td>2567.906665</td>\n",
       "      <td>2416.079857</td>\n",
       "      <td>2418.608257</td>\n",
       "      <td>2436.064178</td>\n",
       "      <td>2466.409388</td>\n",
       "      <td>2517.147169</td>\n",
       "      <td>49.745</td>\n",
       "      <td>NaN</td>\n",
       "      <td>NaN</td>\n",
       "      <td>NaN</td>\n",
       "    </tr>\n",
       "    <tr>\n",
       "      <th>1381</th>\n",
       "      <td>2022-07-13</td>\n",
       "      <td>2427.300049</td>\n",
       "      <td>2434.000000</td>\n",
       "      <td>2373.000000</td>\n",
       "      <td>2377.550049</td>\n",
       "      <td>2377.550049</td>\n",
       "      <td>6564435</td>\n",
       "      <td>-19.599854</td>\n",
       "      <td>-125.449951</td>\n",
       "      <td>-41.649902</td>\n",
       "      <td>...</td>\n",
       "      <td>2559.375000</td>\n",
       "      <td>2396.814953</td>\n",
       "      <td>2404.922187</td>\n",
       "      <td>2424.361352</td>\n",
       "      <td>2455.301971</td>\n",
       "      <td>2508.140903</td>\n",
       "      <td>65.644</td>\n",
       "      <td>0.0</td>\n",
       "      <td>-0.0772</td>\n",
       "      <td>-0.04</td>\n",
       "    </tr>\n",
       "    <tr>\n",
       "      <th>1382</th>\n",
       "      <td>2022-07-14</td>\n",
       "      <td>2388.000000</td>\n",
       "      <td>2433.949951</td>\n",
       "      <td>2376.949951</td>\n",
       "      <td>2397.149902</td>\n",
       "      <td>2397.149902</td>\n",
       "      <td>7831798</td>\n",
       "      <td>-4.650146</td>\n",
       "      <td>-89.150146</td>\n",
       "      <td>-59.950195</td>\n",
       "      <td>...</td>\n",
       "      <td>2548.469995</td>\n",
       "      <td>2396.982428</td>\n",
       "      <td>2402.331426</td>\n",
       "      <td>2418.919062</td>\n",
       "      <td>2448.032962</td>\n",
       "      <td>2500.980193</td>\n",
       "      <td>78.318</td>\n",
       "      <td>0.0</td>\n",
       "      <td>0.4703</td>\n",
       "      <td>0.24</td>\n",
       "    </tr>\n",
       "    <tr>\n",
       "      <th>1383</th>\n",
       "      <td>2022-07-15</td>\n",
       "      <td>2415.000000</td>\n",
       "      <td>2415.000000</td>\n",
       "      <td>2383.100098</td>\n",
       "      <td>2401.800049</td>\n",
       "      <td>2401.800049</td>\n",
       "      <td>4431880</td>\n",
       "      <td>-20.449951</td>\n",
       "      <td>-101.300049</td>\n",
       "      <td>-107.649902</td>\n",
       "      <td>...</td>\n",
       "      <td>2535.879997</td>\n",
       "      <td>2399.391238</td>\n",
       "      <td>2402.154300</td>\n",
       "      <td>2415.495260</td>\n",
       "      <td>2442.253848</td>\n",
       "      <td>2494.581474</td>\n",
       "      <td>44.319</td>\n",
       "      <td>NaN</td>\n",
       "      <td>NaN</td>\n",
       "      <td>NaN</td>\n",
       "    </tr>\n",
       "  </tbody>\n",
       "</table>\n",
       "<p>5 rows × 24 columns</p>\n",
       "</div>"
      ],
      "text/plain": [
       "           Date         Open         High          Low        Close  \\\n",
       "1379 2022-07-11  2376.500000  2428.800049  2370.000000  2423.899902   \n",
       "1380 2022-07-12  2404.000000  2439.699951  2404.000000  2420.449951   \n",
       "1381 2022-07-13  2427.300049  2434.000000  2373.000000  2377.550049   \n",
       "1382 2022-07-14  2388.000000  2433.949951  2376.949951  2397.149902   \n",
       "1383 2022-07-15  2415.000000  2415.000000  2383.100098  2401.800049   \n",
       "\n",
       "        Adj Close   Volume    1d_diff     5d_diff    10d_diff  ...  \\\n",
       "1379  2423.899902  6390604   3.449951    1.649902    3.500000  ...   \n",
       "1380  2420.449951  4974502  42.899902  -16.650146   -1.050049  ...   \n",
       "1381  2377.550049  6564435 -19.599854 -125.449951  -41.649902  ...   \n",
       "1382  2397.149902  7831798  -4.650146  -89.150146  -59.950195  ...   \n",
       "1383  2401.800049  4431880 -20.449951 -101.300049 -107.649902  ...   \n",
       "\n",
       "            SMA30         EMA3         EMA5         EMA9        EMA15  \\\n",
       "1379  2574.979997  2411.709763  2417.687410  2439.967735  2472.975022   \n",
       "1380  2567.906665  2416.079857  2418.608257  2436.064178  2466.409388   \n",
       "1381  2559.375000  2396.814953  2404.922187  2424.361352  2455.301971   \n",
       "1382  2548.469995  2396.982428  2402.331426  2418.919062  2448.032962   \n",
       "1383  2535.879997  2399.391238  2402.154300  2415.495260  2442.253848   \n",
       "\n",
       "            EMA30  Volume_100k  title_senti_comp  news_senti_comp  \\\n",
       "1379  2523.815943       63.906               NaN              NaN   \n",
       "1380  2517.147169       49.745               NaN              NaN   \n",
       "1381  2508.140903       65.644               0.0          -0.0772   \n",
       "1382  2500.980193       78.318               0.0           0.4703   \n",
       "1383  2494.581474       44.319               NaN              NaN   \n",
       "\n",
       "      avg_senti_comp  \n",
       "1379             NaN  \n",
       "1380             NaN  \n",
       "1381           -0.04  \n",
       "1382            0.24  \n",
       "1383             NaN  \n",
       "\n",
       "[5 rows x 24 columns]"
      ]
     },
     "execution_count": 9,
     "metadata": {},
     "output_type": "execute_result"
    }
   ],
   "source": [
    "df_combined.tail()"
   ]
  },
  {
   "cell_type": "code",
   "execution_count": 10,
   "id": "27b461ed",
   "metadata": {},
   "outputs": [
    {
     "data": {
      "text/html": [
       "<div>\n",
       "<style scoped>\n",
       "    .dataframe tbody tr th:only-of-type {\n",
       "        vertical-align: middle;\n",
       "    }\n",
       "\n",
       "    .dataframe tbody tr th {\n",
       "        vertical-align: top;\n",
       "    }\n",
       "\n",
       "    .dataframe thead th {\n",
       "        text-align: right;\n",
       "    }\n",
       "</style>\n",
       "<table border=\"1\" class=\"dataframe\">\n",
       "  <thead>\n",
       "    <tr style=\"text-align: right;\">\n",
       "      <th></th>\n",
       "      <th>Date</th>\n",
       "      <th>Close</th>\n",
       "      <th>1d_diff</th>\n",
       "    </tr>\n",
       "  </thead>\n",
       "  <tbody>\n",
       "    <tr>\n",
       "      <th>0</th>\n",
       "      <td>2016-12-13</td>\n",
       "      <td>515.018127</td>\n",
       "      <td>-9.757507</td>\n",
       "    </tr>\n",
       "    <tr>\n",
       "      <th>1</th>\n",
       "      <td>2016-12-14</td>\n",
       "      <td>524.775635</td>\n",
       "      <td>3.244202</td>\n",
       "    </tr>\n",
       "    <tr>\n",
       "      <th>2</th>\n",
       "      <td>2016-12-15</td>\n",
       "      <td>521.531433</td>\n",
       "      <td>-2.080261</td>\n",
       "    </tr>\n",
       "    <tr>\n",
       "      <th>3</th>\n",
       "      <td>2016-12-16</td>\n",
       "      <td>523.611694</td>\n",
       "      <td>-2.674622</td>\n",
       "    </tr>\n",
       "    <tr>\n",
       "      <th>4</th>\n",
       "      <td>2016-12-19</td>\n",
       "      <td>526.286316</td>\n",
       "      <td>2.303162</td>\n",
       "    </tr>\n",
       "  </tbody>\n",
       "</table>\n",
       "</div>"
      ],
      "text/plain": [
       "        Date       Close   1d_diff\n",
       "0 2016-12-13  515.018127 -9.757507\n",
       "1 2016-12-14  524.775635  3.244202\n",
       "2 2016-12-15  521.531433 -2.080261\n",
       "3 2016-12-16  523.611694 -2.674622\n",
       "4 2016-12-19  526.286316  2.303162"
      ]
     },
     "execution_count": 10,
     "metadata": {},
     "output_type": "execute_result"
    }
   ],
   "source": [
    "df_combined[['Date','Close','1d_diff']].head()"
   ]
  },
  {
   "cell_type": "code",
   "execution_count": 11,
   "id": "1640138d",
   "metadata": {},
   "outputs": [
    {
     "data": {
      "text/plain": [
       "Date                  0\n",
       "Open                  0\n",
       "High                  0\n",
       "Low                   0\n",
       "Close                 0\n",
       "Adj Close             0\n",
       "Volume                0\n",
       "1d_diff               0\n",
       "5d_diff               0\n",
       "10d_diff              0\n",
       "SMA3                  0\n",
       "SMA5                  0\n",
       "SMA9                  0\n",
       "SMA15                 0\n",
       "SMA30                 0\n",
       "EMA3                  0\n",
       "EMA5                  0\n",
       "EMA9                  0\n",
       "EMA15                 0\n",
       "EMA30                 0\n",
       "Volume_100k           0\n",
       "title_senti_comp    846\n",
       "news_senti_comp     846\n",
       "avg_senti_comp      846\n",
       "dtype: int64"
      ]
     },
     "execution_count": 11,
     "metadata": {},
     "output_type": "execute_result"
    }
   ],
   "source": [
    "# ~845 days no news for reliance over 5+ years\n",
    "df_combined.isna().sum()"
   ]
  },
  {
   "cell_type": "code",
   "execution_count": 12,
   "id": "8e7fd570",
   "metadata": {},
   "outputs": [],
   "source": [
    "# impute that with 0\n",
    "df_combined.fillna(0.0,inplace=True)"
   ]
  },
  {
   "cell_type": "code",
   "execution_count": 13,
   "id": "849a1074",
   "metadata": {},
   "outputs": [],
   "source": [
    "df_combined['next_day_close'] = df_combined['Close'] - df_combined['1d_diff']"
   ]
  },
  {
   "cell_type": "code",
   "execution_count": 14,
   "id": "8b73b1a6",
   "metadata": {},
   "outputs": [
    {
     "data": {
      "text/html": [
       "<div>\n",
       "<style scoped>\n",
       "    .dataframe tbody tr th:only-of-type {\n",
       "        vertical-align: middle;\n",
       "    }\n",
       "\n",
       "    .dataframe tbody tr th {\n",
       "        vertical-align: top;\n",
       "    }\n",
       "\n",
       "    .dataframe thead th {\n",
       "        text-align: right;\n",
       "    }\n",
       "</style>\n",
       "<table border=\"1\" class=\"dataframe\">\n",
       "  <thead>\n",
       "    <tr style=\"text-align: right;\">\n",
       "      <th></th>\n",
       "      <th>Date</th>\n",
       "      <th>Close</th>\n",
       "      <th>next_day_close</th>\n",
       "      <th>1d_diff</th>\n",
       "    </tr>\n",
       "  </thead>\n",
       "  <tbody>\n",
       "    <tr>\n",
       "      <th>1379</th>\n",
       "      <td>2022-07-11</td>\n",
       "      <td>2423.899902</td>\n",
       "      <td>2420.449951</td>\n",
       "      <td>3.449951</td>\n",
       "    </tr>\n",
       "    <tr>\n",
       "      <th>1380</th>\n",
       "      <td>2022-07-12</td>\n",
       "      <td>2420.449951</td>\n",
       "      <td>2377.550049</td>\n",
       "      <td>42.899902</td>\n",
       "    </tr>\n",
       "    <tr>\n",
       "      <th>1381</th>\n",
       "      <td>2022-07-13</td>\n",
       "      <td>2377.550049</td>\n",
       "      <td>2397.149902</td>\n",
       "      <td>-19.599854</td>\n",
       "    </tr>\n",
       "    <tr>\n",
       "      <th>1382</th>\n",
       "      <td>2022-07-14</td>\n",
       "      <td>2397.149902</td>\n",
       "      <td>2401.800049</td>\n",
       "      <td>-4.650146</td>\n",
       "    </tr>\n",
       "    <tr>\n",
       "      <th>1383</th>\n",
       "      <td>2022-07-15</td>\n",
       "      <td>2401.800049</td>\n",
       "      <td>2422.250000</td>\n",
       "      <td>-20.449951</td>\n",
       "    </tr>\n",
       "  </tbody>\n",
       "</table>\n",
       "</div>"
      ],
      "text/plain": [
       "           Date        Close  next_day_close    1d_diff\n",
       "1379 2022-07-11  2423.899902     2420.449951   3.449951\n",
       "1380 2022-07-12  2420.449951     2377.550049  42.899902\n",
       "1381 2022-07-13  2377.550049     2397.149902 -19.599854\n",
       "1382 2022-07-14  2397.149902     2401.800049  -4.650146\n",
       "1383 2022-07-15  2401.800049     2422.250000 -20.449951"
      ]
     },
     "execution_count": 14,
     "metadata": {},
     "output_type": "execute_result"
    }
   ],
   "source": [
    "df_combined[['Date','Close','next_day_close','1d_diff']].tail()"
   ]
  },
  {
   "cell_type": "markdown",
   "id": "c51ef785",
   "metadata": {},
   "source": [
    "### model saving"
   ]
  },
  {
   "cell_type": "code",
   "execution_count": 15,
   "id": "8734f1d8",
   "metadata": {},
   "outputs": [],
   "source": [
    "class StockPredictionModel():\n",
    "    \n",
    "    def __init__(self, model, features, rmse):\n",
    "        self.model = model\n",
    "        self.features = features\n",
    "        self.rmse = rmse  "
   ]
  },
  {
   "cell_type": "markdown",
   "id": "2dbcac0f",
   "metadata": {},
   "source": [
    "## model creation"
   ]
  },
  {
   "cell_type": "code",
   "execution_count": 16,
   "id": "a0eaa330",
   "metadata": {},
   "outputs": [],
   "source": [
    "def linear_model_build_eval(X,Y,regressor_obj,train_size=0.7):\n",
    "    \n",
    "    ## train test split\n",
    "    X_train, X_test, y_train, y_test = train_test_split(X,\n",
    "                                                    Y,\n",
    "                                                    shuffle=False,\n",
    "                                                    train_size = train_size,\n",
    "                                                    random_state = 80)\n",
    "    \n",
    "    print(f\"Train size : {X_train.shape}; Test Size : {X_test.shape}\")\n",
    "    \n",
    "    # transformations\n",
    "    scaler = StandardScaler()\n",
    "    \n",
    "    # pipeline\n",
    "    lreg = Pipeline(steps=[('scaler', scaler),\n",
    "                          ('regressor', regressor_obj )])\n",
    "    \n",
    "    #fit train set\n",
    "    lreg.fit(X_train,y_train)\n",
    "    \n",
    "    print(f\"Intercept : {lreg['regressor'].intercept_}\")\n",
    "    \n",
    "    print(f\"Coefficient : {dict(zip(X, np.round(lreg['regressor'].coef_, 2)))}\")\n",
    "    \n",
    "    y_pred = lreg.predict(X_test)\n",
    "    rmse = np.sqrt(mean_squared_error(y_test,y_pred))\n",
    "    r2 = r2_score(y_test,y_pred)\n",
    "    \n",
    "    return y_pred,y_test,X_test,rmse,r2,lreg"
   ]
  },
  {
   "cell_type": "markdown",
   "id": "72e6a68e",
   "metadata": {},
   "source": [
    "## 1d prediction"
   ]
  },
  {
   "cell_type": "code",
   "execution_count": 17,
   "id": "3eeed2ea",
   "metadata": {},
   "outputs": [],
   "source": [
    "x_features_1d = ['Volume_100k','EMA3','EMA5','news_senti_comp']"
   ]
  },
  {
   "cell_type": "code",
   "execution_count": 18,
   "id": "13ac3267",
   "metadata": {},
   "outputs": [
    {
     "name": "stdout",
     "output_type": "stream",
     "text": [
      "<class 'pandas.core.frame.DataFrame'>\n",
      "Int64Index: 1384 entries, 0 to 1383\n",
      "Data columns (total 4 columns):\n",
      " #   Column           Non-Null Count  Dtype  \n",
      "---  ------           --------------  -----  \n",
      " 0   Volume_100k      1384 non-null   float64\n",
      " 1   EMA3             1384 non-null   float64\n",
      " 2   EMA5             1384 non-null   float64\n",
      " 3   news_senti_comp  1384 non-null   float64\n",
      "dtypes: float64(4)\n",
      "memory usage: 54.1 KB\n"
     ]
    }
   ],
   "source": [
    "df_combined[x_features_1d].info()"
   ]
  },
  {
   "cell_type": "code",
   "execution_count": 19,
   "id": "5c768cca",
   "metadata": {},
   "outputs": [],
   "source": [
    "# df_combined[x_features_1d]"
   ]
  },
  {
   "cell_type": "code",
   "execution_count": 20,
   "id": "ef133b5d",
   "metadata": {},
   "outputs": [],
   "source": [
    "X1d = df_combined[x_features_1d]\n",
    "y1d= df_combined['next_day_close']"
   ]
  },
  {
   "cell_type": "code",
   "execution_count": 21,
   "id": "d83aac1f",
   "metadata": {},
   "outputs": [],
   "source": [
    "sgdregressor = SGDRegressor(max_iter=1000, eta0=0.01)"
   ]
  },
  {
   "cell_type": "code",
   "execution_count": 22,
   "id": "e1c8d588",
   "metadata": {},
   "outputs": [
    {
     "name": "stdout",
     "output_type": "stream",
     "text": [
      "Train size : (968, 4); Test Size : (416, 4)\n",
      "Intercept : [1169.72720974]\n",
      "Coefficient : {'Volume_100k': 5.63, 'EMA3': 209.77, 'EMA5': 203.97, 'news_senti_comp': 1.07}\n"
     ]
    }
   ],
   "source": [
    "y_pred1,y_test1,X_test1,rmse_1,r2_1,linear_1d = linear_model_build_eval(X=X1d,Y=y1d,\n",
    "                                                     regressor_obj=sgdregressor,\n",
    "                                                     train_size=0.7)"
   ]
  },
  {
   "cell_type": "code",
   "execution_count": 23,
   "id": "41f758bf",
   "metadata": {},
   "outputs": [
    {
     "data": {
      "text/plain": [
       "49.66879086934358"
      ]
     },
     "execution_count": 23,
     "metadata": {},
     "output_type": "execute_result"
    }
   ],
   "source": [
    "rmse_1"
   ]
  },
  {
   "cell_type": "code",
   "execution_count": 24,
   "id": "47f71a8e",
   "metadata": {},
   "outputs": [
    {
     "data": {
      "text/plain": [
       "0.9622538456668742"
      ]
     },
     "execution_count": 24,
     "metadata": {},
     "output_type": "execute_result"
    }
   ],
   "source": [
    "r2_1"
   ]
  },
  {
   "cell_type": "code",
   "execution_count": 25,
   "id": "2cd33ddf",
   "metadata": {},
   "outputs": [
    {
     "data": {
      "text/html": [
       "<div>\n",
       "<style scoped>\n",
       "    .dataframe tbody tr th:only-of-type {\n",
       "        vertical-align: middle;\n",
       "    }\n",
       "\n",
       "    .dataframe tbody tr th {\n",
       "        vertical-align: top;\n",
       "    }\n",
       "\n",
       "    .dataframe thead th {\n",
       "        text-align: right;\n",
       "    }\n",
       "</style>\n",
       "<table border=\"1\" class=\"dataframe\">\n",
       "  <thead>\n",
       "    <tr style=\"text-align: right;\">\n",
       "      <th></th>\n",
       "      <th>y_actual</th>\n",
       "      <th>y_pred</th>\n",
       "      <th>residual</th>\n",
       "    </tr>\n",
       "  </thead>\n",
       "  <tbody>\n",
       "    <tr>\n",
       "      <th>968</th>\n",
       "      <td>1996.400024</td>\n",
       "      <td>2009.226906</td>\n",
       "      <td>-12.826882</td>\n",
       "    </tr>\n",
       "    <tr>\n",
       "      <th>969</th>\n",
       "      <td>2002.300049</td>\n",
       "      <td>2011.244623</td>\n",
       "      <td>-8.944574</td>\n",
       "    </tr>\n",
       "    <tr>\n",
       "      <th>970</th>\n",
       "      <td>1993.250000</td>\n",
       "      <td>1996.354089</td>\n",
       "      <td>-3.104089</td>\n",
       "    </tr>\n",
       "    <tr>\n",
       "      <th>971</th>\n",
       "      <td>1987.199951</td>\n",
       "      <td>2009.022988</td>\n",
       "      <td>-21.823036</td>\n",
       "    </tr>\n",
       "    <tr>\n",
       "      <th>972</th>\n",
       "      <td>1973.150024</td>\n",
       "      <td>1996.653077</td>\n",
       "      <td>-23.503053</td>\n",
       "    </tr>\n",
       "    <tr>\n",
       "      <th>...</th>\n",
       "      <td>...</td>\n",
       "      <td>...</td>\n",
       "      <td>...</td>\n",
       "    </tr>\n",
       "    <tr>\n",
       "      <th>1379</th>\n",
       "      <td>2420.449951</td>\n",
       "      <td>2411.202513</td>\n",
       "      <td>9.247438</td>\n",
       "    </tr>\n",
       "    <tr>\n",
       "      <th>1380</th>\n",
       "      <td>2377.550049</td>\n",
       "      <td>2412.885642</td>\n",
       "      <td>-35.335593</td>\n",
       "    </tr>\n",
       "    <tr>\n",
       "      <th>1381</th>\n",
       "      <td>2397.149902</td>\n",
       "      <td>2397.283892</td>\n",
       "      <td>-0.133990</td>\n",
       "    </tr>\n",
       "    <tr>\n",
       "      <th>1382</th>\n",
       "      <td>2401.800049</td>\n",
       "      <td>2398.644108</td>\n",
       "      <td>3.155941</td>\n",
       "    </tr>\n",
       "    <tr>\n",
       "      <th>1383</th>\n",
       "      <td>2422.250000</td>\n",
       "      <td>2395.988501</td>\n",
       "      <td>26.261499</td>\n",
       "    </tr>\n",
       "  </tbody>\n",
       "</table>\n",
       "<p>416 rows × 3 columns</p>\n",
       "</div>"
      ],
      "text/plain": [
       "         y_actual       y_pred   residual\n",
       "968   1996.400024  2009.226906 -12.826882\n",
       "969   2002.300049  2011.244623  -8.944574\n",
       "970   1993.250000  1996.354089  -3.104089\n",
       "971   1987.199951  2009.022988 -21.823036\n",
       "972   1973.150024  1996.653077 -23.503053\n",
       "...           ...          ...        ...\n",
       "1379  2420.449951  2411.202513   9.247438\n",
       "1380  2377.550049  2412.885642 -35.335593\n",
       "1381  2397.149902  2397.283892  -0.133990\n",
       "1382  2401.800049  2398.644108   3.155941\n",
       "1383  2422.250000  2395.988501  26.261499\n",
       "\n",
       "[416 rows x 3 columns]"
      ]
     },
     "execution_count": 25,
     "metadata": {},
     "output_type": "execute_result"
    }
   ],
   "source": [
    "pd.DataFrame({\"y_actual\":y_test1,\n",
    "             \"y_pred\":y_pred1,\n",
    "             \"residual\":y_test1-y_pred1})"
   ]
  },
  {
   "cell_type": "code",
   "execution_count": 26,
   "id": "c7d549dc",
   "metadata": {},
   "outputs": [
    {
     "data": {
      "text/plain": [
       "'C:\\\\Users\\\\Siddharth Maheshwari\\\\OneDrive\\\\Desktop\\\\ISB AMPBA\\\\Term 2\\\\FP1\\\\FoundationProject-1\\\\regression_code'"
      ]
     },
     "execution_count": 26,
     "metadata": {},
     "output_type": "execute_result"
    }
   ],
   "source": [
    "import os\n",
    "\n",
    "os.getcwd()"
   ]
  },
  {
   "cell_type": "code",
   "execution_count": 27,
   "id": "28b488d6",
   "metadata": {},
   "outputs": [
    {
     "data": {
      "text/plain": [
       "['.\\\\..\\\\linear_models\\\\lm_1d.pkl']"
      ]
     },
     "execution_count": 27,
     "metadata": {},
     "output_type": "execute_result"
    }
   ],
   "source": [
    "## save model and dump\n",
    "linear_model_save = StockPredictionModel(linear_1d,list(X1d.columns),rmse_1)\n",
    "\n",
    "dump(linear_model_save,\".\\\\..\\\\linear_models\\\\lm_1d.pkl\")"
   ]
  },
  {
   "cell_type": "markdown",
   "id": "3a6e2606",
   "metadata": {},
   "source": [
    "## 5d Prediction\n",
    "\n",
    "##### Monday to Monday prediction"
   ]
  },
  {
   "cell_type": "code",
   "execution_count": 28,
   "id": "7ec87519",
   "metadata": {},
   "outputs": [],
   "source": [
    "df_combined['next5_day_close'] = df_combined['Close'] - df_combined['5d_diff']"
   ]
  },
  {
   "cell_type": "code",
   "execution_count": 29,
   "id": "7875b63a",
   "metadata": {},
   "outputs": [
    {
     "data": {
      "text/html": [
       "<div>\n",
       "<style scoped>\n",
       "    .dataframe tbody tr th:only-of-type {\n",
       "        vertical-align: middle;\n",
       "    }\n",
       "\n",
       "    .dataframe tbody tr th {\n",
       "        vertical-align: top;\n",
       "    }\n",
       "\n",
       "    .dataframe thead th {\n",
       "        text-align: right;\n",
       "    }\n",
       "</style>\n",
       "<table border=\"1\" class=\"dataframe\">\n",
       "  <thead>\n",
       "    <tr style=\"text-align: right;\">\n",
       "      <th></th>\n",
       "      <th>Date</th>\n",
       "      <th>Close</th>\n",
       "      <th>next5_day_close</th>\n",
       "      <th>5d_diff</th>\n",
       "    </tr>\n",
       "  </thead>\n",
       "  <tbody>\n",
       "    <tr>\n",
       "      <th>0</th>\n",
       "      <td>2016-12-13</td>\n",
       "      <td>515.018127</td>\n",
       "      <td>523.983154</td>\n",
       "      <td>-8.965027</td>\n",
       "    </tr>\n",
       "    <tr>\n",
       "      <th>1</th>\n",
       "      <td>2016-12-14</td>\n",
       "      <td>524.775635</td>\n",
       "      <td>526.633057</td>\n",
       "      <td>-1.857422</td>\n",
       "    </tr>\n",
       "    <tr>\n",
       "      <th>2</th>\n",
       "      <td>2016-12-15</td>\n",
       "      <td>521.531433</td>\n",
       "      <td>521.729553</td>\n",
       "      <td>-0.198120</td>\n",
       "    </tr>\n",
       "    <tr>\n",
       "      <th>3</th>\n",
       "      <td>2016-12-16</td>\n",
       "      <td>523.611694</td>\n",
       "      <td>523.685974</td>\n",
       "      <td>-0.074280</td>\n",
       "    </tr>\n",
       "    <tr>\n",
       "      <th>4</th>\n",
       "      <td>2016-12-19</td>\n",
       "      <td>526.286316</td>\n",
       "      <td>518.807251</td>\n",
       "      <td>7.479065</td>\n",
       "    </tr>\n",
       "    <tr>\n",
       "      <th>5</th>\n",
       "      <td>2016-12-20</td>\n",
       "      <td>523.983154</td>\n",
       "      <td>527.351257</td>\n",
       "      <td>-3.368103</td>\n",
       "    </tr>\n",
       "    <tr>\n",
       "      <th>6</th>\n",
       "      <td>2016-12-21</td>\n",
       "      <td>526.633057</td>\n",
       "      <td>519.921692</td>\n",
       "      <td>6.711365</td>\n",
       "    </tr>\n",
       "  </tbody>\n",
       "</table>\n",
       "</div>"
      ],
      "text/plain": [
       "        Date       Close  next5_day_close   5d_diff\n",
       "0 2016-12-13  515.018127       523.983154 -8.965027\n",
       "1 2016-12-14  524.775635       526.633057 -1.857422\n",
       "2 2016-12-15  521.531433       521.729553 -0.198120\n",
       "3 2016-12-16  523.611694       523.685974 -0.074280\n",
       "4 2016-12-19  526.286316       518.807251  7.479065\n",
       "5 2016-12-20  523.983154       527.351257 -3.368103\n",
       "6 2016-12-21  526.633057       519.921692  6.711365"
      ]
     },
     "execution_count": 29,
     "metadata": {},
     "output_type": "execute_result"
    }
   ],
   "source": [
    "df_combined[['Date','Close','next5_day_close','5d_diff']].head(7)"
   ]
  },
  {
   "cell_type": "code",
   "execution_count": 30,
   "id": "07edfa41",
   "metadata": {},
   "outputs": [],
   "source": [
    "x_features_5d = ['Volume_100k','EMA3','EMA5','EMA9','news_senti_comp']"
   ]
  },
  {
   "cell_type": "code",
   "execution_count": 31,
   "id": "946657d9",
   "metadata": {},
   "outputs": [
    {
     "name": "stdout",
     "output_type": "stream",
     "text": [
      "<class 'pandas.core.frame.DataFrame'>\n",
      "Int64Index: 1384 entries, 0 to 1383\n",
      "Data columns (total 5 columns):\n",
      " #   Column           Non-Null Count  Dtype  \n",
      "---  ------           --------------  -----  \n",
      " 0   Volume_100k      1384 non-null   float64\n",
      " 1   EMA3             1384 non-null   float64\n",
      " 2   EMA5             1384 non-null   float64\n",
      " 3   EMA9             1384 non-null   float64\n",
      " 4   news_senti_comp  1384 non-null   float64\n",
      "dtypes: float64(5)\n",
      "memory usage: 64.9 KB\n"
     ]
    }
   ],
   "source": [
    "df_combined[x_features_5d].info()"
   ]
  },
  {
   "cell_type": "code",
   "execution_count": 32,
   "id": "1bf7f372",
   "metadata": {},
   "outputs": [],
   "source": [
    "X5d = df_combined[x_features_5d]\n",
    "y5d= df_combined['next5_day_close']"
   ]
  },
  {
   "cell_type": "code",
   "execution_count": 33,
   "id": "99c49a2c",
   "metadata": {},
   "outputs": [
    {
     "name": "stdout",
     "output_type": "stream",
     "text": [
      "Train size : (968, 5); Test Size : (416, 5)\n",
      "Intercept : [1176.04533616]\n",
      "Coefficient : {'Volume_100k': 12.77, 'EMA3': 148.67, 'EMA5': 137.69, 'EMA9': 122.77, 'news_senti_comp': 1.46}\n"
     ]
    }
   ],
   "source": [
    "y_pred5,y_test5,X_test5,rmse_5,r2_5,linear_5d = linear_model_build_eval(X=X5d,Y=y5d,\n",
    "                                                     regressor_obj=sgdregressor,\n",
    "                                                     train_size=0.7)"
   ]
  },
  {
   "cell_type": "code",
   "execution_count": 34,
   "id": "672aacab",
   "metadata": {},
   "outputs": [
    {
     "data": {
      "text/plain": [
       "94.49103095224903"
      ]
     },
     "execution_count": 34,
     "metadata": {},
     "output_type": "execute_result"
    }
   ],
   "source": [
    "rmse_5"
   ]
  },
  {
   "cell_type": "code",
   "execution_count": 35,
   "id": "c3477690",
   "metadata": {},
   "outputs": [
    {
     "data": {
      "text/plain": [
       "0.8624666450205959"
      ]
     },
     "execution_count": 35,
     "metadata": {},
     "output_type": "execute_result"
    }
   ],
   "source": [
    "r2_5"
   ]
  },
  {
   "cell_type": "code",
   "execution_count": 36,
   "id": "3a3a1142",
   "metadata": {},
   "outputs": [
    {
     "data": {
      "text/html": [
       "<div>\n",
       "<style scoped>\n",
       "    .dataframe tbody tr th:only-of-type {\n",
       "        vertical-align: middle;\n",
       "    }\n",
       "\n",
       "    .dataframe tbody tr th {\n",
       "        vertical-align: top;\n",
       "    }\n",
       "\n",
       "    .dataframe thead th {\n",
       "        text-align: right;\n",
       "    }\n",
       "</style>\n",
       "<table border=\"1\" class=\"dataframe\">\n",
       "  <thead>\n",
       "    <tr style=\"text-align: right;\">\n",
       "      <th></th>\n",
       "      <th>y_actual</th>\n",
       "      <th>y_pred</th>\n",
       "      <th>residual</th>\n",
       "    </tr>\n",
       "  </thead>\n",
       "  <tbody>\n",
       "    <tr>\n",
       "      <th>968</th>\n",
       "      <td>1973.150024</td>\n",
       "      <td>2015.972525</td>\n",
       "      <td>-42.822501</td>\n",
       "    </tr>\n",
       "    <tr>\n",
       "      <th>969</th>\n",
       "      <td>1899.500000</td>\n",
       "      <td>2021.463519</td>\n",
       "      <td>-121.963519</td>\n",
       "    </tr>\n",
       "    <tr>\n",
       "      <th>970</th>\n",
       "      <td>1950.699951</td>\n",
       "      <td>1988.904851</td>\n",
       "      <td>-38.204900</td>\n",
       "    </tr>\n",
       "    <tr>\n",
       "      <th>971</th>\n",
       "      <td>1964.050049</td>\n",
       "      <td>2019.645735</td>\n",
       "      <td>-55.595686</td>\n",
       "    </tr>\n",
       "    <tr>\n",
       "      <th>972</th>\n",
       "      <td>1947.800049</td>\n",
       "      <td>2000.236886</td>\n",
       "      <td>-52.436837</td>\n",
       "    </tr>\n",
       "    <tr>\n",
       "      <th>...</th>\n",
       "      <td>...</td>\n",
       "      <td>...</td>\n",
       "      <td>...</td>\n",
       "    </tr>\n",
       "    <tr>\n",
       "      <th>1379</th>\n",
       "      <td>2422.250000</td>\n",
       "      <td>2409.957192</td>\n",
       "      <td>12.292808</td>\n",
       "    </tr>\n",
       "    <tr>\n",
       "      <th>1380</th>\n",
       "      <td>2437.100098</td>\n",
       "      <td>2408.450836</td>\n",
       "      <td>28.649262</td>\n",
       "    </tr>\n",
       "    <tr>\n",
       "      <th>1381</th>\n",
       "      <td>2503.000000</td>\n",
       "      <td>2395.698649</td>\n",
       "      <td>107.301351</td>\n",
       "    </tr>\n",
       "    <tr>\n",
       "      <th>1382</th>\n",
       "      <td>2486.300049</td>\n",
       "      <td>2397.538164</td>\n",
       "      <td>88.761885</td>\n",
       "    </tr>\n",
       "    <tr>\n",
       "      <th>1383</th>\n",
       "      <td>2503.100098</td>\n",
       "      <td>2390.049725</td>\n",
       "      <td>113.050373</td>\n",
       "    </tr>\n",
       "  </tbody>\n",
       "</table>\n",
       "<p>416 rows × 3 columns</p>\n",
       "</div>"
      ],
      "text/plain": [
       "         y_actual       y_pred    residual\n",
       "968   1973.150024  2015.972525  -42.822501\n",
       "969   1899.500000  2021.463519 -121.963519\n",
       "970   1950.699951  1988.904851  -38.204900\n",
       "971   1964.050049  2019.645735  -55.595686\n",
       "972   1947.800049  2000.236886  -52.436837\n",
       "...           ...          ...         ...\n",
       "1379  2422.250000  2409.957192   12.292808\n",
       "1380  2437.100098  2408.450836   28.649262\n",
       "1381  2503.000000  2395.698649  107.301351\n",
       "1382  2486.300049  2397.538164   88.761885\n",
       "1383  2503.100098  2390.049725  113.050373\n",
       "\n",
       "[416 rows x 3 columns]"
      ]
     },
     "execution_count": 36,
     "metadata": {},
     "output_type": "execute_result"
    }
   ],
   "source": [
    "pd.DataFrame({\"y_actual\":y_test5,\n",
    "             \"y_pred\":y_pred5,\n",
    "             \"residual\":y_test5-y_pred5})"
   ]
  },
  {
   "cell_type": "code",
   "execution_count": 37,
   "id": "f0a973de",
   "metadata": {},
   "outputs": [
    {
     "data": {
      "text/plain": [
       "['.\\\\..\\\\linear_models\\\\lm_5d.pkl']"
      ]
     },
     "execution_count": 37,
     "metadata": {},
     "output_type": "execute_result"
    }
   ],
   "source": [
    "## save model and dump\n",
    "linear_model_save = StockPredictionModel(linear_5d,list(X5d.columns),rmse_5)\n",
    "\n",
    "dump(linear_model_save,\".\\\\..\\\\linear_models\\\\lm_5d.pkl\")"
   ]
  },
  {
   "cell_type": "markdown",
   "id": "af68af2d",
   "metadata": {},
   "source": [
    "## 10d Prediction\n",
    "\n",
    "##### Monday to Monday(14 days including weekend)"
   ]
  },
  {
   "cell_type": "code",
   "execution_count": 38,
   "id": "1f6e4567",
   "metadata": {},
   "outputs": [],
   "source": [
    "df_combined['next10_day_close'] = df_combined['Close'] - df_combined['10d_diff']"
   ]
  },
  {
   "cell_type": "code",
   "execution_count": 39,
   "id": "9112b351",
   "metadata": {},
   "outputs": [
    {
     "data": {
      "text/html": [
       "<div>\n",
       "<style scoped>\n",
       "    .dataframe tbody tr th:only-of-type {\n",
       "        vertical-align: middle;\n",
       "    }\n",
       "\n",
       "    .dataframe tbody tr th {\n",
       "        vertical-align: top;\n",
       "    }\n",
       "\n",
       "    .dataframe thead th {\n",
       "        text-align: right;\n",
       "    }\n",
       "</style>\n",
       "<table border=\"1\" class=\"dataframe\">\n",
       "  <thead>\n",
       "    <tr style=\"text-align: right;\">\n",
       "      <th></th>\n",
       "      <th>Date</th>\n",
       "      <th>Close</th>\n",
       "      <th>next10_day_close</th>\n",
       "      <th>10d_diff</th>\n",
       "    </tr>\n",
       "  </thead>\n",
       "  <tbody>\n",
       "    <tr>\n",
       "      <th>0</th>\n",
       "      <td>2016-12-13</td>\n",
       "      <td>515.018127</td>\n",
       "      <td>527.351257</td>\n",
       "      <td>-12.333130</td>\n",
       "    </tr>\n",
       "    <tr>\n",
       "      <th>1</th>\n",
       "      <td>2016-12-14</td>\n",
       "      <td>524.775635</td>\n",
       "      <td>519.921692</td>\n",
       "      <td>4.853943</td>\n",
       "    </tr>\n",
       "    <tr>\n",
       "      <th>2</th>\n",
       "      <td>2016-12-15</td>\n",
       "      <td>521.531433</td>\n",
       "      <td>527.722717</td>\n",
       "      <td>-6.191284</td>\n",
       "    </tr>\n",
       "    <tr>\n",
       "      <th>3</th>\n",
       "      <td>2016-12-16</td>\n",
       "      <td>523.611694</td>\n",
       "      <td>536.118164</td>\n",
       "      <td>-12.506470</td>\n",
       "    </tr>\n",
       "    <tr>\n",
       "      <th>4</th>\n",
       "      <td>2016-12-19</td>\n",
       "      <td>526.286316</td>\n",
       "      <td>537.455444</td>\n",
       "      <td>-11.169128</td>\n",
       "    </tr>\n",
       "    <tr>\n",
       "      <th>5</th>\n",
       "      <td>2016-12-20</td>\n",
       "      <td>523.983154</td>\n",
       "      <td>539.585266</td>\n",
       "      <td>-15.602112</td>\n",
       "    </tr>\n",
       "    <tr>\n",
       "      <th>6</th>\n",
       "      <td>2016-12-21</td>\n",
       "      <td>526.633057</td>\n",
       "      <td>528.564758</td>\n",
       "      <td>-1.931702</td>\n",
       "    </tr>\n",
       "    <tr>\n",
       "      <th>7</th>\n",
       "      <td>2016-12-22</td>\n",
       "      <td>521.729553</td>\n",
       "      <td>533.641602</td>\n",
       "      <td>-11.912048</td>\n",
       "    </tr>\n",
       "    <tr>\n",
       "      <th>8</th>\n",
       "      <td>2016-12-23</td>\n",
       "      <td>523.685974</td>\n",
       "      <td>532.428101</td>\n",
       "      <td>-8.742126</td>\n",
       "    </tr>\n",
       "    <tr>\n",
       "      <th>9</th>\n",
       "      <td>2016-12-26</td>\n",
       "      <td>518.807251</td>\n",
       "      <td>533.790222</td>\n",
       "      <td>-14.982971</td>\n",
       "    </tr>\n",
       "    <tr>\n",
       "      <th>10</th>\n",
       "      <td>2016-12-27</td>\n",
       "      <td>527.351257</td>\n",
       "      <td>539.808167</td>\n",
       "      <td>-12.456909</td>\n",
       "    </tr>\n",
       "    <tr>\n",
       "      <th>11</th>\n",
       "      <td>2016-12-28</td>\n",
       "      <td>519.921692</td>\n",
       "      <td>537.926025</td>\n",
       "      <td>-18.004333</td>\n",
       "    </tr>\n",
       "    <tr>\n",
       "      <th>12</th>\n",
       "      <td>2016-12-29</td>\n",
       "      <td>527.722717</td>\n",
       "      <td>536.563904</td>\n",
       "      <td>-8.841187</td>\n",
       "    </tr>\n",
       "    <tr>\n",
       "      <th>13</th>\n",
       "      <td>2016-12-30</td>\n",
       "      <td>536.118164</td>\n",
       "      <td>540.080566</td>\n",
       "      <td>-3.962402</td>\n",
       "    </tr>\n",
       "    <tr>\n",
       "      <th>14</th>\n",
       "      <td>2017-01-02</td>\n",
       "      <td>537.455444</td>\n",
       "      <td>533.072021</td>\n",
       "      <td>4.383423</td>\n",
       "    </tr>\n",
       "  </tbody>\n",
       "</table>\n",
       "</div>"
      ],
      "text/plain": [
       "         Date       Close  next10_day_close   10d_diff\n",
       "0  2016-12-13  515.018127        527.351257 -12.333130\n",
       "1  2016-12-14  524.775635        519.921692   4.853943\n",
       "2  2016-12-15  521.531433        527.722717  -6.191284\n",
       "3  2016-12-16  523.611694        536.118164 -12.506470\n",
       "4  2016-12-19  526.286316        537.455444 -11.169128\n",
       "5  2016-12-20  523.983154        539.585266 -15.602112\n",
       "6  2016-12-21  526.633057        528.564758  -1.931702\n",
       "7  2016-12-22  521.729553        533.641602 -11.912048\n",
       "8  2016-12-23  523.685974        532.428101  -8.742126\n",
       "9  2016-12-26  518.807251        533.790222 -14.982971\n",
       "10 2016-12-27  527.351257        539.808167 -12.456909\n",
       "11 2016-12-28  519.921692        537.926025 -18.004333\n",
       "12 2016-12-29  527.722717        536.563904  -8.841187\n",
       "13 2016-12-30  536.118164        540.080566  -3.962402\n",
       "14 2017-01-02  537.455444        533.072021   4.383423"
      ]
     },
     "execution_count": 39,
     "metadata": {},
     "output_type": "execute_result"
    }
   ],
   "source": [
    "df_combined[['Date','Close','next10_day_close','10d_diff']].head(15)"
   ]
  },
  {
   "cell_type": "code",
   "execution_count": 40,
   "id": "db220e04",
   "metadata": {},
   "outputs": [],
   "source": [
    "x_features_10d = ['Volume_100k','EMA5','EMA9','EMA15','EMA30','news_senti_comp']"
   ]
  },
  {
   "cell_type": "code",
   "execution_count": 41,
   "id": "3c828f5a",
   "metadata": {},
   "outputs": [
    {
     "name": "stdout",
     "output_type": "stream",
     "text": [
      "<class 'pandas.core.frame.DataFrame'>\n",
      "Int64Index: 1384 entries, 0 to 1383\n",
      "Data columns (total 6 columns):\n",
      " #   Column           Non-Null Count  Dtype  \n",
      "---  ------           --------------  -----  \n",
      " 0   Volume_100k      1384 non-null   float64\n",
      " 1   EMA5             1384 non-null   float64\n",
      " 2   EMA9             1384 non-null   float64\n",
      " 3   EMA15            1384 non-null   float64\n",
      " 4   EMA30            1384 non-null   float64\n",
      " 5   news_senti_comp  1384 non-null   float64\n",
      "dtypes: float64(6)\n",
      "memory usage: 75.7 KB\n"
     ]
    }
   ],
   "source": [
    "df_combined[x_features_10d].info()"
   ]
  },
  {
   "cell_type": "code",
   "execution_count": 42,
   "id": "9b429683",
   "metadata": {},
   "outputs": [],
   "source": [
    "X10d = df_combined[x_features_10d]\n",
    "y10d= df_combined['next10_day_close']"
   ]
  },
  {
   "cell_type": "code",
   "execution_count": 43,
   "id": "b75f326e",
   "metadata": {},
   "outputs": [
    {
     "name": "stdout",
     "output_type": "stream",
     "text": [
      "Train size : (968, 6); Test Size : (416, 6)\n",
      "Intercept : [1182.89443391]\n",
      "Coefficient : {'Volume_100k': 22.0, 'EMA5': 276.09, 'EMA9': 162.89, 'EMA15': 55.01, 'EMA30': -93.17, 'news_senti_comp': -1.43}\n"
     ]
    }
   ],
   "source": [
    "y_pred10,y_test10,X_test10,rmse_10,r2_10,linear_10d = linear_model_build_eval(X=X10d,Y=y10d,\n",
    "                                                     regressor_obj=sgdregressor,\n",
    "                                                     train_size=0.7)"
   ]
  },
  {
   "cell_type": "code",
   "execution_count": 44,
   "id": "061bbcc3",
   "metadata": {},
   "outputs": [
    {
     "data": {
      "text/plain": [
       "131.21119133889692"
      ]
     },
     "execution_count": 44,
     "metadata": {},
     "output_type": "execute_result"
    }
   ],
   "source": [
    "rmse_10"
   ]
  },
  {
   "cell_type": "code",
   "execution_count": 45,
   "id": "4fb8c425",
   "metadata": {},
   "outputs": [
    {
     "data": {
      "text/plain": [
       "0.7300947474809683"
      ]
     },
     "execution_count": 45,
     "metadata": {},
     "output_type": "execute_result"
    }
   ],
   "source": [
    "r2_10"
   ]
  },
  {
   "cell_type": "code",
   "execution_count": 46,
   "id": "ec195ae8",
   "metadata": {},
   "outputs": [
    {
     "data": {
      "text/plain": [
       "['.\\\\..\\\\linear_models\\\\lm_10d.pkl']"
      ]
     },
     "execution_count": 46,
     "metadata": {},
     "output_type": "execute_result"
    }
   ],
   "source": [
    "## save model and dump\n",
    "linear_model_save = StockPredictionModel(linear_10d,list(X10d.columns),rmse_10)\n",
    "\n",
    "dump(linear_model_save,\".\\\\..\\\\linear_models\\\\lm_10d.pkl\")"
   ]
  },
  {
   "cell_type": "code",
   "execution_count": 47,
   "id": "2fb8357b",
   "metadata": {},
   "outputs": [
    {
     "data": {
      "text/html": [
       "<div>\n",
       "<style scoped>\n",
       "    .dataframe tbody tr th:only-of-type {\n",
       "        vertical-align: middle;\n",
       "    }\n",
       "\n",
       "    .dataframe tbody tr th {\n",
       "        vertical-align: top;\n",
       "    }\n",
       "\n",
       "    .dataframe thead th {\n",
       "        text-align: right;\n",
       "    }\n",
       "</style>\n",
       "<table border=\"1\" class=\"dataframe\">\n",
       "  <thead>\n",
       "    <tr style=\"text-align: right;\">\n",
       "      <th></th>\n",
       "      <th>Date</th>\n",
       "      <th>Open</th>\n",
       "      <th>High</th>\n",
       "      <th>Low</th>\n",
       "      <th>Close</th>\n",
       "      <th>Adj Close</th>\n",
       "      <th>Volume</th>\n",
       "      <th>1d_diff</th>\n",
       "      <th>5d_diff</th>\n",
       "      <th>10d_diff</th>\n",
       "      <th>...</th>\n",
       "      <th>EMA9</th>\n",
       "      <th>EMA15</th>\n",
       "      <th>EMA30</th>\n",
       "      <th>Volume_100k</th>\n",
       "      <th>title_senti_comp</th>\n",
       "      <th>news_senti_comp</th>\n",
       "      <th>avg_senti_comp</th>\n",
       "      <th>next_day_close</th>\n",
       "      <th>next5_day_close</th>\n",
       "      <th>next10_day_close</th>\n",
       "    </tr>\n",
       "  </thead>\n",
       "  <tbody>\n",
       "    <tr>\n",
       "      <th>0</th>\n",
       "      <td>2016-12-13</td>\n",
       "      <td>509.173553</td>\n",
       "      <td>515.612488</td>\n",
       "      <td>508.950653</td>\n",
       "      <td>515.018127</td>\n",
       "      <td>501.832367</td>\n",
       "      <td>4783826</td>\n",
       "      <td>-9.757507</td>\n",
       "      <td>-8.965027</td>\n",
       "      <td>-12.333130</td>\n",
       "      <td>...</td>\n",
       "      <td>503.683619</td>\n",
       "      <td>500.984710</td>\n",
       "      <td>501.394308</td>\n",
       "      <td>47.838</td>\n",
       "      <td>0.0</td>\n",
       "      <td>0.000000</td>\n",
       "      <td>0.000000</td>\n",
       "      <td>524.775635</td>\n",
       "      <td>523.983154</td>\n",
       "      <td>527.351257</td>\n",
       "    </tr>\n",
       "    <tr>\n",
       "      <th>1</th>\n",
       "      <td>2016-12-14</td>\n",
       "      <td>515.018127</td>\n",
       "      <td>527.227417</td>\n",
       "      <td>514.225647</td>\n",
       "      <td>524.775635</td>\n",
       "      <td>511.339996</td>\n",
       "      <td>11140265</td>\n",
       "      <td>3.244202</td>\n",
       "      <td>-1.857422</td>\n",
       "      <td>4.853943</td>\n",
       "      <td>...</td>\n",
       "      <td>507.902022</td>\n",
       "      <td>503.958576</td>\n",
       "      <td>502.902781</td>\n",
       "      <td>111.403</td>\n",
       "      <td>0.0</td>\n",
       "      <td>0.730367</td>\n",
       "      <td>0.366667</td>\n",
       "      <td>521.531433</td>\n",
       "      <td>526.633057</td>\n",
       "      <td>519.921692</td>\n",
       "    </tr>\n",
       "    <tr>\n",
       "      <th>2</th>\n",
       "      <td>2016-12-15</td>\n",
       "      <td>521.258972</td>\n",
       "      <td>528.787598</td>\n",
       "      <td>519.401611</td>\n",
       "      <td>521.531433</td>\n",
       "      <td>508.178925</td>\n",
       "      <td>8921708</td>\n",
       "      <td>-2.080261</td>\n",
       "      <td>-0.198120</td>\n",
       "      <td>-6.191284</td>\n",
       "      <td>...</td>\n",
       "      <td>510.627905</td>\n",
       "      <td>506.155183</td>\n",
       "      <td>504.104629</td>\n",
       "      <td>89.217</td>\n",
       "      <td>0.0</td>\n",
       "      <td>0.000000</td>\n",
       "      <td>0.000000</td>\n",
       "      <td>523.611694</td>\n",
       "      <td>521.729553</td>\n",
       "      <td>527.722717</td>\n",
       "    </tr>\n",
       "    <tr>\n",
       "      <th>3</th>\n",
       "      <td>2016-12-16</td>\n",
       "      <td>521.060852</td>\n",
       "      <td>526.013916</td>\n",
       "      <td>521.060852</td>\n",
       "      <td>523.611694</td>\n",
       "      <td>510.205872</td>\n",
       "      <td>6895825</td>\n",
       "      <td>-2.674622</td>\n",
       "      <td>-0.074280</td>\n",
       "      <td>-12.506470</td>\n",
       "      <td>...</td>\n",
       "      <td>513.224663</td>\n",
       "      <td>508.337247</td>\n",
       "      <td>505.363150</td>\n",
       "      <td>68.958</td>\n",
       "      <td>0.0</td>\n",
       "      <td>0.000000</td>\n",
       "      <td>0.000000</td>\n",
       "      <td>526.286316</td>\n",
       "      <td>523.685974</td>\n",
       "      <td>536.118164</td>\n",
       "    </tr>\n",
       "    <tr>\n",
       "      <th>4</th>\n",
       "      <td>2016-12-19</td>\n",
       "      <td>522.546753</td>\n",
       "      <td>528.465698</td>\n",
       "      <td>522.224854</td>\n",
       "      <td>526.286316</td>\n",
       "      <td>512.812012</td>\n",
       "      <td>6926943</td>\n",
       "      <td>2.303162</td>\n",
       "      <td>7.479065</td>\n",
       "      <td>-11.169128</td>\n",
       "      <td>...</td>\n",
       "      <td>515.836993</td>\n",
       "      <td>510.580880</td>\n",
       "      <td>506.713031</td>\n",
       "      <td>69.269</td>\n",
       "      <td>0.0</td>\n",
       "      <td>0.000000</td>\n",
       "      <td>0.000000</td>\n",
       "      <td>523.983154</td>\n",
       "      <td>518.807251</td>\n",
       "      <td>537.455444</td>\n",
       "    </tr>\n",
       "  </tbody>\n",
       "</table>\n",
       "<p>5 rows × 27 columns</p>\n",
       "</div>"
      ],
      "text/plain": [
       "        Date        Open        High         Low       Close   Adj Close  \\\n",
       "0 2016-12-13  509.173553  515.612488  508.950653  515.018127  501.832367   \n",
       "1 2016-12-14  515.018127  527.227417  514.225647  524.775635  511.339996   \n",
       "2 2016-12-15  521.258972  528.787598  519.401611  521.531433  508.178925   \n",
       "3 2016-12-16  521.060852  526.013916  521.060852  523.611694  510.205872   \n",
       "4 2016-12-19  522.546753  528.465698  522.224854  526.286316  512.812012   \n",
       "\n",
       "     Volume   1d_diff   5d_diff   10d_diff  ...        EMA9       EMA15  \\\n",
       "0   4783826 -9.757507 -8.965027 -12.333130  ...  503.683619  500.984710   \n",
       "1  11140265  3.244202 -1.857422   4.853943  ...  507.902022  503.958576   \n",
       "2   8921708 -2.080261 -0.198120  -6.191284  ...  510.627905  506.155183   \n",
       "3   6895825 -2.674622 -0.074280 -12.506470  ...  513.224663  508.337247   \n",
       "4   6926943  2.303162  7.479065 -11.169128  ...  515.836993  510.580880   \n",
       "\n",
       "        EMA30  Volume_100k  title_senti_comp  news_senti_comp  avg_senti_comp  \\\n",
       "0  501.394308       47.838               0.0         0.000000        0.000000   \n",
       "1  502.902781      111.403               0.0         0.730367        0.366667   \n",
       "2  504.104629       89.217               0.0         0.000000        0.000000   \n",
       "3  505.363150       68.958               0.0         0.000000        0.000000   \n",
       "4  506.713031       69.269               0.0         0.000000        0.000000   \n",
       "\n",
       "   next_day_close  next5_day_close  next10_day_close  \n",
       "0      524.775635       523.983154        527.351257  \n",
       "1      521.531433       526.633057        519.921692  \n",
       "2      523.611694       521.729553        527.722717  \n",
       "3      526.286316       523.685974        536.118164  \n",
       "4      523.983154       518.807251        537.455444  \n",
       "\n",
       "[5 rows x 27 columns]"
      ]
     },
     "execution_count": 47,
     "metadata": {},
     "output_type": "execute_result"
    }
   ],
   "source": [
    "df_combined.head()"
   ]
  },
  {
   "cell_type": "code",
   "execution_count": null,
   "id": "cdf2d3f5",
   "metadata": {},
   "outputs": [],
   "source": []
  }
 ],
 "metadata": {
  "kernelspec": {
   "display_name": "Python 3 (ipykernel)",
   "language": "python",
   "name": "python3"
  },
  "language_info": {
   "codemirror_mode": {
    "name": "ipython",
    "version": 3
   },
   "file_extension": ".py",
   "mimetype": "text/x-python",
   "name": "python",
   "nbconvert_exporter": "python",
   "pygments_lexer": "ipython3",
   "version": "3.9.7"
  }
 },
 "nbformat": 4,
 "nbformat_minor": 5
}
