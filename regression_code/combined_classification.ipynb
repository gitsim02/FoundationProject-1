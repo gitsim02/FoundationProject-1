{
 "cells": [
  {
   "cell_type": "code",
   "execution_count": 1,
   "id": "01eb8d9a",
   "metadata": {},
   "outputs": [],
   "source": [
    "import pandas as pd\n",
    "import numpy as np\n",
    "from sklearn.model_selection import train_test_split\n",
    "from sklearn.preprocessing import StandardScaler,MinMaxScaler\n",
    "from sklearn.compose import ColumnTransformer\n",
    "from sklearn.pipeline import Pipeline\n",
    "from sklearn.linear_model import LogisticRegression\n",
    "from sklearn.metrics import mean_squared_error, r2_score,accuracy_score, recall_score, precision_score, classification_report\n",
    "from sklearn.metrics import confusion_matrix, ConfusionMatrixDisplay\n",
    "from joblib import dump\n",
    "from sklearn.neighbors import KNeighborsClassifier"
   ]
  },
  {
   "cell_type": "code",
   "execution_count": 2,
   "id": "bae9e93a",
   "metadata": {},
   "outputs": [],
   "source": [
    "df_news = pd.read_csv(\"https://raw.githubusercontent.com/gitsim02/FoundationProject-1/main/data/Reliance_sentiment.csv\")\n",
    "df_price = pd.read_csv(\"https://raw.githubusercontent.com/gitsim02/FoundationProject-1/main/data/reliance_prices.csv\")\n",
    "df_news['date'] = pd.to_datetime(df_news.date)\n",
    "df_price['Date'] = pd.to_datetime(df_price.Date)\n",
    "\n",
    "df_combined = pd.merge(left=df_price,right=df_news,how=\"left\",left_on = 'Date',right_on='date')\n"
   ]
  },
  {
   "cell_type": "code",
   "execution_count": 3,
   "id": "0d712722",
   "metadata": {},
   "outputs": [],
   "source": [
    "df_combined.drop(['date'],axis=1,inplace=True)"
   ]
  },
  {
   "cell_type": "code",
   "execution_count": 4,
   "id": "f5ba4f3f",
   "metadata": {},
   "outputs": [
    {
     "data": {
      "text/html": [
       "<div>\n",
       "<style scoped>\n",
       "    .dataframe tbody tr th:only-of-type {\n",
       "        vertical-align: middle;\n",
       "    }\n",
       "\n",
       "    .dataframe tbody tr th {\n",
       "        vertical-align: top;\n",
       "    }\n",
       "\n",
       "    .dataframe thead th {\n",
       "        text-align: right;\n",
       "    }\n",
       "</style>\n",
       "<table border=\"1\" class=\"dataframe\">\n",
       "  <thead>\n",
       "    <tr style=\"text-align: right;\">\n",
       "      <th></th>\n",
       "      <th>Date</th>\n",
       "      <th>Close</th>\n",
       "      <th>1d_diff</th>\n",
       "    </tr>\n",
       "  </thead>\n",
       "  <tbody>\n",
       "    <tr>\n",
       "      <th>0</th>\n",
       "      <td>2016-12-13</td>\n",
       "      <td>515.018127</td>\n",
       "      <td>-9.757507</td>\n",
       "    </tr>\n",
       "    <tr>\n",
       "      <th>1</th>\n",
       "      <td>2016-12-14</td>\n",
       "      <td>524.775635</td>\n",
       "      <td>3.244202</td>\n",
       "    </tr>\n",
       "    <tr>\n",
       "      <th>2</th>\n",
       "      <td>2016-12-15</td>\n",
       "      <td>521.531433</td>\n",
       "      <td>-2.080261</td>\n",
       "    </tr>\n",
       "    <tr>\n",
       "      <th>3</th>\n",
       "      <td>2016-12-16</td>\n",
       "      <td>523.611694</td>\n",
       "      <td>-2.674622</td>\n",
       "    </tr>\n",
       "    <tr>\n",
       "      <th>4</th>\n",
       "      <td>2016-12-19</td>\n",
       "      <td>526.286316</td>\n",
       "      <td>2.303162</td>\n",
       "    </tr>\n",
       "  </tbody>\n",
       "</table>\n",
       "</div>"
      ],
      "text/plain": [
       "        Date       Close   1d_diff\n",
       "0 2016-12-13  515.018127 -9.757507\n",
       "1 2016-12-14  524.775635  3.244202\n",
       "2 2016-12-15  521.531433 -2.080261\n",
       "3 2016-12-16  523.611694 -2.674622\n",
       "4 2016-12-19  526.286316  2.303162"
      ]
     },
     "execution_count": 4,
     "metadata": {},
     "output_type": "execute_result"
    }
   ],
   "source": [
    "df_combined[['Date','Close','1d_diff']].head()"
   ]
  },
  {
   "cell_type": "code",
   "execution_count": 5,
   "id": "8be5aaf4",
   "metadata": {},
   "outputs": [],
   "source": [
    "df_combined.fillna(0.0,inplace=True)"
   ]
  },
  {
   "cell_type": "code",
   "execution_count": 6,
   "id": "53721918",
   "metadata": {},
   "outputs": [],
   "source": [
    "df_combined['next_day_close'] = df_combined['Close'] - df_combined['1d_diff']\n",
    "df_combined['next5_day_close'] = df_combined['Close'] - df_combined['5d_diff']\n",
    "df_combined['next10_day_close'] = df_combined['Close'] - df_combined['10d_diff']"
   ]
  },
  {
   "cell_type": "code",
   "execution_count": 7,
   "id": "be9cb828",
   "metadata": {},
   "outputs": [],
   "source": [
    "df_combined['1d_up_down'] = np.where(df_combined['next_day_close'] > df_combined['Close'],1,0)\n",
    "df_combined['5d_up_down'] = np.where(df_combined['next5_day_close'] > df_combined['Close'],1,0)\n",
    "df_combined['10d_up_down'] = np.where(df_combined['next10_day_close'] > df_combined['Close'],1,0)"
   ]
  },
  {
   "cell_type": "code",
   "execution_count": 8,
   "id": "0673add0",
   "metadata": {},
   "outputs": [
    {
     "name": "stdout",
     "output_type": "stream",
     "text": [
      "<class 'pandas.core.frame.DataFrame'>\n",
      "Int64Index: 1384 entries, 0 to 1383\n",
      "Data columns (total 30 columns):\n",
      " #   Column            Non-Null Count  Dtype         \n",
      "---  ------            --------------  -----         \n",
      " 0   Date              1384 non-null   datetime64[ns]\n",
      " 1   Open              1384 non-null   float64       \n",
      " 2   High              1384 non-null   float64       \n",
      " 3   Low               1384 non-null   float64       \n",
      " 4   Close             1384 non-null   float64       \n",
      " 5   Adj Close         1384 non-null   float64       \n",
      " 6   Volume            1384 non-null   int64         \n",
      " 7   1d_diff           1384 non-null   float64       \n",
      " 8   5d_diff           1384 non-null   float64       \n",
      " 9   10d_diff          1384 non-null   float64       \n",
      " 10  SMA3              1384 non-null   float64       \n",
      " 11  SMA5              1384 non-null   float64       \n",
      " 12  SMA9              1384 non-null   float64       \n",
      " 13  SMA15             1384 non-null   float64       \n",
      " 14  SMA30             1384 non-null   float64       \n",
      " 15  EMA3              1384 non-null   float64       \n",
      " 16  EMA5              1384 non-null   float64       \n",
      " 17  EMA9              1384 non-null   float64       \n",
      " 18  EMA15             1384 non-null   float64       \n",
      " 19  EMA30             1384 non-null   float64       \n",
      " 20  Volume_100k       1384 non-null   float64       \n",
      " 21  title_senti_comp  1384 non-null   float64       \n",
      " 22  news_senti_comp   1384 non-null   float64       \n",
      " 23  avg_senti_comp    1384 non-null   float64       \n",
      " 24  next_day_close    1384 non-null   float64       \n",
      " 25  next5_day_close   1384 non-null   float64       \n",
      " 26  next10_day_close  1384 non-null   float64       \n",
      " 27  1d_up_down        1384 non-null   int32         \n",
      " 28  5d_up_down        1384 non-null   int32         \n",
      " 29  10d_up_down       1384 non-null   int32         \n",
      "dtypes: datetime64[ns](1), float64(25), int32(3), int64(1)\n",
      "memory usage: 319.0 KB\n"
     ]
    }
   ],
   "source": [
    "df_combined.info()"
   ]
  },
  {
   "cell_type": "code",
   "execution_count": null,
   "id": "d441cf39",
   "metadata": {},
   "outputs": [],
   "source": []
  },
  {
   "cell_type": "code",
   "execution_count": 9,
   "id": "73407bff",
   "metadata": {},
   "outputs": [],
   "source": [
    "X_features = set(list(df_combined.columns)) - set(['Date','Open','High','Low','Adj Close','Close','Volume'])\n",
    "X_features = list(X_features)"
   ]
  },
  {
   "cell_type": "code",
   "execution_count": 10,
   "id": "6b0189f7",
   "metadata": {},
   "outputs": [
    {
     "data": {
      "text/plain": [
       "['next10_day_close',\n",
       " 'SMA30',\n",
       " 'next_day_close',\n",
       " 'EMA3',\n",
       " '10d_diff',\n",
       " 'next5_day_close',\n",
       " '10d_up_down',\n",
       " 'EMA30',\n",
       " 'EMA5',\n",
       " 'EMA15',\n",
       " '5d_up_down',\n",
       " 'news_senti_comp',\n",
       " 'title_senti_comp',\n",
       " 'SMA9',\n",
       " '1d_up_down',\n",
       " '5d_diff',\n",
       " 'EMA9',\n",
       " '1d_diff',\n",
       " 'SMA3',\n",
       " 'avg_senti_comp',\n",
       " 'SMA15',\n",
       " 'SMA5',\n",
       " 'Volume_100k']"
      ]
     },
     "execution_count": 10,
     "metadata": {},
     "output_type": "execute_result"
    }
   ],
   "source": [
    "X_features"
   ]
  },
  {
   "cell_type": "code",
   "execution_count": 11,
   "id": "ac811332",
   "metadata": {},
   "outputs": [],
   "source": [
    "def loglinear_model_build_eval(X,Y,train_size=0.7):\n",
    "    \n",
    "    \n",
    "    regressor_obj = LogisticRegression(random_state = 101, \n",
    "                               max_iter = 1000)\n",
    "    \n",
    "    ## train test split\n",
    "    X_train, X_test, y_train, y_test = train_test_split(X,\n",
    "                                                    Y,\n",
    "                                                    shuffle=False,\n",
    "                                                    train_size = train_size,\n",
    "                                                    random_state = 80)\n",
    "    \n",
    "    print(f\"Train size : {X_train.shape}; Test Size : {X_test.shape}\")\n",
    "    \n",
    "    # transformations\n",
    "    scaler = StandardScaler()\n",
    "    \n",
    "    # pipeline\n",
    "    logreg = Pipeline(steps=[('scaler', scaler),\n",
    "                          ('regressor', regressor_obj )])\n",
    "    \n",
    "    #fit train set\n",
    "    logreg.fit(X_train,y_train)\n",
    "    \n",
    "    print(f\"Intercept : {logreg['regressor'].intercept_}\")\n",
    "    \n",
    "    print(f\"Coefficient : {dict(zip(X, np.round(logreg['regressor'].coef_[0], 2)))}\")\n",
    "    \n",
    "    y_pred = logreg.predict(X_test)\n",
    "    \n",
    "    accuracy_s = accuracy_score(y_test,y_pred)\n",
    "    \n",
    "    recall_s = recall_score(y_test,y_pred)\n",
    "    \n",
    "    precision_s = precision_score(y_test,y_pred)\n",
    "    \n",
    "    cm = confusion_matrix(y_test,y_pred, labels = [1,0])\n",
    "    \n",
    "    cr = classification_report(y_test,y_pred,labels=[1,0])\n",
    "    \n",
    "    return y_pred,y_test,X_test,accuracy_s,recall_s,precision_s,cm,cr, logreg"
   ]
  },
  {
   "cell_type": "markdown",
   "id": "1d5f9c88",
   "metadata": {},
   "source": [
    "## 1d classify"
   ]
  },
  {
   "cell_type": "code",
   "execution_count": 12,
   "id": "7ff905f3",
   "metadata": {},
   "outputs": [],
   "source": [
    "X_features_1d = set(X_features) - set(['5d_diff','10d_diff','next5_day_close','next10_day_close','1d_up_down',\n",
    "                                      '5d_up_down','10d_up_down','next_day_close','1d_diff',\n",
    "                                      'title_senti_comp','avg_senti_comp'])\n",
    "X_features_1d = list(X_features_1d)"
   ]
  },
  {
   "cell_type": "code",
   "execution_count": 13,
   "id": "b8e13813",
   "metadata": {},
   "outputs": [
    {
     "data": {
      "text/plain": [
       "['SMA30',\n",
       " 'EMA9',\n",
       " 'news_senti_comp',\n",
       " 'SMA3',\n",
       " 'EMA3',\n",
       " 'SMA15',\n",
       " 'SMA9',\n",
       " 'SMA5',\n",
       " 'Volume_100k',\n",
       " 'EMA30',\n",
       " 'EMA5',\n",
       " 'EMA15']"
      ]
     },
     "execution_count": 13,
     "metadata": {},
     "output_type": "execute_result"
    }
   ],
   "source": [
    "X_features_1d"
   ]
  },
  {
   "cell_type": "code",
   "execution_count": 14,
   "id": "b123baa9",
   "metadata": {},
   "outputs": [],
   "source": [
    "X1d = df_combined[X_features_1d]\n",
    "y1d = df_combined['1d_up_down']"
   ]
  },
  {
   "cell_type": "code",
   "execution_count": 15,
   "id": "8e756e8c",
   "metadata": {},
   "outputs": [
    {
     "name": "stdout",
     "output_type": "stream",
     "text": [
      "Train size : (968, 12); Test Size : (416, 12)\n",
      "Intercept : [0.07450863]\n",
      "Coefficient : {'SMA30': -0.06, 'EMA9': 0.07, 'news_senti_comp': -0.03, 'SMA3': -0.1, 'EMA3': 0.13, 'SMA15': 0.19, 'SMA9': 0.15, 'SMA5': -0.2, 'Volume_100k': -0.0, 'EMA30': -0.34, 'EMA5': 0.04, 'EMA15': 0.07}\n"
     ]
    }
   ],
   "source": [
    "y_pred1,y_test1,X_test1,accuracy_s1,recall_s1,precision_s1,cm1,cr1,log_model_1d = loglinear_model_build_eval(X1d,y1d,)\n",
    "                                                                                               "
   ]
  },
  {
   "cell_type": "code",
   "execution_count": 16,
   "id": "f1efccf2",
   "metadata": {},
   "outputs": [
    {
     "data": {
      "text/plain": [
       "0.4639423076923077"
      ]
     },
     "execution_count": 16,
     "metadata": {},
     "output_type": "execute_result"
    }
   ],
   "source": [
    "accuracy_s1"
   ]
  },
  {
   "cell_type": "code",
   "execution_count": 17,
   "id": "40797fd1",
   "metadata": {},
   "outputs": [
    {
     "data": {
      "text/plain": [
       "0.02702702702702703"
      ]
     },
     "execution_count": 17,
     "metadata": {},
     "output_type": "execute_result"
    }
   ],
   "source": [
    "recall_s1"
   ]
  },
  {
   "cell_type": "code",
   "execution_count": 18,
   "id": "b62daafa",
   "metadata": {},
   "outputs": [
    {
     "data": {
      "text/plain": [
       "0.46153846153846156"
      ]
     },
     "execution_count": 18,
     "metadata": {},
     "output_type": "execute_result"
    }
   ],
   "source": [
    "precision_s1"
   ]
  },
  {
   "cell_type": "code",
   "execution_count": 19,
   "id": "df1a7f03",
   "metadata": {},
   "outputs": [
    {
     "name": "stdout",
     "output_type": "stream",
     "text": [
      "              precision    recall  f1-score   support\n",
      "\n",
      "           1       0.46      0.03      0.05       222\n",
      "           0       0.46      0.96      0.63       194\n",
      "\n",
      "    accuracy                           0.46       416\n",
      "   macro avg       0.46      0.50      0.34       416\n",
      "weighted avg       0.46      0.46      0.32       416\n",
      "\n"
     ]
    }
   ],
   "source": [
    "print(cr1)"
   ]
  },
  {
   "cell_type": "code",
   "execution_count": 31,
   "id": "29e18bb1",
   "metadata": {},
   "outputs": [
    {
     "data": {
      "text/plain": [
       "<sklearn.metrics._plot.confusion_matrix.ConfusionMatrixDisplay at 0x248e94df790>"
      ]
     },
     "execution_count": 31,
     "metadata": {},
     "output_type": "execute_result"
    },
    {
     "data": {
      "image/png": "[encoded data removed]",
      "text/plain": [
       "<Figure size 432x288 with 2 Axes>"
      ]
     },
     "metadata": {
      "needs_background": "light"
     },
     "output_type": "display_data"
    }
   ],
   "source": [
    "ConfusionMatrixDisplay(cm1).plot()"
   ]
  },
  {
   "cell_type": "markdown",
   "id": "fdad5f29",
   "metadata": {},
   "source": [
    "## 5d Classify"
   ]
  },
  {
   "cell_type": "code",
   "execution_count": 21,
   "id": "a2425ec0",
   "metadata": {},
   "outputs": [],
   "source": [
    "X_features_5d = set(X_features) - set(['5d_diff','10d_diff','next5_day_close','next10_day_close','1d_up_down',\n",
    "                                      '5d_up_down','10d_up_down','next_day_close','1d_diff',\n",
    "                                       'title_senti_comp','avg_senti_comp'])\n",
    "X_features_5d = list(X_features_5d)"
   ]
  },
  {
   "cell_type": "code",
   "execution_count": 22,
   "id": "a0b1247d",
   "metadata": {},
   "outputs": [],
   "source": [
    "X5d = df_combined[X_features_5d]\n",
    "y5d = df_combined['5d_up_down']"
   ]
  },
  {
   "cell_type": "code",
   "execution_count": 23,
   "id": "0533af0c",
   "metadata": {},
   "outputs": [
    {
     "name": "stdout",
     "output_type": "stream",
     "text": [
      "Train size : (968, 12); Test Size : (416, 12)\n",
      "Intercept : [0.32326283]\n",
      "Coefficient : {'SMA30': -0.06, 'EMA9': 0.15, 'news_senti_comp': 0.07, 'SMA3': -0.46, 'EMA3': -0.39, 'SMA15': -0.02, 'SMA9': 0.53, 'SMA5': 0.45, 'Volume_100k': 0.08, 'EMA30': -0.42, 'EMA5': -0.06, 'EMA15': 0.11}\n"
     ]
    }
   ],
   "source": [
    "y_pred5,y_test5,X_test5,accuracy_s5,recall_s5,precision_s5,cm5,cr5,log_model_5d = loglinear_model_build_eval(X5d,y5d,)\n"
   ]
  },
  {
   "cell_type": "code",
   "execution_count": 24,
   "id": "6f1fe39e",
   "metadata": {},
   "outputs": [
    {
     "data": {
      "text/plain": [
       "0.4639423076923077"
      ]
     },
     "execution_count": 24,
     "metadata": {},
     "output_type": "execute_result"
    }
   ],
   "source": [
    "accuracy_s5"
   ]
  },
  {
   "cell_type": "code",
   "execution_count": 25,
   "id": "231178e7",
   "metadata": {},
   "outputs": [
    {
     "data": {
      "text/plain": [
       "0.06726457399103139"
      ]
     },
     "execution_count": 25,
     "metadata": {},
     "output_type": "execute_result"
    }
   ],
   "source": [
    "recall_s5"
   ]
  },
  {
   "cell_type": "code",
   "execution_count": 26,
   "id": "c3833cd4",
   "metadata": {},
   "outputs": [
    {
     "data": {
      "text/plain": [
       "0.5"
      ]
     },
     "execution_count": 26,
     "metadata": {},
     "output_type": "execute_result"
    }
   ],
   "source": [
    "precision_s5"
   ]
  },
  {
   "cell_type": "markdown",
   "id": "38f2a16a",
   "metadata": {},
   "source": [
    "## 10d Classify"
   ]
  },
  {
   "cell_type": "code",
   "execution_count": 27,
   "id": "7e885d32",
   "metadata": {},
   "outputs": [],
   "source": [
    "X_features_10d = set(X_features) - set(['5d_diff','10d_diff','next5_day_close','next10_day_close','1d_up_down',\n",
    "                                      '5d_up_down','10d_up_down','next_day_close','1d_diff',\n",
    "                                       'title_senti_comp','avg_senti_comp'])\n",
    "X_features_10d = list(X_features_5d)"
   ]
  },
  {
   "cell_type": "code",
   "execution_count": 28,
   "id": "5c7e2880",
   "metadata": {},
   "outputs": [],
   "source": [
    "X10d = df_combined[X_features_10d]\n",
    "y10d = df_combined['10d_up_down']"
   ]
  },
  {
   "cell_type": "code",
   "execution_count": 29,
   "id": "6bd3ec0d",
   "metadata": {},
   "outputs": [
    {
     "name": "stdout",
     "output_type": "stream",
     "text": [
      "Train size : (968, 12); Test Size : (416, 12)\n",
      "Intercept : [0.37860594]\n",
      "Coefficient : {'SMA30': 0.02, 'EMA9': 0.08, 'news_senti_comp': -0.03, 'SMA3': -0.41, 'EMA3': -0.23, 'SMA15': 0.27, 'SMA9': 0.12, 'SMA5': 0.12, 'Volume_100k': 0.34, 'EMA30': -0.34, 'EMA5': -0.09, 'EMA15': 0.12}\n"
     ]
    }
   ],
   "source": [
    "y_pred10,y_test10,X_test10,accuracy_s10,recall_s10,precision_s10,cm10,cr10,log_model_10d = loglinear_model_build_eval(X10d,y10d,)\n"
   ]
  },
  {
   "cell_type": "code",
   "execution_count": 30,
   "id": "2c5219ce",
   "metadata": {},
   "outputs": [
    {
     "data": {
      "text/plain": [
       "0.4807692307692308"
      ]
     },
     "execution_count": 30,
     "metadata": {},
     "output_type": "execute_result"
    }
   ],
   "source": [
    "accuracy_s10"
   ]
  },
  {
   "cell_type": "code",
   "execution_count": null,
   "id": "b2df2e95",
   "metadata": {},
   "outputs": [],
   "source": []
  },
  {
   "cell_type": "code",
   "execution_count": null,
   "id": "a9a6032a",
   "metadata": {},
   "outputs": [],
   "source": []
  },
  {
   "cell_type": "markdown",
   "id": "1cd24ee8",
   "metadata": {},
   "source": [
    "## KNN Classifier"
   ]
  },
  {
   "cell_type": "code",
   "execution_count": 32,
   "id": "129d135e",
   "metadata": {},
   "outputs": [],
   "source": [
    "def knn_classifier(X,y,train_size=0.7, neighbors=10):\n",
    "    \n",
    "    ## train test split\n",
    "    X_train, X_test, y_train, y_test = train_test_split(X,\n",
    "                                                    y,\n",
    "                                                    shuffle=False,\n",
    "                                                    train_size = train_size,\n",
    "                                                    random_state = 80)\n",
    "    \n",
    "    scaler = MinMaxScaler()\n",
    "    \n",
    "    scaler.fit(X_train)\n",
    "    \n",
    "    x_train_scaled = scaler.transform(X_train)\n",
    "    x_test_scaled = scaler.transform(X_test)\n",
    "    \n",
    "    knn_clf = KNeighborsClassifier( n_neighbors = neighbors )\n",
    "    \n",
    "    return x_train_scaled,y_train,x_test_scaled,y_test,knn_clf\n",
    "    "
   ]
  },
  {
   "cell_type": "markdown",
   "id": "b4658fc0",
   "metadata": {},
   "source": [
    "## 1d classification"
   ]
  },
  {
   "cell_type": "code",
   "execution_count": 33,
   "id": "bd96ccc8",
   "metadata": {},
   "outputs": [],
   "source": [
    "x_train_scaled_1, y_train_1, x_test_scaled_1, y_test_1, knn_1 = knn_classifier(X1d,y1d,neighbors=5)"
   ]
  },
  {
   "cell_type": "code",
   "execution_count": 34,
   "id": "92edf40f",
   "metadata": {},
   "outputs": [],
   "source": [
    "knn_1.fit(x_train_scaled_1,y_train_1)\n",
    "\n",
    "knn_test_pred_1 = pd.DataFrame( { 'actual':  y_test_1,\n",
    "                                'predicted': knn_1.predict( x_test_scaled_1 ) } )\n",
    "\n",
    "cm_knn_1 = confusion_matrix(knn_test_pred_1.actual, knn_test_pred_1.predicted, labels = [1,0])\n",
    "\n",
    "knn_cm_plot = ConfusionMatrixDisplay(cm_knn_1, \n",
    "                                 display_labels=['Up', 'Down'])"
   ]
  },
  {
   "cell_type": "code",
   "execution_count": 35,
   "id": "601bb149",
   "metadata": {},
   "outputs": [
    {
     "data": {
      "text/plain": [
       "<sklearn.metrics._plot.confusion_matrix.ConfusionMatrixDisplay at 0x248e957f550>"
      ]
     },
     "execution_count": 35,
     "metadata": {},
     "output_type": "execute_result"
    },
    {
     "data": {
      "image/png": "[encoded data removed]",
      "text/plain": [
       "<Figure size 432x288 with 2 Axes>"
      ]
     },
     "metadata": {
      "needs_background": "light"
     },
     "output_type": "display_data"
    }
   ],
   "source": [
    "knn_cm_plot.plot()"
   ]
  },
  {
   "cell_type": "code",
   "execution_count": 36,
   "id": "5bf268b0",
   "metadata": {},
   "outputs": [
    {
     "name": "stdout",
     "output_type": "stream",
     "text": [
      "              precision    recall  f1-score   support\n",
      "\n",
      "           0       0.47      0.56      0.51       194\n",
      "           1       0.54      0.45      0.49       222\n",
      "\n",
      "    accuracy                           0.50       416\n",
      "   macro avg       0.50      0.50      0.50       416\n",
      "weighted avg       0.50      0.50      0.50       416\n",
      "\n"
     ]
    }
   ],
   "source": [
    "print(classification_report(knn_test_pred_1.actual, knn_test_pred_1.predicted))"
   ]
  },
  {
   "cell_type": "code",
   "execution_count": 37,
   "id": "f8462d7e",
   "metadata": {},
   "outputs": [
    {
     "data": {
      "text/plain": [
       "0.49759615384615385"
      ]
     },
     "execution_count": 37,
     "metadata": {},
     "output_type": "execute_result"
    }
   ],
   "source": [
    "accuracy_score(knn_test_pred_1.actual,knn_test_pred_1.predicted)"
   ]
  },
  {
   "cell_type": "code",
   "execution_count": 38,
   "id": "aa3a8d19",
   "metadata": {},
   "outputs": [
    {
     "data": {
      "text/plain": [
       "0.44594594594594594"
      ]
     },
     "execution_count": 38,
     "metadata": {},
     "output_type": "execute_result"
    }
   ],
   "source": [
    "recall_score(knn_test_pred_1.actual,knn_test_pred_1.predicted)"
   ]
  },
  {
   "cell_type": "code",
   "execution_count": null,
   "id": "d9e3bcdc",
   "metadata": {},
   "outputs": [],
   "source": []
  },
  {
   "cell_type": "markdown",
   "id": "2bd266d9",
   "metadata": {},
   "source": [
    "## 5d classification"
   ]
  },
  {
   "cell_type": "code",
   "execution_count": 39,
   "id": "fe9f4e60",
   "metadata": {},
   "outputs": [],
   "source": [
    "x_train_scaled_5, y_train_5, x_test_scaled_5, y_test_5, knn_5 = knn_classifier(X5d,y5d,neighbors=5)"
   ]
  },
  {
   "cell_type": "code",
   "execution_count": 40,
   "id": "8438e5c2",
   "metadata": {},
   "outputs": [],
   "source": [
    "knn_5.fit(x_train_scaled_5,y_train_5)\n",
    "\n",
    "knn_test_pred_5 = pd.DataFrame( { 'actual':  y_test_5,\n",
    "                                'predicted': knn_5.predict( x_test_scaled_5 ) } )\n",
    "\n",
    "cm_knn_5 = confusion_matrix(knn_test_pred_5.actual, knn_test_pred_5.predicted, labels = [1,0])\n",
    "\n",
    "knn_cm_plot = ConfusionMatrixDisplay(cm_knn_5, \n",
    "                                 display_labels=['Up', 'Down'])"
   ]
  },
  {
   "cell_type": "code",
   "execution_count": 41,
   "id": "61f692a8",
   "metadata": {},
   "outputs": [
    {
     "data": {
      "text/plain": [
       "<sklearn.metrics._plot.confusion_matrix.ConfusionMatrixDisplay at 0x248e9630ee0>"
      ]
     },
     "execution_count": 41,
     "metadata": {},
     "output_type": "execute_result"
    },
    {
     "data": {
      "image/png": "[encoded data removed]",
      "text/plain": [
       "<Figure size 432x288 with 2 Axes>"
      ]
     },
     "metadata": {
      "needs_background": "light"
     },
     "output_type": "display_data"
    }
   ],
   "source": [
    "knn_cm_plot.plot()"
   ]
  },
  {
   "cell_type": "code",
   "execution_count": 42,
   "id": "0955bc18",
   "metadata": {},
   "outputs": [
    {
     "data": {
      "text/plain": [
       "0.5024038461538461"
      ]
     },
     "execution_count": 42,
     "metadata": {},
     "output_type": "execute_result"
    }
   ],
   "source": [
    "accuracy_score(knn_test_pred_5.actual,knn_test_pred_5.predicted)"
   ]
  },
  {
   "cell_type": "code",
   "execution_count": 43,
   "id": "a3a3fcb2",
   "metadata": {},
   "outputs": [
    {
     "data": {
      "text/plain": [
       "0.39461883408071746"
      ]
     },
     "execution_count": 43,
     "metadata": {},
     "output_type": "execute_result"
    }
   ],
   "source": [
    "# for label 1\n",
    "recall_score(knn_test_pred_5.actual,knn_test_pred_5.predicted)"
   ]
  },
  {
   "cell_type": "code",
   "execution_count": 44,
   "id": "e60b99f2",
   "metadata": {},
   "outputs": [
    {
     "name": "stdout",
     "output_type": "stream",
     "text": [
      "              precision    recall  f1-score   support\n",
      "\n",
      "           0       0.47      0.63      0.54       193\n",
      "           1       0.55      0.39      0.46       223\n",
      "\n",
      "    accuracy                           0.50       416\n",
      "   macro avg       0.51      0.51      0.50       416\n",
      "weighted avg       0.51      0.50      0.50       416\n",
      "\n"
     ]
    }
   ],
   "source": [
    "print(classification_report(knn_test_pred_5.actual, knn_test_pred_5.predicted))"
   ]
  },
  {
   "cell_type": "code",
   "execution_count": null,
   "id": "980099f1",
   "metadata": {},
   "outputs": [],
   "source": []
  },
  {
   "cell_type": "markdown",
   "id": "a5ce0593",
   "metadata": {},
   "source": [
    "## 10d Classification"
   ]
  },
  {
   "cell_type": "code",
   "execution_count": 45,
   "id": "bed2b13e",
   "metadata": {},
   "outputs": [],
   "source": [
    "x_train_scaled_10, y_train_10, x_test_scaled_10, y_test_10, knn_10 = knn_classifier(X10d,y10d,neighbors=5)"
   ]
  },
  {
   "cell_type": "code",
   "execution_count": 46,
   "id": "19fbb43e",
   "metadata": {},
   "outputs": [],
   "source": [
    "knn_10.fit(x_train_scaled_10,y_train_10)\n",
    "\n",
    "knn_test_pred_10 = pd.DataFrame( { 'actual':  y_test_10,\n",
    "                                'predicted': knn_10.predict( x_test_scaled_10 ) } )\n",
    "\n",
    "cm_knn_10 = confusion_matrix(knn_test_pred_10.actual, knn_test_pred_10.predicted, labels = [1,0])\n",
    "\n",
    "knn_cm_plot = ConfusionMatrixDisplay(cm_knn_10, \n",
    "                                 display_labels=['Up', 'Down'])"
   ]
  },
  {
   "cell_type": "code",
   "execution_count": 47,
   "id": "107d12cd",
   "metadata": {},
   "outputs": [
    {
     "data": {
      "text/plain": [
       "<sklearn.metrics._plot.confusion_matrix.ConfusionMatrixDisplay at 0x248e9627910>"
      ]
     },
     "execution_count": 47,
     "metadata": {},
     "output_type": "execute_result"
    },
    {
     "data": {
      "image/png": "[encoded data removed]",
      "text/plain": [
       "<Figure size 432x288 with 2 Axes>"
      ]
     },
     "metadata": {
      "needs_background": "light"
     },
     "output_type": "display_data"
    }
   ],
   "source": [
    "knn_cm_plot.plot()"
   ]
  },
  {
   "cell_type": "code",
   "execution_count": 48,
   "id": "81f437d5",
   "metadata": {},
   "outputs": [
    {
     "data": {
      "text/plain": [
       "0.49278846153846156"
      ]
     },
     "execution_count": 48,
     "metadata": {},
     "output_type": "execute_result"
    }
   ],
   "source": [
    "accuracy_score(knn_test_pred_10.actual,knn_test_pred_10.predicted)"
   ]
  },
  {
   "cell_type": "code",
   "execution_count": 49,
   "id": "7fd4cd24",
   "metadata": {},
   "outputs": [
    {
     "data": {
      "text/plain": [
       "0.29596412556053814"
      ]
     },
     "execution_count": 49,
     "metadata": {},
     "output_type": "execute_result"
    }
   ],
   "source": [
    "# for label 1\n",
    "recall_score(knn_test_pred_10.actual,knn_test_pred_10.predicted)"
   ]
  },
  {
   "cell_type": "code",
   "execution_count": 50,
   "id": "4c5fb37b",
   "metadata": {},
   "outputs": [
    {
     "name": "stdout",
     "output_type": "stream",
     "text": [
      "              precision    recall  f1-score   support\n",
      "\n",
      "           0       0.47      0.72      0.57       193\n",
      "           1       0.55      0.30      0.38       223\n",
      "\n",
      "    accuracy                           0.49       416\n",
      "   macro avg       0.51      0.51      0.48       416\n",
      "weighted avg       0.51      0.49      0.47       416\n",
      "\n"
     ]
    }
   ],
   "source": [
    "print(classification_report(knn_test_pred_10.actual, knn_test_pred_10.predicted))"
   ]
  },
  {
   "cell_type": "code",
   "execution_count": null,
   "id": "28258f1a",
   "metadata": {},
   "outputs": [],
   "source": []
  }
 ],
 "metadata": {
  "kernelspec": {
   "display_name": "Python 3 (ipykernel)",
   "language": "python",
   "name": "python3"
  },
  "language_info": {
   "codemirror_mode": {
    "name": "ipython",
    "version": 3
   },
   "file_extension": ".py",
   "mimetype": "text/x-python",
   "name": "python",
   "nbconvert_exporter": "python",
   "pygments_lexer": "ipython3",
   "version": "3.9.7"
  }
 },
 "nbformat": 4,
 "nbformat_minor": 5
}
