{
 "cells": [
  {
   "cell_type": "code",
   "execution_count": 1,
   "id": "17d1719a",
   "metadata": {},
   "outputs": [],
   "source": [
    "import pandas as pd\n",
    "import numpy as np\n",
    "from sklearn.model_selection import train_test_split\n",
    "from sklearn.preprocessing import StandardScaler\n",
    "from sklearn.compose import ColumnTransformer\n",
    "from sklearn.pipeline import Pipeline\n",
    "from sklearn.linear_model import SGDRegressor\n",
    "from sklearn.metrics import mean_squared_error, r2_score"
   ]
  },
  {
   "cell_type": "code",
   "execution_count": 2,
   "id": "d75405e2",
   "metadata": {},
   "outputs": [],
   "source": [
    "df_news = pd.read_csv(\"Reliance_sentiment.csv\")"
   ]
  },
  {
   "cell_type": "code",
   "execution_count": 3,
   "id": "60a4fedf",
   "metadata": {},
   "outputs": [],
   "source": [
    "df_price = pd.read_csv(\"reliance_prices.csv\")"
   ]
  },
  {
   "cell_type": "code",
   "execution_count": 4,
   "id": "d2b4726e",
   "metadata": {},
   "outputs": [
    {
     "name": "stdout",
     "output_type": "stream",
     "text": [
      "<class 'pandas.core.frame.DataFrame'>\n",
      "RangeIndex: 1384 entries, 0 to 1383\n",
      "Data columns (total 21 columns):\n",
      " #   Column       Non-Null Count  Dtype  \n",
      "---  ------       --------------  -----  \n",
      " 0   Date         1384 non-null   object \n",
      " 1   Open         1384 non-null   float64\n",
      " 2   High         1384 non-null   float64\n",
      " 3   Low          1384 non-null   float64\n",
      " 4   Close        1384 non-null   float64\n",
      " 5   Adj Close    1384 non-null   float64\n",
      " 6   Volume       1384 non-null   int64  \n",
      " 7   1d_diff      1384 non-null   float64\n",
      " 8   5d_diff      1384 non-null   float64\n",
      " 9   10d_diff     1384 non-null   float64\n",
      " 10  SMA3         1384 non-null   float64\n",
      " 11  SMA5         1384 non-null   float64\n",
      " 12  SMA9         1384 non-null   float64\n",
      " 13  SMA15        1384 non-null   float64\n",
      " 14  SMA30        1384 non-null   float64\n",
      " 15  EMA3         1384 non-null   float64\n",
      " 16  EMA5         1384 non-null   float64\n",
      " 17  EMA9         1384 non-null   float64\n",
      " 18  EMA15        1384 non-null   float64\n",
      " 19  EMA30        1384 non-null   float64\n",
      " 20  Volume_100k  1384 non-null   float64\n",
      "dtypes: float64(19), int64(1), object(1)\n",
      "memory usage: 227.2+ KB\n"
     ]
    }
   ],
   "source": [
    "df_price.info()"
   ]
  },
  {
   "cell_type": "code",
   "execution_count": 5,
   "id": "74e63cd5",
   "metadata": {},
   "outputs": [
    {
     "name": "stdout",
     "output_type": "stream",
     "text": [
      "<class 'pandas.core.frame.DataFrame'>\n",
      "RangeIndex: 654 entries, 0 to 653\n",
      "Data columns (total 4 columns):\n",
      " #   Column            Non-Null Count  Dtype  \n",
      "---  ------            --------------  -----  \n",
      " 0   date              654 non-null    object \n",
      " 1   title_senti_comp  654 non-null    float64\n",
      " 2   news_senti_comp   654 non-null    float64\n",
      " 3   avg_senti_comp    654 non-null    float64\n",
      "dtypes: float64(3), object(1)\n",
      "memory usage: 20.6+ KB\n"
     ]
    }
   ],
   "source": [
    "df_news.info()"
   ]
  },
  {
   "cell_type": "code",
   "execution_count": 6,
   "id": "17803326",
   "metadata": {},
   "outputs": [],
   "source": [
    "df_news['date'] = pd.to_datetime(df_news.date)\n",
    "df_price['Date'] = pd.to_datetime(df_price.Date)"
   ]
  },
  {
   "cell_type": "code",
   "execution_count": 7,
   "id": "640c4c1e",
   "metadata": {},
   "outputs": [],
   "source": [
    "df_combined = pd.merge(left=df_price,right=df_news,how=\"left\",left_on = 'Date',right_on='date')"
   ]
  },
  {
   "cell_type": "code",
   "execution_count": 8,
   "id": "93dbba8f",
   "metadata": {},
   "outputs": [],
   "source": [
    "df_combined.drop(['date'],axis=1,inplace=True)"
   ]
  },
  {
   "cell_type": "code",
   "execution_count": 9,
   "id": "bc7ac3e1",
   "metadata": {},
   "outputs": [
    {
     "data": {
      "text/html": [
       "<div>\n",
       "<style scoped>\n",
       "    .dataframe tbody tr th:only-of-type {\n",
       "        vertical-align: middle;\n",
       "    }\n",
       "\n",
       "    .dataframe tbody tr th {\n",
       "        vertical-align: top;\n",
       "    }\n",
       "\n",
       "    .dataframe thead th {\n",
       "        text-align: right;\n",
       "    }\n",
       "</style>\n",
       "<table border=\"1\" class=\"dataframe\">\n",
       "  <thead>\n",
       "    <tr style=\"text-align: right;\">\n",
       "      <th></th>\n",
       "      <th>Date</th>\n",
       "      <th>Open</th>\n",
       "      <th>High</th>\n",
       "      <th>Low</th>\n",
       "      <th>Close</th>\n",
       "      <th>Adj Close</th>\n",
       "      <th>Volume</th>\n",
       "      <th>1d_diff</th>\n",
       "      <th>5d_diff</th>\n",
       "      <th>10d_diff</th>\n",
       "      <th>...</th>\n",
       "      <th>SMA30</th>\n",
       "      <th>EMA3</th>\n",
       "      <th>EMA5</th>\n",
       "      <th>EMA9</th>\n",
       "      <th>EMA15</th>\n",
       "      <th>EMA30</th>\n",
       "      <th>Volume_100k</th>\n",
       "      <th>title_senti_comp</th>\n",
       "      <th>news_senti_comp</th>\n",
       "      <th>avg_senti_comp</th>\n",
       "    </tr>\n",
       "  </thead>\n",
       "  <tbody>\n",
       "    <tr>\n",
       "      <th>1379</th>\n",
       "      <td>2022-07-11</td>\n",
       "      <td>2376.500000</td>\n",
       "      <td>2428.800049</td>\n",
       "      <td>2370.000000</td>\n",
       "      <td>2423.899902</td>\n",
       "      <td>2423.899902</td>\n",
       "      <td>6390604</td>\n",
       "      <td>3.449951</td>\n",
       "      <td>1.649902</td>\n",
       "      <td>3.500000</td>\n",
       "      <td>...</td>\n",
       "      <td>2574.979997</td>\n",
       "      <td>2411.709763</td>\n",
       "      <td>2417.687410</td>\n",
       "      <td>2439.967735</td>\n",
       "      <td>2472.975022</td>\n",
       "      <td>2523.815943</td>\n",
       "      <td>63.906</td>\n",
       "      <td>NaN</td>\n",
       "      <td>NaN</td>\n",
       "      <td>NaN</td>\n",
       "    </tr>\n",
       "    <tr>\n",
       "      <th>1380</th>\n",
       "      <td>2022-07-12</td>\n",
       "      <td>2404.000000</td>\n",
       "      <td>2439.699951</td>\n",
       "      <td>2404.000000</td>\n",
       "      <td>2420.449951</td>\n",
       "      <td>2420.449951</td>\n",
       "      <td>4974502</td>\n",
       "      <td>42.899902</td>\n",
       "      <td>-16.650146</td>\n",
       "      <td>-1.050049</td>\n",
       "      <td>...</td>\n",
       "      <td>2567.906665</td>\n",
       "      <td>2416.079857</td>\n",
       "      <td>2418.608257</td>\n",
       "      <td>2436.064178</td>\n",
       "      <td>2466.409388</td>\n",
       "      <td>2517.147169</td>\n",
       "      <td>49.745</td>\n",
       "      <td>NaN</td>\n",
       "      <td>NaN</td>\n",
       "      <td>NaN</td>\n",
       "    </tr>\n",
       "    <tr>\n",
       "      <th>1381</th>\n",
       "      <td>2022-07-13</td>\n",
       "      <td>2427.300049</td>\n",
       "      <td>2434.000000</td>\n",
       "      <td>2373.000000</td>\n",
       "      <td>2377.550049</td>\n",
       "      <td>2377.550049</td>\n",
       "      <td>6564435</td>\n",
       "      <td>-19.599854</td>\n",
       "      <td>-125.449951</td>\n",
       "      <td>-41.649902</td>\n",
       "      <td>...</td>\n",
       "      <td>2559.375000</td>\n",
       "      <td>2396.814953</td>\n",
       "      <td>2404.922187</td>\n",
       "      <td>2424.361352</td>\n",
       "      <td>2455.301971</td>\n",
       "      <td>2508.140903</td>\n",
       "      <td>65.644</td>\n",
       "      <td>0.0</td>\n",
       "      <td>-0.0772</td>\n",
       "      <td>-0.04</td>\n",
       "    </tr>\n",
       "    <tr>\n",
       "      <th>1382</th>\n",
       "      <td>2022-07-14</td>\n",
       "      <td>2388.000000</td>\n",
       "      <td>2433.949951</td>\n",
       "      <td>2376.949951</td>\n",
       "      <td>2397.149902</td>\n",
       "      <td>2397.149902</td>\n",
       "      <td>7831798</td>\n",
       "      <td>-4.650146</td>\n",
       "      <td>-89.150146</td>\n",
       "      <td>-59.950195</td>\n",
       "      <td>...</td>\n",
       "      <td>2548.469995</td>\n",
       "      <td>2396.982428</td>\n",
       "      <td>2402.331426</td>\n",
       "      <td>2418.919062</td>\n",
       "      <td>2448.032962</td>\n",
       "      <td>2500.980193</td>\n",
       "      <td>78.318</td>\n",
       "      <td>0.0</td>\n",
       "      <td>0.4703</td>\n",
       "      <td>0.24</td>\n",
       "    </tr>\n",
       "    <tr>\n",
       "      <th>1383</th>\n",
       "      <td>2022-07-15</td>\n",
       "      <td>2415.000000</td>\n",
       "      <td>2415.000000</td>\n",
       "      <td>2383.100098</td>\n",
       "      <td>2401.800049</td>\n",
       "      <td>2401.800049</td>\n",
       "      <td>4431880</td>\n",
       "      <td>-20.449951</td>\n",
       "      <td>-101.300049</td>\n",
       "      <td>-107.649902</td>\n",
       "      <td>...</td>\n",
       "      <td>2535.879997</td>\n",
       "      <td>2399.391238</td>\n",
       "      <td>2402.154300</td>\n",
       "      <td>2415.495260</td>\n",
       "      <td>2442.253848</td>\n",
       "      <td>2494.581474</td>\n",
       "      <td>44.319</td>\n",
       "      <td>NaN</td>\n",
       "      <td>NaN</td>\n",
       "      <td>NaN</td>\n",
       "    </tr>\n",
       "  </tbody>\n",
       "</table>\n",
       "<p>5 rows × 24 columns</p>\n",
       "</div>"
      ],
      "text/plain": [
       "           Date         Open         High          Low        Close  \\\n",
       "1379 2022-07-11  2376.500000  2428.800049  2370.000000  2423.899902   \n",
       "1380 2022-07-12  2404.000000  2439.699951  2404.000000  2420.449951   \n",
       "1381 2022-07-13  2427.300049  2434.000000  2373.000000  2377.550049   \n",
       "1382 2022-07-14  2388.000000  2433.949951  2376.949951  2397.149902   \n",
       "1383 2022-07-15  2415.000000  2415.000000  2383.100098  2401.800049   \n",
       "\n",
       "        Adj Close   Volume    1d_diff     5d_diff    10d_diff  ...  \\\n",
       "1379  2423.899902  6390604   3.449951    1.649902    3.500000  ...   \n",
       "1380  2420.449951  4974502  42.899902  -16.650146   -1.050049  ...   \n",
       "1381  2377.550049  6564435 -19.599854 -125.449951  -41.649902  ...   \n",
       "1382  2397.149902  7831798  -4.650146  -89.150146  -59.950195  ...   \n",
       "1383  2401.800049  4431880 -20.449951 -101.300049 -107.649902  ...   \n",
       "\n",
       "            SMA30         EMA3         EMA5         EMA9        EMA15  \\\n",
       "1379  2574.979997  2411.709763  2417.687410  2439.967735  2472.975022   \n",
       "1380  2567.906665  2416.079857  2418.608257  2436.064178  2466.409388   \n",
       "1381  2559.375000  2396.814953  2404.922187  2424.361352  2455.301971   \n",
       "1382  2548.469995  2396.982428  2402.331426  2418.919062  2448.032962   \n",
       "1383  2535.879997  2399.391238  2402.154300  2415.495260  2442.253848   \n",
       "\n",
       "            EMA30  Volume_100k  title_senti_comp  news_senti_comp  \\\n",
       "1379  2523.815943       63.906               NaN              NaN   \n",
       "1380  2517.147169       49.745               NaN              NaN   \n",
       "1381  2508.140903       65.644               0.0          -0.0772   \n",
       "1382  2500.980193       78.318               0.0           0.4703   \n",
       "1383  2494.581474       44.319               NaN              NaN   \n",
       "\n",
       "      avg_senti_comp  \n",
       "1379             NaN  \n",
       "1380             NaN  \n",
       "1381           -0.04  \n",
       "1382            0.24  \n",
       "1383             NaN  \n",
       "\n",
       "[5 rows x 24 columns]"
      ]
     },
     "execution_count": 9,
     "metadata": {},
     "output_type": "execute_result"
    }
   ],
   "source": [
    "df_combined.tail()"
   ]
  },
  {
   "cell_type": "code",
   "execution_count": 10,
   "id": "1f6913a3",
   "metadata": {},
   "outputs": [
    {
     "data": {
      "text/html": [
       "<div>\n",
       "<style scoped>\n",
       "    .dataframe tbody tr th:only-of-type {\n",
       "        vertical-align: middle;\n",
       "    }\n",
       "\n",
       "    .dataframe tbody tr th {\n",
       "        vertical-align: top;\n",
       "    }\n",
       "\n",
       "    .dataframe thead th {\n",
       "        text-align: right;\n",
       "    }\n",
       "</style>\n",
       "<table border=\"1\" class=\"dataframe\">\n",
       "  <thead>\n",
       "    <tr style=\"text-align: right;\">\n",
       "      <th></th>\n",
       "      <th>Date</th>\n",
       "      <th>Close</th>\n",
       "      <th>1d_diff</th>\n",
       "    </tr>\n",
       "  </thead>\n",
       "  <tbody>\n",
       "    <tr>\n",
       "      <th>0</th>\n",
       "      <td>2016-12-13</td>\n",
       "      <td>515.018127</td>\n",
       "      <td>-9.757507</td>\n",
       "    </tr>\n",
       "    <tr>\n",
       "      <th>1</th>\n",
       "      <td>2016-12-14</td>\n",
       "      <td>524.775635</td>\n",
       "      <td>3.244202</td>\n",
       "    </tr>\n",
       "    <tr>\n",
       "      <th>2</th>\n",
       "      <td>2016-12-15</td>\n",
       "      <td>521.531433</td>\n",
       "      <td>-2.080261</td>\n",
       "    </tr>\n",
       "    <tr>\n",
       "      <th>3</th>\n",
       "      <td>2016-12-16</td>\n",
       "      <td>523.611694</td>\n",
       "      <td>-2.674622</td>\n",
       "    </tr>\n",
       "    <tr>\n",
       "      <th>4</th>\n",
       "      <td>2016-12-19</td>\n",
       "      <td>526.286316</td>\n",
       "      <td>2.303162</td>\n",
       "    </tr>\n",
       "  </tbody>\n",
       "</table>\n",
       "</div>"
      ],
      "text/plain": [
       "        Date       Close   1d_diff\n",
       "0 2016-12-13  515.018127 -9.757507\n",
       "1 2016-12-14  524.775635  3.244202\n",
       "2 2016-12-15  521.531433 -2.080261\n",
       "3 2016-12-16  523.611694 -2.674622\n",
       "4 2016-12-19  526.286316  2.303162"
      ]
     },
     "execution_count": 10,
     "metadata": {},
     "output_type": "execute_result"
    }
   ],
   "source": [
    "df_combined[['Date','Close','1d_diff']].head()"
   ]
  },
  {
   "cell_type": "code",
   "execution_count": 11,
   "id": "da5d3efb",
   "metadata": {},
   "outputs": [
    {
     "data": {
      "text/plain": [
       "Date                  0\n",
       "Open                  0\n",
       "High                  0\n",
       "Low                   0\n",
       "Close                 0\n",
       "Adj Close             0\n",
       "Volume                0\n",
       "1d_diff               0\n",
       "5d_diff               0\n",
       "10d_diff              0\n",
       "SMA3                  0\n",
       "SMA5                  0\n",
       "SMA9                  0\n",
       "SMA15                 0\n",
       "SMA30                 0\n",
       "EMA3                  0\n",
       "EMA5                  0\n",
       "EMA9                  0\n",
       "EMA15                 0\n",
       "EMA30                 0\n",
       "Volume_100k           0\n",
       "title_senti_comp    846\n",
       "news_senti_comp     846\n",
       "avg_senti_comp      846\n",
       "dtype: int64"
      ]
     },
     "execution_count": 11,
     "metadata": {},
     "output_type": "execute_result"
    }
   ],
   "source": [
    "df_combined.isna().sum()"
   ]
  },
  {
   "cell_type": "code",
   "execution_count": 12,
   "id": "b9fe98a5",
   "metadata": {},
   "outputs": [],
   "source": [
    "df_combined.fillna(0.0,inplace=True)"
   ]
  },
  {
   "cell_type": "code",
   "execution_count": 13,
   "id": "51d85d13",
   "metadata": {},
   "outputs": [],
   "source": [
    "df_combined['next_day_close'] = df_combined['Close'] - df_combined['1d_diff']"
   ]
  },
  {
   "cell_type": "code",
   "execution_count": 14,
   "id": "43244440",
   "metadata": {},
   "outputs": [
    {
     "data": {
      "text/html": [
       "<div>\n",
       "<style scoped>\n",
       "    .dataframe tbody tr th:only-of-type {\n",
       "        vertical-align: middle;\n",
       "    }\n",
       "\n",
       "    .dataframe tbody tr th {\n",
       "        vertical-align: top;\n",
       "    }\n",
       "\n",
       "    .dataframe thead th {\n",
       "        text-align: right;\n",
       "    }\n",
       "</style>\n",
       "<table border=\"1\" class=\"dataframe\">\n",
       "  <thead>\n",
       "    <tr style=\"text-align: right;\">\n",
       "      <th></th>\n",
       "      <th>Date</th>\n",
       "      <th>Close</th>\n",
       "      <th>next_day_close</th>\n",
       "      <th>1d_diff</th>\n",
       "    </tr>\n",
       "  </thead>\n",
       "  <tbody>\n",
       "    <tr>\n",
       "      <th>1379</th>\n",
       "      <td>2022-07-11</td>\n",
       "      <td>2423.899902</td>\n",
       "      <td>2420.449951</td>\n",
       "      <td>3.449951</td>\n",
       "    </tr>\n",
       "    <tr>\n",
       "      <th>1380</th>\n",
       "      <td>2022-07-12</td>\n",
       "      <td>2420.449951</td>\n",
       "      <td>2377.550049</td>\n",
       "      <td>42.899902</td>\n",
       "    </tr>\n",
       "    <tr>\n",
       "      <th>1381</th>\n",
       "      <td>2022-07-13</td>\n",
       "      <td>2377.550049</td>\n",
       "      <td>2397.149902</td>\n",
       "      <td>-19.599854</td>\n",
       "    </tr>\n",
       "    <tr>\n",
       "      <th>1382</th>\n",
       "      <td>2022-07-14</td>\n",
       "      <td>2397.149902</td>\n",
       "      <td>2401.800049</td>\n",
       "      <td>-4.650146</td>\n",
       "    </tr>\n",
       "    <tr>\n",
       "      <th>1383</th>\n",
       "      <td>2022-07-15</td>\n",
       "      <td>2401.800049</td>\n",
       "      <td>2422.250000</td>\n",
       "      <td>-20.449951</td>\n",
       "    </tr>\n",
       "  </tbody>\n",
       "</table>\n",
       "</div>"
      ],
      "text/plain": [
       "           Date        Close  next_day_close    1d_diff\n",
       "1379 2022-07-11  2423.899902     2420.449951   3.449951\n",
       "1380 2022-07-12  2420.449951     2377.550049  42.899902\n",
       "1381 2022-07-13  2377.550049     2397.149902 -19.599854\n",
       "1382 2022-07-14  2397.149902     2401.800049  -4.650146\n",
       "1383 2022-07-15  2401.800049     2422.250000 -20.449951"
      ]
     },
     "execution_count": 14,
     "metadata": {},
     "output_type": "execute_result"
    }
   ],
   "source": [
    "df_combined[['Date','Close','next_day_close','1d_diff']].tail()"
   ]
  },
  {
   "cell_type": "markdown",
   "id": "ed95efa7",
   "metadata": {},
   "source": [
    "## model creation"
   ]
  },
  {
   "cell_type": "markdown",
   "id": "a27761d2",
   "metadata": {},
   "source": [
    "## 1d prediction"
   ]
  },
  {
   "cell_type": "code",
   "execution_count": 15,
   "id": "689bbfe2",
   "metadata": {},
   "outputs": [],
   "source": [
    "x_features_1d = ['Volume_100k','EMA3','EMA5','avg_senti_comp']"
   ]
  },
  {
   "cell_type": "code",
   "execution_count": 16,
   "id": "b6fc656f",
   "metadata": {},
   "outputs": [
    {
     "name": "stdout",
     "output_type": "stream",
     "text": [
      "<class 'pandas.core.frame.DataFrame'>\n",
      "Int64Index: 1384 entries, 0 to 1383\n",
      "Data columns (total 4 columns):\n",
      " #   Column          Non-Null Count  Dtype  \n",
      "---  ------          --------------  -----  \n",
      " 0   Volume_100k     1384 non-null   float64\n",
      " 1   EMA3            1384 non-null   float64\n",
      " 2   EMA5            1384 non-null   float64\n",
      " 3   avg_senti_comp  1384 non-null   float64\n",
      "dtypes: float64(4)\n",
      "memory usage: 54.1 KB\n"
     ]
    }
   ],
   "source": [
    "df_combined[x_features_1d].info()"
   ]
  },
  {
   "cell_type": "code",
   "execution_count": 17,
   "id": "6ee392e0",
   "metadata": {},
   "outputs": [],
   "source": [
    "X1d = df_combined[x_features_1d]\n",
    "y1d= df_combined['next_day_close']"
   ]
  },
  {
   "cell_type": "code",
   "execution_count": 19,
   "id": "0ecc3df7",
   "metadata": {},
   "outputs": [],
   "source": [
    "## train test split\n",
    "X_train, X_test, y_train, y_test = train_test_split(X1d,\n",
    "                                                    y1d,\n",
    "                                                    shuffle=False,\n",
    "                                                    train_size = 0.7,\n",
    "                                                    random_state = 80)"
   ]
  },
  {
   "cell_type": "code",
   "execution_count": 20,
   "id": "418783b9",
   "metadata": {},
   "outputs": [
    {
     "data": {
      "text/plain": [
       "((968, 4), (416, 4), (968,), (416,))"
      ]
     },
     "execution_count": 20,
     "metadata": {},
     "output_type": "execute_result"
    }
   ],
   "source": [
    "X_train.shape,X_test.shape,y_train.shape,y_test.shape"
   ]
  },
  {
   "cell_type": "markdown",
   "id": "90b8353f",
   "metadata": {},
   "source": [
    "## defining transformations"
   ]
  },
  {
   "cell_type": "code",
   "execution_count": 22,
   "id": "c1dc4d88",
   "metadata": {},
   "outputs": [],
   "source": [
    "scaler = StandardScaler()"
   ]
  },
  {
   "cell_type": "code",
   "execution_count": 23,
   "id": "83573a58",
   "metadata": {},
   "outputs": [],
   "source": [
    "lreg_v1 = Pipeline(steps=[('scaler', scaler),\n",
    "                          ('regressor', SGDRegressor(max_iter=100, eta0=0.01))])"
   ]
  },
  {
   "cell_type": "code",
   "execution_count": 24,
   "id": "d37a02aa",
   "metadata": {},
   "outputs": [
    {
     "data": {
      "text/plain": [
       "Pipeline(steps=[('scaler', StandardScaler()),\n",
       "                ('regressor', SGDRegressor(max_iter=100))])"
      ]
     },
     "execution_count": 24,
     "metadata": {},
     "output_type": "execute_result"
    }
   ],
   "source": [
    "lreg_v1.fit(X_train, y_train)"
   ]
  },
  {
   "cell_type": "code",
   "execution_count": 25,
   "id": "82d41588",
   "metadata": {},
   "outputs": [
    {
     "data": {
      "text/plain": [
       "array([1169.62116002])"
      ]
     },
     "execution_count": 25,
     "metadata": {},
     "output_type": "execute_result"
    }
   ],
   "source": [
    "lreg_v1['regressor'].intercept_"
   ]
  },
  {
   "cell_type": "code",
   "execution_count": 26,
   "id": "aeaf000b",
   "metadata": {},
   "outputs": [
    {
     "data": {
      "text/plain": [
       "array([  4.50464322, 208.61240288, 204.04474956,   0.63259265])"
      ]
     },
     "execution_count": 26,
     "metadata": {},
     "output_type": "execute_result"
    }
   ],
   "source": [
    "lreg_v1['regressor'].coef_"
   ]
  },
  {
   "cell_type": "code",
   "execution_count": 27,
   "id": "887c2eec",
   "metadata": {},
   "outputs": [
    {
     "data": {
      "text/plain": [
       "{'Volume_100k': 4.5, 'EMA3': 208.61, 'EMA5': 204.04, 'avg_senti_comp': 0.63}"
      ]
     },
     "execution_count": 27,
     "metadata": {},
     "output_type": "execute_result"
    }
   ],
   "source": [
    "dict(zip(x_features_1d, np.round(lreg_v1['regressor'].coef_, 2)))"
   ]
  },
  {
   "cell_type": "code",
   "execution_count": 28,
   "id": "30a87f5d",
   "metadata": {},
   "outputs": [],
   "source": [
    "y_pred = lreg_v1.predict(X_test)"
   ]
  },
  {
   "cell_type": "code",
   "execution_count": 29,
   "id": "1d013482",
   "metadata": {},
   "outputs": [],
   "source": [
    "y_df = pd.DataFrame({\"actual\": y_test,\n",
    "                     \"predicted\": y_pred,\n",
    "                     \"residual\": y_pred - y_test})"
   ]
  },
  {
   "cell_type": "code",
   "execution_count": 30,
   "id": "19a75751",
   "metadata": {},
   "outputs": [
    {
     "data": {
      "text/html": [
       "<div>\n",
       "<style scoped>\n",
       "    .dataframe tbody tr th:only-of-type {\n",
       "        vertical-align: middle;\n",
       "    }\n",
       "\n",
       "    .dataframe tbody tr th {\n",
       "        vertical-align: top;\n",
       "    }\n",
       "\n",
       "    .dataframe thead th {\n",
       "        text-align: right;\n",
       "    }\n",
       "</style>\n",
       "<table border=\"1\" class=\"dataframe\">\n",
       "  <thead>\n",
       "    <tr style=\"text-align: right;\">\n",
       "      <th></th>\n",
       "      <th>actual</th>\n",
       "      <th>predicted</th>\n",
       "      <th>residual</th>\n",
       "    </tr>\n",
       "  </thead>\n",
       "  <tbody>\n",
       "    <tr>\n",
       "      <th>968</th>\n",
       "      <td>1996.400024</td>\n",
       "      <td>2006.178308</td>\n",
       "      <td>9.778283</td>\n",
       "    </tr>\n",
       "    <tr>\n",
       "      <th>969</th>\n",
       "      <td>2002.300049</td>\n",
       "      <td>2006.501019</td>\n",
       "      <td>4.200970</td>\n",
       "    </tr>\n",
       "    <tr>\n",
       "      <th>970</th>\n",
       "      <td>1993.250000</td>\n",
       "      <td>1995.522154</td>\n",
       "      <td>2.272154</td>\n",
       "    </tr>\n",
       "    <tr>\n",
       "      <th>971</th>\n",
       "      <td>1987.199951</td>\n",
       "      <td>2004.063128</td>\n",
       "      <td>16.863177</td>\n",
       "    </tr>\n",
       "    <tr>\n",
       "      <th>972</th>\n",
       "      <td>1973.150024</td>\n",
       "      <td>1994.243181</td>\n",
       "      <td>21.093157</td>\n",
       "    </tr>\n",
       "    <tr>\n",
       "      <th>973</th>\n",
       "      <td>1899.500000</td>\n",
       "      <td>1985.224156</td>\n",
       "      <td>85.724156</td>\n",
       "    </tr>\n",
       "    <tr>\n",
       "      <th>974</th>\n",
       "      <td>1950.699951</td>\n",
       "      <td>1958.114312</td>\n",
       "      <td>7.414361</td>\n",
       "    </tr>\n",
       "    <tr>\n",
       "      <th>975</th>\n",
       "      <td>1964.050049</td>\n",
       "      <td>1955.502045</td>\n",
       "      <td>-8.548004</td>\n",
       "    </tr>\n",
       "    <tr>\n",
       "      <th>976</th>\n",
       "      <td>1947.800049</td>\n",
       "      <td>1959.219280</td>\n",
       "      <td>11.419231</td>\n",
       "    </tr>\n",
       "    <tr>\n",
       "      <th>977</th>\n",
       "      <td>1952.599976</td>\n",
       "      <td>1954.394310</td>\n",
       "      <td>1.794335</td>\n",
       "    </tr>\n",
       "  </tbody>\n",
       "</table>\n",
       "</div>"
      ],
      "text/plain": [
       "          actual    predicted   residual\n",
       "968  1996.400024  2006.178308   9.778283\n",
       "969  2002.300049  2006.501019   4.200970\n",
       "970  1993.250000  1995.522154   2.272154\n",
       "971  1987.199951  2004.063128  16.863177\n",
       "972  1973.150024  1994.243181  21.093157\n",
       "973  1899.500000  1985.224156  85.724156\n",
       "974  1950.699951  1958.114312   7.414361\n",
       "975  1964.050049  1955.502045  -8.548004\n",
       "976  1947.800049  1959.219280  11.419231\n",
       "977  1952.599976  1954.394310   1.794335"
      ]
     },
     "execution_count": 30,
     "metadata": {},
     "output_type": "execute_result"
    }
   ],
   "source": [
    "y_df.head(10)"
   ]
  },
  {
   "cell_type": "code",
   "execution_count": 31,
   "id": "2ad3fa95",
   "metadata": {},
   "outputs": [],
   "source": [
    "mse_v1 = mean_squared_error(y_test, y_pred)"
   ]
  },
  {
   "cell_type": "code",
   "execution_count": 32,
   "id": "100fb003",
   "metadata": {},
   "outputs": [
    {
     "data": {
      "text/plain": [
       "2483.545937513821"
      ]
     },
     "execution_count": 32,
     "metadata": {},
     "output_type": "execute_result"
    }
   ],
   "source": [
    "mse_v1"
   ]
  },
  {
   "cell_type": "code",
   "execution_count": 33,
   "id": "14041e57",
   "metadata": {},
   "outputs": [],
   "source": [
    "rmse_v1 = np.sqrt(mse_v1)"
   ]
  },
  {
   "cell_type": "code",
   "execution_count": 34,
   "id": "a4806621",
   "metadata": {},
   "outputs": [
    {
     "data": {
      "text/plain": [
       "49.83518774434206"
      ]
     },
     "execution_count": 34,
     "metadata": {},
     "output_type": "execute_result"
    }
   ],
   "source": [
    "rmse_v1"
   ]
  },
  {
   "cell_type": "code",
   "execution_count": 35,
   "id": "23baac3b",
   "metadata": {},
   "outputs": [
    {
     "data": {
      "text/plain": [
       "0.9620005130275666"
      ]
     },
     "execution_count": 35,
     "metadata": {},
     "output_type": "execute_result"
    }
   ],
   "source": [
    "r2_score(y_test, y_pred)"
   ]
  },
  {
   "cell_type": "code",
   "execution_count": null,
   "id": "4f65fc3a",
   "metadata": {},
   "outputs": [],
   "source": []
  }
 ],
 "metadata": {
  "kernelspec": {
   "display_name": "Python 3 (ipykernel)",
   "language": "python",
   "name": "python3"
  },
  "language_info": {
   "codemirror_mode": {
    "name": "ipython",
    "version": 3
   },
   "file_extension": ".py",
   "mimetype": "text/x-python",
   "name": "python",
   "nbconvert_exporter": "python",
   "pygments_lexer": "ipython3",
   "version": "3.9.7"
  }
 },
 "nbformat": 4,
 "nbformat_minor": 5
}
