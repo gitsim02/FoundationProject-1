{
 "cells": [
  {
   "cell_type": "code",
   "execution_count": 1,
   "id": "d42c747a",
   "metadata": {},
   "outputs": [],
   "source": [
    "import pandas as pd\n",
    "import numpy as np\n",
    "from sklearn.model_selection import train_test_split\n",
    "from sklearn.preprocessing import StandardScaler\n",
    "from sklearn.compose import ColumnTransformer\n",
    "from sklearn.pipeline import Pipeline\n",
    "from sklearn.linear_model import SGDRegressor\n",
    "from sklearn.metrics import mean_squared_error, r2_score"
   ]
  },
  {
   "cell_type": "code",
   "execution_count": 2,
   "id": "2e0100e3",
   "metadata": {},
   "outputs": [],
   "source": [
    "df_news = pd.read_csv(\"Reliance_sentiment.csv\")"
   ]
  },
  {
   "cell_type": "code",
   "execution_count": 3,
   "id": "4474cf0d",
   "metadata": {},
   "outputs": [],
   "source": [
    "df_price = pd.read_csv(\"reliance_prices.csv\")"
   ]
  },
  {
   "cell_type": "code",
   "execution_count": 4,
   "id": "5afbaafa",
   "metadata": {},
   "outputs": [
    {
     "name": "stdout",
     "output_type": "stream",
     "text": [
      "<class 'pandas.core.frame.DataFrame'>\n",
      "RangeIndex: 1384 entries, 0 to 1383\n",
      "Data columns (total 21 columns):\n",
      " #   Column       Non-Null Count  Dtype  \n",
      "---  ------       --------------  -----  \n",
      " 0   Date         1384 non-null   object \n",
      " 1   Open         1384 non-null   float64\n",
      " 2   High         1384 non-null   float64\n",
      " 3   Low          1384 non-null   float64\n",
      " 4   Close        1384 non-null   float64\n",
      " 5   Adj Close    1384 non-null   float64\n",
      " 6   Volume       1384 non-null   int64  \n",
      " 7   SMA3         1384 non-null   float64\n",
      " 8   SMA5         1384 non-null   float64\n",
      " 9   SMA9         1384 non-null   float64\n",
      " 10  SMA15        1384 non-null   float64\n",
      " 11  SMA30        1384 non-null   float64\n",
      " 12  EMA3         1384 non-null   float64\n",
      " 13  EMA5         1384 non-null   float64\n",
      " 14  EMA9         1384 non-null   float64\n",
      " 15  EMA15        1384 non-null   float64\n",
      " 16  EMA30        1384 non-null   float64\n",
      " 17  1d_diff      1384 non-null   float64\n",
      " 18  5d_diff      1384 non-null   float64\n",
      " 19  10d_diff     1384 non-null   float64\n",
      " 20  Volume_100k  1384 non-null   float64\n",
      "dtypes: float64(19), int64(1), object(1)\n",
      "memory usage: 227.2+ KB\n"
     ]
    }
   ],
   "source": [
    "df_price.info()"
   ]
  },
  {
   "cell_type": "code",
   "execution_count": 5,
   "id": "c1784846",
   "metadata": {},
   "outputs": [
    {
     "name": "stdout",
     "output_type": "stream",
     "text": [
      "<class 'pandas.core.frame.DataFrame'>\n",
      "RangeIndex: 654 entries, 0 to 653\n",
      "Data columns (total 4 columns):\n",
      " #   Column            Non-Null Count  Dtype  \n",
      "---  ------            --------------  -----  \n",
      " 0   date              654 non-null    object \n",
      " 1   title_senti_comp  654 non-null    float64\n",
      " 2   news_senti_comp   654 non-null    float64\n",
      " 3   avg_senti_comp    654 non-null    float64\n",
      "dtypes: float64(3), object(1)\n",
      "memory usage: 20.6+ KB\n"
     ]
    }
   ],
   "source": [
    "df_news.info()"
   ]
  },
  {
   "cell_type": "code",
   "execution_count": 6,
   "id": "508ee1a1",
   "metadata": {},
   "outputs": [],
   "source": [
    "df_combined = pd.merge(left=df_price,right=df_news,how=\"left\",left_on = 'Date',right_on='date')"
   ]
  },
  {
   "cell_type": "code",
   "execution_count": 7,
   "id": "395918b6",
   "metadata": {},
   "outputs": [],
   "source": [
    "df_combined.drop(['date'],axis=1,inplace=True)"
   ]
  },
  {
   "cell_type": "code",
   "execution_count": 8,
   "id": "62d3575c",
   "metadata": {},
   "outputs": [
    {
     "data": {
      "text/html": [
       "<div>\n",
       "<style scoped>\n",
       "    .dataframe tbody tr th:only-of-type {\n",
       "        vertical-align: middle;\n",
       "    }\n",
       "\n",
       "    .dataframe tbody tr th {\n",
       "        vertical-align: top;\n",
       "    }\n",
       "\n",
       "    .dataframe thead th {\n",
       "        text-align: right;\n",
       "    }\n",
       "</style>\n",
       "<table border=\"1\" class=\"dataframe\">\n",
       "  <thead>\n",
       "    <tr style=\"text-align: right;\">\n",
       "      <th></th>\n",
       "      <th>Date</th>\n",
       "      <th>Open</th>\n",
       "      <th>High</th>\n",
       "      <th>Low</th>\n",
       "      <th>Close</th>\n",
       "      <th>Adj Close</th>\n",
       "      <th>Volume</th>\n",
       "      <th>SMA3</th>\n",
       "      <th>SMA5</th>\n",
       "      <th>SMA9</th>\n",
       "      <th>...</th>\n",
       "      <th>EMA9</th>\n",
       "      <th>EMA15</th>\n",
       "      <th>EMA30</th>\n",
       "      <th>1d_diff</th>\n",
       "      <th>5d_diff</th>\n",
       "      <th>10d_diff</th>\n",
       "      <th>Volume_100k</th>\n",
       "      <th>title_senti_comp</th>\n",
       "      <th>news_senti_comp</th>\n",
       "      <th>avg_senti_comp</th>\n",
       "    </tr>\n",
       "  </thead>\n",
       "  <tbody>\n",
       "    <tr>\n",
       "      <th>1379</th>\n",
       "      <td>2022-07-25</td>\n",
       "      <td>2467.449951</td>\n",
       "      <td>2467.449951</td>\n",
       "      <td>2403.000000</td>\n",
       "      <td>2420.399902</td>\n",
       "      <td>2420.399902</td>\n",
       "      <td>10665470</td>\n",
       "      <td>2469.933350</td>\n",
       "      <td>2469.980029</td>\n",
       "      <td>2438.738905</td>\n",
       "      <td>...</td>\n",
       "      <td>2450.729008</td>\n",
       "      <td>2453.819271</td>\n",
       "      <td>2484.103313</td>\n",
       "      <td>-82.700195</td>\n",
       "      <td>-1.850098</td>\n",
       "      <td>-3.500000</td>\n",
       "      <td>106.655</td>\n",
       "      <td>NaN</td>\n",
       "      <td>NaN</td>\n",
       "      <td>NaN</td>\n",
       "    </tr>\n",
       "    <tr>\n",
       "      <th>1380</th>\n",
       "      <td>2022-07-26</td>\n",
       "      <td>2421.100098</td>\n",
       "      <td>2443.899902</td>\n",
       "      <td>2411.350098</td>\n",
       "      <td>2421.500000</td>\n",
       "      <td>2421.500000</td>\n",
       "      <td>5216466</td>\n",
       "      <td>2448.333333</td>\n",
       "      <td>2466.860010</td>\n",
       "      <td>2443.622233</td>\n",
       "      <td>...</td>\n",
       "      <td>2444.883206</td>\n",
       "      <td>2449.779362</td>\n",
       "      <td>2480.064390</td>\n",
       "      <td>1.100098</td>\n",
       "      <td>-15.600098</td>\n",
       "      <td>1.050049</td>\n",
       "      <td>52.165</td>\n",
       "      <td>NaN</td>\n",
       "      <td>NaN</td>\n",
       "      <td>NaN</td>\n",
       "    </tr>\n",
       "    <tr>\n",
       "      <th>1381</th>\n",
       "      <td>2022-07-27</td>\n",
       "      <td>2419.949951</td>\n",
       "      <td>2427.000000</td>\n",
       "      <td>2402.000000</td>\n",
       "      <td>2419.199951</td>\n",
       "      <td>2419.199951</td>\n",
       "      <td>3994321</td>\n",
       "      <td>2420.366618</td>\n",
       "      <td>2450.100000</td>\n",
       "      <td>2446.072238</td>\n",
       "      <td>...</td>\n",
       "      <td>2439.746555</td>\n",
       "      <td>2445.956936</td>\n",
       "      <td>2476.137652</td>\n",
       "      <td>-2.300049</td>\n",
       "      <td>-83.800049</td>\n",
       "      <td>41.649902</td>\n",
       "      <td>39.943</td>\n",
       "      <td>NaN</td>\n",
       "      <td>NaN</td>\n",
       "      <td>NaN</td>\n",
       "    </tr>\n",
       "    <tr>\n",
       "      <th>1382</th>\n",
       "      <td>2022-07-28</td>\n",
       "      <td>2436.000000</td>\n",
       "      <td>2467.949951</td>\n",
       "      <td>2421.000000</td>\n",
       "      <td>2457.100098</td>\n",
       "      <td>2457.100098</td>\n",
       "      <td>5766936</td>\n",
       "      <td>2432.600016</td>\n",
       "      <td>2444.260010</td>\n",
       "      <td>2452.216688</td>\n",
       "      <td>...</td>\n",
       "      <td>2443.217264</td>\n",
       "      <td>2447.349831</td>\n",
       "      <td>2474.909423</td>\n",
       "      <td>37.900146</td>\n",
       "      <td>-29.199951</td>\n",
       "      <td>59.950195</td>\n",
       "      <td>57.669</td>\n",
       "      <td>NaN</td>\n",
       "      <td>NaN</td>\n",
       "      <td>NaN</td>\n",
       "    </tr>\n",
       "    <tr>\n",
       "      <th>1383</th>\n",
       "      <td>2022-07-29</td>\n",
       "      <td>2474.699951</td>\n",
       "      <td>2517.100098</td>\n",
       "      <td>2464.000000</td>\n",
       "      <td>2509.449951</td>\n",
       "      <td>2509.449951</td>\n",
       "      <td>6982808</td>\n",
       "      <td>2461.916667</td>\n",
       "      <td>2445.529980</td>\n",
       "      <td>2461.905572</td>\n",
       "      <td>...</td>\n",
       "      <td>2456.463801</td>\n",
       "      <td>2455.112346</td>\n",
       "      <td>2477.137844</td>\n",
       "      <td>52.349854</td>\n",
       "      <td>6.349854</td>\n",
       "      <td>107.649902</td>\n",
       "      <td>69.828</td>\n",
       "      <td>NaN</td>\n",
       "      <td>NaN</td>\n",
       "      <td>NaN</td>\n",
       "    </tr>\n",
       "  </tbody>\n",
       "</table>\n",
       "<p>5 rows × 24 columns</p>\n",
       "</div>"
      ],
      "text/plain": [
       "            Date         Open         High          Low        Close  \\\n",
       "1379  2022-07-25  2467.449951  2467.449951  2403.000000  2420.399902   \n",
       "1380  2022-07-26  2421.100098  2443.899902  2411.350098  2421.500000   \n",
       "1381  2022-07-27  2419.949951  2427.000000  2402.000000  2419.199951   \n",
       "1382  2022-07-28  2436.000000  2467.949951  2421.000000  2457.100098   \n",
       "1383  2022-07-29  2474.699951  2517.100098  2464.000000  2509.449951   \n",
       "\n",
       "        Adj Close    Volume         SMA3         SMA5         SMA9  ...  \\\n",
       "1379  2420.399902  10665470  2469.933350  2469.980029  2438.738905  ...   \n",
       "1380  2421.500000   5216466  2448.333333  2466.860010  2443.622233  ...   \n",
       "1381  2419.199951   3994321  2420.366618  2450.100000  2446.072238  ...   \n",
       "1382  2457.100098   5766936  2432.600016  2444.260010  2452.216688  ...   \n",
       "1383  2509.449951   6982808  2461.916667  2445.529980  2461.905572  ...   \n",
       "\n",
       "             EMA9        EMA15        EMA30    1d_diff    5d_diff    10d_diff  \\\n",
       "1379  2450.729008  2453.819271  2484.103313 -82.700195  -1.850098   -3.500000   \n",
       "1380  2444.883206  2449.779362  2480.064390   1.100098 -15.600098    1.050049   \n",
       "1381  2439.746555  2445.956936  2476.137652  -2.300049 -83.800049   41.649902   \n",
       "1382  2443.217264  2447.349831  2474.909423  37.900146 -29.199951   59.950195   \n",
       "1383  2456.463801  2455.112346  2477.137844  52.349854   6.349854  107.649902   \n",
       "\n",
       "      Volume_100k  title_senti_comp  news_senti_comp  avg_senti_comp  \n",
       "1379      106.655               NaN              NaN             NaN  \n",
       "1380       52.165               NaN              NaN             NaN  \n",
       "1381       39.943               NaN              NaN             NaN  \n",
       "1382       57.669               NaN              NaN             NaN  \n",
       "1383       69.828               NaN              NaN             NaN  \n",
       "\n",
       "[5 rows x 24 columns]"
      ]
     },
     "execution_count": 8,
     "metadata": {},
     "output_type": "execute_result"
    }
   ],
   "source": [
    "df_combined.tail()"
   ]
  },
  {
   "cell_type": "code",
   "execution_count": 13,
   "id": "6e2ee955",
   "metadata": {},
   "outputs": [
    {
     "data": {
      "text/html": [
       "<div>\n",
       "<style scoped>\n",
       "    .dataframe tbody tr th:only-of-type {\n",
       "        vertical-align: middle;\n",
       "    }\n",
       "\n",
       "    .dataframe tbody tr th {\n",
       "        vertical-align: top;\n",
       "    }\n",
       "\n",
       "    .dataframe thead th {\n",
       "        text-align: right;\n",
       "    }\n",
       "</style>\n",
       "<table border=\"1\" class=\"dataframe\">\n",
       "  <thead>\n",
       "    <tr style=\"text-align: right;\">\n",
       "      <th></th>\n",
       "      <th>Date</th>\n",
       "      <th>Close</th>\n",
       "      <th>1d_diff</th>\n",
       "    </tr>\n",
       "  </thead>\n",
       "  <tbody>\n",
       "    <tr>\n",
       "      <th>0</th>\n",
       "      <td>2016-12-27</td>\n",
       "      <td>527.351257</td>\n",
       "      <td>8.325287</td>\n",
       "    </tr>\n",
       "    <tr>\n",
       "      <th>1</th>\n",
       "      <td>2016-12-28</td>\n",
       "      <td>519.921692</td>\n",
       "      <td>-7.239319</td>\n",
       "    </tr>\n",
       "    <tr>\n",
       "      <th>2</th>\n",
       "      <td>2016-12-29</td>\n",
       "      <td>527.722717</td>\n",
       "      <td>7.601318</td>\n",
       "    </tr>\n",
       "    <tr>\n",
       "      <th>3</th>\n",
       "      <td>2016-12-30</td>\n",
       "      <td>536.118164</td>\n",
       "      <td>8.180420</td>\n",
       "    </tr>\n",
       "    <tr>\n",
       "      <th>4</th>\n",
       "      <td>2017-01-02</td>\n",
       "      <td>537.455444</td>\n",
       "      <td>1.303101</td>\n",
       "    </tr>\n",
       "  </tbody>\n",
       "</table>\n",
       "</div>"
      ],
      "text/plain": [
       "         Date       Close   1d_diff\n",
       "0  2016-12-27  527.351257  8.325287\n",
       "1  2016-12-28  519.921692 -7.239319\n",
       "2  2016-12-29  527.722717  7.601318\n",
       "3  2016-12-30  536.118164  8.180420\n",
       "4  2017-01-02  537.455444  1.303101"
      ]
     },
     "execution_count": 13,
     "metadata": {},
     "output_type": "execute_result"
    }
   ],
   "source": [
    "df_combined[['Date','Close','1d_diff']].head()"
   ]
  },
  {
   "cell_type": "code",
   "execution_count": 9,
   "id": "ef21f731",
   "metadata": {},
   "outputs": [
    {
     "data": {
      "text/plain": [
       "Date                  0\n",
       "Open                  0\n",
       "High                  0\n",
       "Low                   0\n",
       "Close                 0\n",
       "Adj Close             0\n",
       "Volume                0\n",
       "SMA3                  0\n",
       "SMA5                  0\n",
       "SMA9                  0\n",
       "SMA15                 0\n",
       "SMA30                 0\n",
       "EMA3                  0\n",
       "EMA5                  0\n",
       "EMA9                  0\n",
       "EMA15                 0\n",
       "EMA30                 0\n",
       "1d_diff               0\n",
       "5d_diff               0\n",
       "10d_diff              0\n",
       "Volume_100k           0\n",
       "title_senti_comp    845\n",
       "news_senti_comp     845\n",
       "avg_senti_comp      845\n",
       "dtype: int64"
      ]
     },
     "execution_count": 9,
     "metadata": {},
     "output_type": "execute_result"
    }
   ],
   "source": [
    "df_combined.isna().sum()"
   ]
  },
  {
   "cell_type": "code",
   "execution_count": 10,
   "id": "d3ca68ef",
   "metadata": {},
   "outputs": [],
   "source": [
    "df_combined.fillna(0.0,inplace=True)"
   ]
  },
  {
   "cell_type": "code",
   "execution_count": null,
   "id": "e0a6fac1",
   "metadata": {},
   "outputs": [],
   "source": [
    "## model creation"
   ]
  },
  {
   "cell_type": "markdown",
   "id": "6077b66f",
   "metadata": {},
   "source": [
    "## 1d prediction"
   ]
  },
  {
   "cell_type": "code",
   "execution_count": 14,
   "id": "d1f8eac2",
   "metadata": {},
   "outputs": [],
   "source": [
    "x_features_1d = ['Volume_100k','EMA3','EMA5','avg_senti_comp']"
   ]
  },
  {
   "cell_type": "code",
   "execution_count": 15,
   "id": "43ad7562",
   "metadata": {},
   "outputs": [
    {
     "name": "stdout",
     "output_type": "stream",
     "text": [
      "<class 'pandas.core.frame.DataFrame'>\n",
      "Int64Index: 1384 entries, 0 to 1383\n",
      "Data columns (total 4 columns):\n",
      " #   Column          Non-Null Count  Dtype  \n",
      "---  ------          --------------  -----  \n",
      " 0   Volume_100k     1384 non-null   float64\n",
      " 1   EMA3            1384 non-null   float64\n",
      " 2   EMA5            1384 non-null   float64\n",
      " 3   avg_senti_comp  1384 non-null   float64\n",
      "dtypes: float64(4)\n",
      "memory usage: 54.1 KB\n"
     ]
    }
   ],
   "source": [
    "df_combined[x_features_1d].info()"
   ]
  },
  {
   "cell_type": "code",
   "execution_count": 16,
   "id": "e657b439",
   "metadata": {},
   "outputs": [],
   "source": [
    "X1d = df_combined[x_features_1d]\n",
    "y1d= df_combined['1d_diff']"
   ]
  },
  {
   "cell_type": "code",
   "execution_count": 17,
   "id": "7fa6480e",
   "metadata": {},
   "outputs": [],
   "source": [
    "## train test split\n",
    "X_train, X_test, y_train, y_test = train_test_split(X1d,\n",
    "                                                    y1d,\n",
    "                                                    train_size = 0.7,\n",
    "                                                    random_state = 80)"
   ]
  },
  {
   "cell_type": "code",
   "execution_count": 18,
   "id": "2b707ef6",
   "metadata": {},
   "outputs": [
    {
     "data": {
      "text/plain": [
       "((968, 4), (416, 4), (968,), (416,))"
      ]
     },
     "execution_count": 18,
     "metadata": {},
     "output_type": "execute_result"
    }
   ],
   "source": [
    "X_train.shape,X_test.shape,y_train.shape,y_test.shape"
   ]
  },
  {
   "cell_type": "code",
   "execution_count": null,
   "id": "27ce13ac",
   "metadata": {},
   "outputs": [],
   "source": []
  },
  {
   "cell_type": "markdown",
   "id": "40ba245a",
   "metadata": {},
   "source": [
    "## defining transformations"
   ]
  },
  {
   "cell_type": "code",
   "execution_count": 19,
   "id": "6af20482",
   "metadata": {},
   "outputs": [],
   "source": [
    "scaler = StandardScaler()"
   ]
  },
  {
   "cell_type": "code",
   "execution_count": 20,
   "id": "8d92c7b4",
   "metadata": {},
   "outputs": [],
   "source": [
    "lreg_v1 = Pipeline(steps=[('scaler', scaler),\n",
    "                          ('regressor', SGDRegressor(max_iter=100, eta0=0.01))])"
   ]
  },
  {
   "cell_type": "code",
   "execution_count": 21,
   "id": "9465dd84",
   "metadata": {},
   "outputs": [
    {
     "data": {
      "text/plain": [
       "Pipeline(steps=[('scaler', StandardScaler()),\n",
       "                ('regressor', SGDRegressor(max_iter=100))])"
      ]
     },
     "execution_count": 21,
     "metadata": {},
     "output_type": "execute_result"
    }
   ],
   "source": [
    "lreg_v1.fit(X_train, y_train)"
   ]
  },
  {
   "cell_type": "code",
   "execution_count": 22,
   "id": "7c92309f",
   "metadata": {},
   "outputs": [
    {
     "data": {
      "text/plain": [
       "array([1.10603013])"
      ]
     },
     "execution_count": 22,
     "metadata": {},
     "output_type": "execute_result"
    }
   ],
   "source": [
    "lreg_v1['regressor'].intercept_"
   ]
  },
  {
   "cell_type": "code",
   "execution_count": 23,
   "id": "58b33fed",
   "metadata": {},
   "outputs": [
    {
     "data": {
      "text/plain": [
       "array([ 3.29206105,  2.52111844, -1.92397264,  0.93147149])"
      ]
     },
     "execution_count": 23,
     "metadata": {},
     "output_type": "execute_result"
    }
   ],
   "source": [
    "lreg_v1['regressor'].coef_"
   ]
  },
  {
   "cell_type": "code",
   "execution_count": 24,
   "id": "9539a902",
   "metadata": {},
   "outputs": [
    {
     "data": {
      "text/plain": [
       "{'Volume_100k': 3.29, 'EMA3': 2.52, 'EMA5': -1.92, 'avg_senti_comp': 0.93}"
      ]
     },
     "execution_count": 24,
     "metadata": {},
     "output_type": "execute_result"
    }
   ],
   "source": [
    "dict(zip(x_features_1d, np.round(lreg_v1['regressor'].coef_, 2)))"
   ]
  },
  {
   "cell_type": "code",
   "execution_count": 25,
   "id": "54b83594",
   "metadata": {},
   "outputs": [],
   "source": [
    "y_pred = lreg_v1.predict(X_test)"
   ]
  },
  {
   "cell_type": "code",
   "execution_count": 26,
   "id": "325ecdbb",
   "metadata": {},
   "outputs": [],
   "source": [
    "y_df = pd.DataFrame({\"actual\": y_test,\n",
    "                     \"predicted\": y_pred,\n",
    "                     \"residual\": y_pred - y_test})"
   ]
  },
  {
   "cell_type": "code",
   "execution_count": 27,
   "id": "7d357911",
   "metadata": {},
   "outputs": [
    {
     "data": {
      "text/html": [
       "<div>\n",
       "<style scoped>\n",
       "    .dataframe tbody tr th:only-of-type {\n",
       "        vertical-align: middle;\n",
       "    }\n",
       "\n",
       "    .dataframe tbody tr th {\n",
       "        vertical-align: top;\n",
       "    }\n",
       "\n",
       "    .dataframe thead th {\n",
       "        text-align: right;\n",
       "    }\n",
       "</style>\n",
       "<table border=\"1\" class=\"dataframe\">\n",
       "  <thead>\n",
       "    <tr style=\"text-align: right;\">\n",
       "      <th></th>\n",
       "      <th>actual</th>\n",
       "      <th>predicted</th>\n",
       "      <th>residual</th>\n",
       "    </tr>\n",
       "  </thead>\n",
       "  <tbody>\n",
       "    <tr>\n",
       "      <th>1118</th>\n",
       "      <td>-14.750000</td>\n",
       "      <td>-1.240395</td>\n",
       "      <td>13.509605</td>\n",
       "    </tr>\n",
       "    <tr>\n",
       "      <th>345</th>\n",
       "      <td>-11.181702</td>\n",
       "      <td>0.021602</td>\n",
       "      <td>11.203304</td>\n",
       "    </tr>\n",
       "    <tr>\n",
       "      <th>1120</th>\n",
       "      <td>-21.400146</td>\n",
       "      <td>-1.572719</td>\n",
       "      <td>19.827427</td>\n",
       "    </tr>\n",
       "    <tr>\n",
       "      <th>1011</th>\n",
       "      <td>-34.489136</td>\n",
       "      <td>6.883316</td>\n",
       "      <td>41.372451</td>\n",
       "    </tr>\n",
       "    <tr>\n",
       "      <th>789</th>\n",
       "      <td>38.759277</td>\n",
       "      <td>7.456286</td>\n",
       "      <td>-31.302991</td>\n",
       "    </tr>\n",
       "    <tr>\n",
       "      <th>148</th>\n",
       "      <td>-5.639465</td>\n",
       "      <td>-2.113893</td>\n",
       "      <td>3.525573</td>\n",
       "    </tr>\n",
       "    <tr>\n",
       "      <th>80</th>\n",
       "      <td>7.432434</td>\n",
       "      <td>4.729925</td>\n",
       "      <td>-2.702510</td>\n",
       "    </tr>\n",
       "    <tr>\n",
       "      <th>632</th>\n",
       "      <td>-12.571289</td>\n",
       "      <td>0.306736</td>\n",
       "      <td>12.878025</td>\n",
       "    </tr>\n",
       "    <tr>\n",
       "      <th>520</th>\n",
       "      <td>30.768188</td>\n",
       "      <td>0.238550</td>\n",
       "      <td>-30.529638</td>\n",
       "    </tr>\n",
       "    <tr>\n",
       "      <th>1350</th>\n",
       "      <td>-34.799805</td>\n",
       "      <td>0.058606</td>\n",
       "      <td>34.858410</td>\n",
       "    </tr>\n",
       "  </tbody>\n",
       "</table>\n",
       "</div>"
      ],
      "text/plain": [
       "         actual  predicted   residual\n",
       "1118 -14.750000  -1.240395  13.509605\n",
       "345  -11.181702   0.021602  11.203304\n",
       "1120 -21.400146  -1.572719  19.827427\n",
       "1011 -34.489136   6.883316  41.372451\n",
       "789   38.759277   7.456286 -31.302991\n",
       "148   -5.639465  -2.113893   3.525573\n",
       "80     7.432434   4.729925  -2.702510\n",
       "632  -12.571289   0.306736  12.878025\n",
       "520   30.768188   0.238550 -30.529638\n",
       "1350 -34.799805   0.058606  34.858410"
      ]
     },
     "execution_count": 27,
     "metadata": {},
     "output_type": "execute_result"
    }
   ],
   "source": [
    "y_df.sample(10, random_state = 100)"
   ]
  },
  {
   "cell_type": "code",
   "execution_count": 28,
   "id": "0e4afb1a",
   "metadata": {},
   "outputs": [],
   "source": [
    "mse_v1 = mean_squared_error(y_test, y_pred)"
   ]
  },
  {
   "cell_type": "code",
   "execution_count": 29,
   "id": "a2052873",
   "metadata": {},
   "outputs": [
    {
     "data": {
      "text/plain": [
       "783.4970041375224"
      ]
     },
     "execution_count": 29,
     "metadata": {},
     "output_type": "execute_result"
    }
   ],
   "source": [
    "mse_v1"
   ]
  },
  {
   "cell_type": "code",
   "execution_count": 30,
   "id": "077b366d",
   "metadata": {},
   "outputs": [],
   "source": [
    "rmse_v1 = np.sqrt(mse_v1)"
   ]
  },
  {
   "cell_type": "code",
   "execution_count": 31,
   "id": "4ca2615c",
   "metadata": {},
   "outputs": [
    {
     "data": {
      "text/plain": [
       "27.991016489894083"
      ]
     },
     "execution_count": 31,
     "metadata": {},
     "output_type": "execute_result"
    }
   ],
   "source": [
    "rmse_v1"
   ]
  },
  {
   "cell_type": "code",
   "execution_count": 32,
   "id": "fdc0925b",
   "metadata": {},
   "outputs": [
    {
     "data": {
      "text/plain": [
       "0.011161629818256857"
      ]
     },
     "execution_count": 32,
     "metadata": {},
     "output_type": "execute_result"
    }
   ],
   "source": [
    "r2_score(y_test, y_pred)"
   ]
  },
  {
   "cell_type": "code",
   "execution_count": null,
   "id": "e8b68838",
   "metadata": {},
   "outputs": [],
   "source": []
  }
 ],
 "metadata": {
  "kernelspec": {
   "display_name": "Python 3 (ipykernel)",
   "language": "python",
   "name": "python3"
  },
  "language_info": {
   "codemirror_mode": {
    "name": "ipython",
    "version": 3
   },
   "file_extension": ".py",
   "mimetype": "text/x-python",
   "name": "python",
   "nbconvert_exporter": "python",
   "pygments_lexer": "ipython3",
   "version": "3.9.7"
  }
 },
 "nbformat": 4,
 "nbformat_minor": 5
}
