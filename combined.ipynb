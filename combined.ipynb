{
 "cells": [
  {
   "cell_type": "code",
   "execution_count": 101,
   "id": "bb5148ad",
   "metadata": {},
   "outputs": [],
   "source": [
    "import pandas as pd\n",
    "import numpy as np\n",
    "from sklearn.model_selection import train_test_split\n",
    "from sklearn.preprocessing import StandardScaler\n",
    "from sklearn.compose import ColumnTransformer\n",
    "from sklearn.pipeline import Pipeline\n",
    "from sklearn.linear_model import SGDRegressor,LogisticRegression\n",
    "from sklearn.metrics import mean_squared_error, r2_score,accuracy_score, recall_score, precision_score, classification_report\n",
    "from sklearn.metrics import confusion_matrix, ConfusionMatrixDisplay"
   ]
  },
  {
   "cell_type": "code",
   "execution_count": 2,
   "id": "da1df28a",
   "metadata": {},
   "outputs": [],
   "source": [
    "df_news = pd.read_csv(\"Reliance_sentiment.csv\")"
   ]
  },
  {
   "cell_type": "code",
   "execution_count": 3,
   "id": "9825de95",
   "metadata": {},
   "outputs": [],
   "source": [
    "df_price = pd.read_csv(\"reliance_prices.csv\")"
   ]
  },
  {
   "cell_type": "code",
   "execution_count": 4,
   "id": "d0b067da",
   "metadata": {},
   "outputs": [
    {
     "name": "stdout",
     "output_type": "stream",
     "text": [
      "<class 'pandas.core.frame.DataFrame'>\n",
      "RangeIndex: 1384 entries, 0 to 1383\n",
      "Data columns (total 21 columns):\n",
      " #   Column       Non-Null Count  Dtype  \n",
      "---  ------       --------------  -----  \n",
      " 0   Date         1384 non-null   object \n",
      " 1   Open         1384 non-null   float64\n",
      " 2   High         1384 non-null   float64\n",
      " 3   Low          1384 non-null   float64\n",
      " 4   Close        1384 non-null   float64\n",
      " 5   Adj Close    1384 non-null   float64\n",
      " 6   Volume       1384 non-null   int64  \n",
      " 7   1d_diff      1384 non-null   float64\n",
      " 8   5d_diff      1384 non-null   float64\n",
      " 9   10d_diff     1384 non-null   float64\n",
      " 10  SMA3         1384 non-null   float64\n",
      " 11  SMA5         1384 non-null   float64\n",
      " 12  SMA9         1384 non-null   float64\n",
      " 13  SMA15        1384 non-null   float64\n",
      " 14  SMA30        1384 non-null   float64\n",
      " 15  EMA3         1384 non-null   float64\n",
      " 16  EMA5         1384 non-null   float64\n",
      " 17  EMA9         1384 non-null   float64\n",
      " 18  EMA15        1384 non-null   float64\n",
      " 19  EMA30        1384 non-null   float64\n",
      " 20  Volume_100k  1384 non-null   float64\n",
      "dtypes: float64(19), int64(1), object(1)\n",
      "memory usage: 227.2+ KB\n"
     ]
    }
   ],
   "source": [
    "df_price.info()"
   ]
  },
  {
   "cell_type": "code",
   "execution_count": 5,
   "id": "e322d90d",
   "metadata": {},
   "outputs": [
    {
     "name": "stdout",
     "output_type": "stream",
     "text": [
      "<class 'pandas.core.frame.DataFrame'>\n",
      "RangeIndex: 654 entries, 0 to 653\n",
      "Data columns (total 4 columns):\n",
      " #   Column            Non-Null Count  Dtype  \n",
      "---  ------            --------------  -----  \n",
      " 0   date              654 non-null    object \n",
      " 1   title_senti_comp  654 non-null    float64\n",
      " 2   news_senti_comp   654 non-null    float64\n",
      " 3   avg_senti_comp    654 non-null    float64\n",
      "dtypes: float64(3), object(1)\n",
      "memory usage: 20.6+ KB\n"
     ]
    }
   ],
   "source": [
    "df_news.info()"
   ]
  },
  {
   "cell_type": "code",
   "execution_count": 6,
   "id": "4f0ef6bf",
   "metadata": {},
   "outputs": [],
   "source": [
    "df_news['date'] = pd.to_datetime(df_news.date)\n",
    "df_price['Date'] = pd.to_datetime(df_price.Date)"
   ]
  },
  {
   "cell_type": "code",
   "execution_count": 7,
   "id": "c1e1a368",
   "metadata": {},
   "outputs": [],
   "source": [
    "df_combined = pd.merge(left=df_price,right=df_news,how=\"left\",left_on = 'Date',right_on='date')"
   ]
  },
  {
   "cell_type": "code",
   "execution_count": 8,
   "id": "83efb238",
   "metadata": {},
   "outputs": [],
   "source": [
    "df_combined.drop(['date'],axis=1,inplace=True)"
   ]
  },
  {
   "cell_type": "code",
   "execution_count": 9,
   "id": "b238c929",
   "metadata": {},
   "outputs": [
    {
     "data": {
      "text/html": [
       "<div>\n",
       "<style scoped>\n",
       "    .dataframe tbody tr th:only-of-type {\n",
       "        vertical-align: middle;\n",
       "    }\n",
       "\n",
       "    .dataframe tbody tr th {\n",
       "        vertical-align: top;\n",
       "    }\n",
       "\n",
       "    .dataframe thead th {\n",
       "        text-align: right;\n",
       "    }\n",
       "</style>\n",
       "<table border=\"1\" class=\"dataframe\">\n",
       "  <thead>\n",
       "    <tr style=\"text-align: right;\">\n",
       "      <th></th>\n",
       "      <th>Date</th>\n",
       "      <th>Open</th>\n",
       "      <th>High</th>\n",
       "      <th>Low</th>\n",
       "      <th>Close</th>\n",
       "      <th>Adj Close</th>\n",
       "      <th>Volume</th>\n",
       "      <th>1d_diff</th>\n",
       "      <th>5d_diff</th>\n",
       "      <th>10d_diff</th>\n",
       "      <th>...</th>\n",
       "      <th>SMA30</th>\n",
       "      <th>EMA3</th>\n",
       "      <th>EMA5</th>\n",
       "      <th>EMA9</th>\n",
       "      <th>EMA15</th>\n",
       "      <th>EMA30</th>\n",
       "      <th>Volume_100k</th>\n",
       "      <th>title_senti_comp</th>\n",
       "      <th>news_senti_comp</th>\n",
       "      <th>avg_senti_comp</th>\n",
       "    </tr>\n",
       "  </thead>\n",
       "  <tbody>\n",
       "    <tr>\n",
       "      <th>1379</th>\n",
       "      <td>2022-07-11</td>\n",
       "      <td>2376.500000</td>\n",
       "      <td>2428.800049</td>\n",
       "      <td>2370.000000</td>\n",
       "      <td>2423.899902</td>\n",
       "      <td>2423.899902</td>\n",
       "      <td>6390604</td>\n",
       "      <td>3.449951</td>\n",
       "      <td>1.649902</td>\n",
       "      <td>3.500000</td>\n",
       "      <td>...</td>\n",
       "      <td>2574.979997</td>\n",
       "      <td>2411.709763</td>\n",
       "      <td>2417.687410</td>\n",
       "      <td>2439.967735</td>\n",
       "      <td>2472.975022</td>\n",
       "      <td>2523.815943</td>\n",
       "      <td>63.906</td>\n",
       "      <td>NaN</td>\n",
       "      <td>NaN</td>\n",
       "      <td>NaN</td>\n",
       "    </tr>\n",
       "    <tr>\n",
       "      <th>1380</th>\n",
       "      <td>2022-07-12</td>\n",
       "      <td>2404.000000</td>\n",
       "      <td>2439.699951</td>\n",
       "      <td>2404.000000</td>\n",
       "      <td>2420.449951</td>\n",
       "      <td>2420.449951</td>\n",
       "      <td>4974502</td>\n",
       "      <td>42.899902</td>\n",
       "      <td>-16.650146</td>\n",
       "      <td>-1.050049</td>\n",
       "      <td>...</td>\n",
       "      <td>2567.906665</td>\n",
       "      <td>2416.079857</td>\n",
       "      <td>2418.608257</td>\n",
       "      <td>2436.064178</td>\n",
       "      <td>2466.409388</td>\n",
       "      <td>2517.147169</td>\n",
       "      <td>49.745</td>\n",
       "      <td>NaN</td>\n",
       "      <td>NaN</td>\n",
       "      <td>NaN</td>\n",
       "    </tr>\n",
       "    <tr>\n",
       "      <th>1381</th>\n",
       "      <td>2022-07-13</td>\n",
       "      <td>2427.300049</td>\n",
       "      <td>2434.000000</td>\n",
       "      <td>2373.000000</td>\n",
       "      <td>2377.550049</td>\n",
       "      <td>2377.550049</td>\n",
       "      <td>6564435</td>\n",
       "      <td>-19.599854</td>\n",
       "      <td>-125.449951</td>\n",
       "      <td>-41.649902</td>\n",
       "      <td>...</td>\n",
       "      <td>2559.375000</td>\n",
       "      <td>2396.814953</td>\n",
       "      <td>2404.922187</td>\n",
       "      <td>2424.361352</td>\n",
       "      <td>2455.301971</td>\n",
       "      <td>2508.140903</td>\n",
       "      <td>65.644</td>\n",
       "      <td>0.0</td>\n",
       "      <td>-0.0772</td>\n",
       "      <td>-0.04</td>\n",
       "    </tr>\n",
       "    <tr>\n",
       "      <th>1382</th>\n",
       "      <td>2022-07-14</td>\n",
       "      <td>2388.000000</td>\n",
       "      <td>2433.949951</td>\n",
       "      <td>2376.949951</td>\n",
       "      <td>2397.149902</td>\n",
       "      <td>2397.149902</td>\n",
       "      <td>7831798</td>\n",
       "      <td>-4.650146</td>\n",
       "      <td>-89.150146</td>\n",
       "      <td>-59.950195</td>\n",
       "      <td>...</td>\n",
       "      <td>2548.469995</td>\n",
       "      <td>2396.982428</td>\n",
       "      <td>2402.331426</td>\n",
       "      <td>2418.919062</td>\n",
       "      <td>2448.032962</td>\n",
       "      <td>2500.980193</td>\n",
       "      <td>78.318</td>\n",
       "      <td>0.0</td>\n",
       "      <td>0.4703</td>\n",
       "      <td>0.24</td>\n",
       "    </tr>\n",
       "    <tr>\n",
       "      <th>1383</th>\n",
       "      <td>2022-07-15</td>\n",
       "      <td>2415.000000</td>\n",
       "      <td>2415.000000</td>\n",
       "      <td>2383.100098</td>\n",
       "      <td>2401.800049</td>\n",
       "      <td>2401.800049</td>\n",
       "      <td>4431880</td>\n",
       "      <td>-20.449951</td>\n",
       "      <td>-101.300049</td>\n",
       "      <td>-107.649902</td>\n",
       "      <td>...</td>\n",
       "      <td>2535.879997</td>\n",
       "      <td>2399.391238</td>\n",
       "      <td>2402.154300</td>\n",
       "      <td>2415.495260</td>\n",
       "      <td>2442.253848</td>\n",
       "      <td>2494.581474</td>\n",
       "      <td>44.319</td>\n",
       "      <td>NaN</td>\n",
       "      <td>NaN</td>\n",
       "      <td>NaN</td>\n",
       "    </tr>\n",
       "  </tbody>\n",
       "</table>\n",
       "<p>5 rows × 24 columns</p>\n",
       "</div>"
      ],
      "text/plain": [
       "           Date         Open         High          Low        Close  \\\n",
       "1379 2022-07-11  2376.500000  2428.800049  2370.000000  2423.899902   \n",
       "1380 2022-07-12  2404.000000  2439.699951  2404.000000  2420.449951   \n",
       "1381 2022-07-13  2427.300049  2434.000000  2373.000000  2377.550049   \n",
       "1382 2022-07-14  2388.000000  2433.949951  2376.949951  2397.149902   \n",
       "1383 2022-07-15  2415.000000  2415.000000  2383.100098  2401.800049   \n",
       "\n",
       "        Adj Close   Volume    1d_diff     5d_diff    10d_diff  ...  \\\n",
       "1379  2423.899902  6390604   3.449951    1.649902    3.500000  ...   \n",
       "1380  2420.449951  4974502  42.899902  -16.650146   -1.050049  ...   \n",
       "1381  2377.550049  6564435 -19.599854 -125.449951  -41.649902  ...   \n",
       "1382  2397.149902  7831798  -4.650146  -89.150146  -59.950195  ...   \n",
       "1383  2401.800049  4431880 -20.449951 -101.300049 -107.649902  ...   \n",
       "\n",
       "            SMA30         EMA3         EMA5         EMA9        EMA15  \\\n",
       "1379  2574.979997  2411.709763  2417.687410  2439.967735  2472.975022   \n",
       "1380  2567.906665  2416.079857  2418.608257  2436.064178  2466.409388   \n",
       "1381  2559.375000  2396.814953  2404.922187  2424.361352  2455.301971   \n",
       "1382  2548.469995  2396.982428  2402.331426  2418.919062  2448.032962   \n",
       "1383  2535.879997  2399.391238  2402.154300  2415.495260  2442.253848   \n",
       "\n",
       "            EMA30  Volume_100k  title_senti_comp  news_senti_comp  \\\n",
       "1379  2523.815943       63.906               NaN              NaN   \n",
       "1380  2517.147169       49.745               NaN              NaN   \n",
       "1381  2508.140903       65.644               0.0          -0.0772   \n",
       "1382  2500.980193       78.318               0.0           0.4703   \n",
       "1383  2494.581474       44.319               NaN              NaN   \n",
       "\n",
       "      avg_senti_comp  \n",
       "1379             NaN  \n",
       "1380             NaN  \n",
       "1381           -0.04  \n",
       "1382            0.24  \n",
       "1383             NaN  \n",
       "\n",
       "[5 rows x 24 columns]"
      ]
     },
     "execution_count": 9,
     "metadata": {},
     "output_type": "execute_result"
    }
   ],
   "source": [
    "df_combined.tail()"
   ]
  },
  {
   "cell_type": "code",
   "execution_count": 10,
   "id": "3142781f",
   "metadata": {},
   "outputs": [
    {
     "data": {
      "text/html": [
       "<div>\n",
       "<style scoped>\n",
       "    .dataframe tbody tr th:only-of-type {\n",
       "        vertical-align: middle;\n",
       "    }\n",
       "\n",
       "    .dataframe tbody tr th {\n",
       "        vertical-align: top;\n",
       "    }\n",
       "\n",
       "    .dataframe thead th {\n",
       "        text-align: right;\n",
       "    }\n",
       "</style>\n",
       "<table border=\"1\" class=\"dataframe\">\n",
       "  <thead>\n",
       "    <tr style=\"text-align: right;\">\n",
       "      <th></th>\n",
       "      <th>Date</th>\n",
       "      <th>Close</th>\n",
       "      <th>1d_diff</th>\n",
       "    </tr>\n",
       "  </thead>\n",
       "  <tbody>\n",
       "    <tr>\n",
       "      <th>0</th>\n",
       "      <td>2016-12-13</td>\n",
       "      <td>515.018127</td>\n",
       "      <td>-9.757507</td>\n",
       "    </tr>\n",
       "    <tr>\n",
       "      <th>1</th>\n",
       "      <td>2016-12-14</td>\n",
       "      <td>524.775635</td>\n",
       "      <td>3.244202</td>\n",
       "    </tr>\n",
       "    <tr>\n",
       "      <th>2</th>\n",
       "      <td>2016-12-15</td>\n",
       "      <td>521.531433</td>\n",
       "      <td>-2.080261</td>\n",
       "    </tr>\n",
       "    <tr>\n",
       "      <th>3</th>\n",
       "      <td>2016-12-16</td>\n",
       "      <td>523.611694</td>\n",
       "      <td>-2.674622</td>\n",
       "    </tr>\n",
       "    <tr>\n",
       "      <th>4</th>\n",
       "      <td>2016-12-19</td>\n",
       "      <td>526.286316</td>\n",
       "      <td>2.303162</td>\n",
       "    </tr>\n",
       "  </tbody>\n",
       "</table>\n",
       "</div>"
      ],
      "text/plain": [
       "        Date       Close   1d_diff\n",
       "0 2016-12-13  515.018127 -9.757507\n",
       "1 2016-12-14  524.775635  3.244202\n",
       "2 2016-12-15  521.531433 -2.080261\n",
       "3 2016-12-16  523.611694 -2.674622\n",
       "4 2016-12-19  526.286316  2.303162"
      ]
     },
     "execution_count": 10,
     "metadata": {},
     "output_type": "execute_result"
    }
   ],
   "source": [
    "df_combined[['Date','Close','1d_diff']].head()"
   ]
  },
  {
   "cell_type": "code",
   "execution_count": 11,
   "id": "e1b8b488",
   "metadata": {},
   "outputs": [
    {
     "data": {
      "text/plain": [
       "Date                  0\n",
       "Open                  0\n",
       "High                  0\n",
       "Low                   0\n",
       "Close                 0\n",
       "Adj Close             0\n",
       "Volume                0\n",
       "1d_diff               0\n",
       "5d_diff               0\n",
       "10d_diff              0\n",
       "SMA3                  0\n",
       "SMA5                  0\n",
       "SMA9                  0\n",
       "SMA15                 0\n",
       "SMA30                 0\n",
       "EMA3                  0\n",
       "EMA5                  0\n",
       "EMA9                  0\n",
       "EMA15                 0\n",
       "EMA30                 0\n",
       "Volume_100k           0\n",
       "title_senti_comp    846\n",
       "news_senti_comp     846\n",
       "avg_senti_comp      846\n",
       "dtype: int64"
      ]
     },
     "execution_count": 11,
     "metadata": {},
     "output_type": "execute_result"
    }
   ],
   "source": [
    "df_combined.isna().sum()"
   ]
  },
  {
   "cell_type": "code",
   "execution_count": 12,
   "id": "aec0f6dd",
   "metadata": {},
   "outputs": [],
   "source": [
    "df_combined.fillna(0.0,inplace=True)"
   ]
  },
  {
   "cell_type": "code",
   "execution_count": 13,
   "id": "b119f99e",
   "metadata": {},
   "outputs": [],
   "source": [
    "df_combined['next_day_close'] = df_combined['Close'] - df_combined['1d_diff']"
   ]
  },
  {
   "cell_type": "code",
   "execution_count": 14,
   "id": "9543979e",
   "metadata": {},
   "outputs": [
    {
     "data": {
      "text/html": [
       "<div>\n",
       "<style scoped>\n",
       "    .dataframe tbody tr th:only-of-type {\n",
       "        vertical-align: middle;\n",
       "    }\n",
       "\n",
       "    .dataframe tbody tr th {\n",
       "        vertical-align: top;\n",
       "    }\n",
       "\n",
       "    .dataframe thead th {\n",
       "        text-align: right;\n",
       "    }\n",
       "</style>\n",
       "<table border=\"1\" class=\"dataframe\">\n",
       "  <thead>\n",
       "    <tr style=\"text-align: right;\">\n",
       "      <th></th>\n",
       "      <th>Date</th>\n",
       "      <th>Close</th>\n",
       "      <th>next_day_close</th>\n",
       "      <th>1d_diff</th>\n",
       "    </tr>\n",
       "  </thead>\n",
       "  <tbody>\n",
       "    <tr>\n",
       "      <th>1379</th>\n",
       "      <td>2022-07-11</td>\n",
       "      <td>2423.899902</td>\n",
       "      <td>2420.449951</td>\n",
       "      <td>3.449951</td>\n",
       "    </tr>\n",
       "    <tr>\n",
       "      <th>1380</th>\n",
       "      <td>2022-07-12</td>\n",
       "      <td>2420.449951</td>\n",
       "      <td>2377.550049</td>\n",
       "      <td>42.899902</td>\n",
       "    </tr>\n",
       "    <tr>\n",
       "      <th>1381</th>\n",
       "      <td>2022-07-13</td>\n",
       "      <td>2377.550049</td>\n",
       "      <td>2397.149902</td>\n",
       "      <td>-19.599854</td>\n",
       "    </tr>\n",
       "    <tr>\n",
       "      <th>1382</th>\n",
       "      <td>2022-07-14</td>\n",
       "      <td>2397.149902</td>\n",
       "      <td>2401.800049</td>\n",
       "      <td>-4.650146</td>\n",
       "    </tr>\n",
       "    <tr>\n",
       "      <th>1383</th>\n",
       "      <td>2022-07-15</td>\n",
       "      <td>2401.800049</td>\n",
       "      <td>2422.250000</td>\n",
       "      <td>-20.449951</td>\n",
       "    </tr>\n",
       "  </tbody>\n",
       "</table>\n",
       "</div>"
      ],
      "text/plain": [
       "           Date        Close  next_day_close    1d_diff\n",
       "1379 2022-07-11  2423.899902     2420.449951   3.449951\n",
       "1380 2022-07-12  2420.449951     2377.550049  42.899902\n",
       "1381 2022-07-13  2377.550049     2397.149902 -19.599854\n",
       "1382 2022-07-14  2397.149902     2401.800049  -4.650146\n",
       "1383 2022-07-15  2401.800049     2422.250000 -20.449951"
      ]
     },
     "execution_count": 14,
     "metadata": {},
     "output_type": "execute_result"
    }
   ],
   "source": [
    "df_combined[['Date','Close','next_day_close','1d_diff']].tail()"
   ]
  },
  {
   "cell_type": "markdown",
   "id": "9f2d57db",
   "metadata": {},
   "source": [
    "## model creation"
   ]
  },
  {
   "cell_type": "code",
   "execution_count": 72,
   "id": "daa40735",
   "metadata": {},
   "outputs": [],
   "source": [
    "def linear_model_build_eval(X,Y,regressor_obj,train_size=0.7):\n",
    "    \n",
    "    ## train test split\n",
    "    X_train, X_test, y_train, y_test = train_test_split(X,\n",
    "                                                    Y,\n",
    "                                                    shuffle=False,\n",
    "                                                    train_size = train_size,\n",
    "                                                    random_state = 80)\n",
    "    \n",
    "    print(f\"Train size : {X_train.shape}; Test Size : {X_test.shape}\")\n",
    "    \n",
    "    # transformations\n",
    "    scaler = StandardScaler()\n",
    "    \n",
    "    # pipeline\n",
    "    lreg = Pipeline(steps=[('scaler', scaler),\n",
    "                          ('regressor', regressor_obj )])\n",
    "    \n",
    "    #fit train set\n",
    "    lreg.fit(X_train,y_train)\n",
    "    \n",
    "    print(f\"Intercept : {lreg['regressor'].intercept_}\")\n",
    "    \n",
    "    print(f\"Coefficient : {dict(zip(X, np.round(lreg['regressor'].coef_, 2)))}\")\n",
    "    \n",
    "    y_pred = lreg.predict(X_test)\n",
    "    rmse = np.sqrt(mean_squared_error(y_test,y_pred))\n",
    "    r2 = r2_score(y_test,y_pred)\n",
    "    \n",
    "    return y_pred,y_test,X_test,rmse,r2"
   ]
  },
  {
   "cell_type": "markdown",
   "id": "91dde82d",
   "metadata": {},
   "source": [
    "## 1d prediction"
   ]
  },
  {
   "cell_type": "code",
   "execution_count": 15,
   "id": "c9b07517",
   "metadata": {},
   "outputs": [],
   "source": [
    "x_features_1d = ['Volume_100k','EMA3','EMA5','avg_senti_comp']"
   ]
  },
  {
   "cell_type": "code",
   "execution_count": 16,
   "id": "d5fda64b",
   "metadata": {},
   "outputs": [
    {
     "name": "stdout",
     "output_type": "stream",
     "text": [
      "<class 'pandas.core.frame.DataFrame'>\n",
      "Int64Index: 1384 entries, 0 to 1383\n",
      "Data columns (total 4 columns):\n",
      " #   Column          Non-Null Count  Dtype  \n",
      "---  ------          --------------  -----  \n",
      " 0   Volume_100k     1384 non-null   float64\n",
      " 1   EMA3            1384 non-null   float64\n",
      " 2   EMA5            1384 non-null   float64\n",
      " 3   avg_senti_comp  1384 non-null   float64\n",
      "dtypes: float64(4)\n",
      "memory usage: 54.1 KB\n"
     ]
    }
   ],
   "source": [
    "df_combined[x_features_1d].info()"
   ]
  },
  {
   "cell_type": "code",
   "execution_count": 17,
   "id": "4cb010d3",
   "metadata": {},
   "outputs": [],
   "source": [
    "X1d = df_combined[x_features_1d]\n",
    "y1d= df_combined['next_day_close']"
   ]
  },
  {
   "cell_type": "code",
   "execution_count": 64,
   "id": "230d0307",
   "metadata": {},
   "outputs": [],
   "source": [
    "sgdregressor = SGDRegressor(max_iter=100, eta0=0.01)"
   ]
  },
  {
   "cell_type": "code",
   "execution_count": 73,
   "id": "28602272",
   "metadata": {},
   "outputs": [
    {
     "name": "stdout",
     "output_type": "stream",
     "text": [
      "Train size : (968, 4); Test Size : (416, 4)\n",
      "Intercept : [1169.6232917]\n",
      "Coefficient : {'Volume_100k': 4.98, 'EMA3': 209.81, 'EMA5': 203.49, 'avg_senti_comp': 1.19}\n"
     ]
    }
   ],
   "source": [
    "y_pred1,y_test1,X_test1,rmse_1,r2_1 = linear_model_build_eval(X=X1d,Y=y1d,\n",
    "                                                     regressor_obj=sgdregressor,\n",
    "                                                     train_size=0.7)"
   ]
  },
  {
   "cell_type": "code",
   "execution_count": 74,
   "id": "25792d17",
   "metadata": {},
   "outputs": [
    {
     "data": {
      "text/plain": [
       "49.6933187968476"
      ]
     },
     "execution_count": 74,
     "metadata": {},
     "output_type": "execute_result"
    }
   ],
   "source": [
    "rmse_1"
   ]
  },
  {
   "cell_type": "code",
   "execution_count": 75,
   "id": "a6e22081",
   "metadata": {},
   "outputs": [
    {
     "data": {
      "text/plain": [
       "0.9622165561124777"
      ]
     },
     "execution_count": 75,
     "metadata": {},
     "output_type": "execute_result"
    }
   ],
   "source": [
    "r2_1"
   ]
  },
  {
   "cell_type": "code",
   "execution_count": 89,
   "id": "6a13c077",
   "metadata": {},
   "outputs": [
    {
     "data": {
      "text/html": [
       "<div>\n",
       "<style scoped>\n",
       "    .dataframe tbody tr th:only-of-type {\n",
       "        vertical-align: middle;\n",
       "    }\n",
       "\n",
       "    .dataframe tbody tr th {\n",
       "        vertical-align: top;\n",
       "    }\n",
       "\n",
       "    .dataframe thead th {\n",
       "        text-align: right;\n",
       "    }\n",
       "</style>\n",
       "<table border=\"1\" class=\"dataframe\">\n",
       "  <thead>\n",
       "    <tr style=\"text-align: right;\">\n",
       "      <th></th>\n",
       "      <th>y_actual</th>\n",
       "      <th>y_pred</th>\n",
       "      <th>residual</th>\n",
       "    </tr>\n",
       "  </thead>\n",
       "  <tbody>\n",
       "    <tr>\n",
       "      <th>968</th>\n",
       "      <td>1996.400024</td>\n",
       "      <td>2007.604894</td>\n",
       "      <td>-11.204869</td>\n",
       "    </tr>\n",
       "    <tr>\n",
       "      <th>969</th>\n",
       "      <td>2002.300049</td>\n",
       "      <td>2009.502815</td>\n",
       "      <td>-7.202766</td>\n",
       "    </tr>\n",
       "    <tr>\n",
       "      <th>970</th>\n",
       "      <td>1993.250000</td>\n",
       "      <td>1996.021635</td>\n",
       "      <td>-2.771635</td>\n",
       "    </tr>\n",
       "    <tr>\n",
       "      <th>971</th>\n",
       "      <td>1987.199951</td>\n",
       "      <td>2006.805646</td>\n",
       "      <td>-19.605695</td>\n",
       "    </tr>\n",
       "    <tr>\n",
       "      <th>972</th>\n",
       "      <td>1973.150024</td>\n",
       "      <td>1995.397279</td>\n",
       "      <td>-22.247255</td>\n",
       "    </tr>\n",
       "    <tr>\n",
       "      <th>...</th>\n",
       "      <td>...</td>\n",
       "      <td>...</td>\n",
       "      <td>...</td>\n",
       "    </tr>\n",
       "    <tr>\n",
       "      <th>1379</th>\n",
       "      <td>2420.449951</td>\n",
       "      <td>2410.112016</td>\n",
       "      <td>10.337936</td>\n",
       "    </tr>\n",
       "    <tr>\n",
       "      <th>1380</th>\n",
       "      <td>2377.550049</td>\n",
       "      <td>2411.907883</td>\n",
       "      <td>-34.357834</td>\n",
       "    </tr>\n",
       "    <tr>\n",
       "      <th>1381</th>\n",
       "      <td>2397.149902</td>\n",
       "      <td>2396.215104</td>\n",
       "      <td>0.934799</td>\n",
       "    </tr>\n",
       "    <tr>\n",
       "      <th>1382</th>\n",
       "      <td>2401.800049</td>\n",
       "      <td>2397.298699</td>\n",
       "      <td>4.501350</td>\n",
       "    </tr>\n",
       "    <tr>\n",
       "      <th>1383</th>\n",
       "      <td>2422.250000</td>\n",
       "      <td>2395.071545</td>\n",
       "      <td>27.178455</td>\n",
       "    </tr>\n",
       "  </tbody>\n",
       "</table>\n",
       "<p>416 rows × 3 columns</p>\n",
       "</div>"
      ],
      "text/plain": [
       "         y_actual       y_pred   residual\n",
       "968   1996.400024  2007.604894 -11.204869\n",
       "969   2002.300049  2009.502815  -7.202766\n",
       "970   1993.250000  1996.021635  -2.771635\n",
       "971   1987.199951  2006.805646 -19.605695\n",
       "972   1973.150024  1995.397279 -22.247255\n",
       "...           ...          ...        ...\n",
       "1379  2420.449951  2410.112016  10.337936\n",
       "1380  2377.550049  2411.907883 -34.357834\n",
       "1381  2397.149902  2396.215104   0.934799\n",
       "1382  2401.800049  2397.298699   4.501350\n",
       "1383  2422.250000  2395.071545  27.178455\n",
       "\n",
       "[416 rows x 3 columns]"
      ]
     },
     "execution_count": 89,
     "metadata": {},
     "output_type": "execute_result"
    }
   ],
   "source": [
    "pd.DataFrame({\"y_actual\":y_test1,\n",
    "             \"y_pred\":y_pred1,\n",
    "             \"residual\":y_test1-y_pred1})"
   ]
  },
  {
   "cell_type": "markdown",
   "id": "5a51bf29",
   "metadata": {},
   "source": [
    "## 5d Prediction\n",
    "\n",
    "##### Monday to Monday prediction"
   ]
  },
  {
   "cell_type": "code",
   "execution_count": 37,
   "id": "2ffbd7b0",
   "metadata": {},
   "outputs": [],
   "source": [
    "df_combined['next5_day_close'] = df_combined['Close'] - df_combined['5d_diff']"
   ]
  },
  {
   "cell_type": "code",
   "execution_count": 40,
   "id": "6aca9b05",
   "metadata": {},
   "outputs": [
    {
     "data": {
      "text/html": [
       "<div>\n",
       "<style scoped>\n",
       "    .dataframe tbody tr th:only-of-type {\n",
       "        vertical-align: middle;\n",
       "    }\n",
       "\n",
       "    .dataframe tbody tr th {\n",
       "        vertical-align: top;\n",
       "    }\n",
       "\n",
       "    .dataframe thead th {\n",
       "        text-align: right;\n",
       "    }\n",
       "</style>\n",
       "<table border=\"1\" class=\"dataframe\">\n",
       "  <thead>\n",
       "    <tr style=\"text-align: right;\">\n",
       "      <th></th>\n",
       "      <th>Date</th>\n",
       "      <th>Close</th>\n",
       "      <th>next5_day_close</th>\n",
       "      <th>5d_diff</th>\n",
       "    </tr>\n",
       "  </thead>\n",
       "  <tbody>\n",
       "    <tr>\n",
       "      <th>0</th>\n",
       "      <td>2016-12-13</td>\n",
       "      <td>515.018127</td>\n",
       "      <td>523.983154</td>\n",
       "      <td>-8.965027</td>\n",
       "    </tr>\n",
       "    <tr>\n",
       "      <th>1</th>\n",
       "      <td>2016-12-14</td>\n",
       "      <td>524.775635</td>\n",
       "      <td>526.633057</td>\n",
       "      <td>-1.857422</td>\n",
       "    </tr>\n",
       "    <tr>\n",
       "      <th>2</th>\n",
       "      <td>2016-12-15</td>\n",
       "      <td>521.531433</td>\n",
       "      <td>521.729553</td>\n",
       "      <td>-0.198120</td>\n",
       "    </tr>\n",
       "    <tr>\n",
       "      <th>3</th>\n",
       "      <td>2016-12-16</td>\n",
       "      <td>523.611694</td>\n",
       "      <td>523.685974</td>\n",
       "      <td>-0.074280</td>\n",
       "    </tr>\n",
       "    <tr>\n",
       "      <th>4</th>\n",
       "      <td>2016-12-19</td>\n",
       "      <td>526.286316</td>\n",
       "      <td>518.807251</td>\n",
       "      <td>7.479065</td>\n",
       "    </tr>\n",
       "    <tr>\n",
       "      <th>5</th>\n",
       "      <td>2016-12-20</td>\n",
       "      <td>523.983154</td>\n",
       "      <td>527.351257</td>\n",
       "      <td>-3.368103</td>\n",
       "    </tr>\n",
       "    <tr>\n",
       "      <th>6</th>\n",
       "      <td>2016-12-21</td>\n",
       "      <td>526.633057</td>\n",
       "      <td>519.921692</td>\n",
       "      <td>6.711365</td>\n",
       "    </tr>\n",
       "  </tbody>\n",
       "</table>\n",
       "</div>"
      ],
      "text/plain": [
       "        Date       Close  next5_day_close   5d_diff\n",
       "0 2016-12-13  515.018127       523.983154 -8.965027\n",
       "1 2016-12-14  524.775635       526.633057 -1.857422\n",
       "2 2016-12-15  521.531433       521.729553 -0.198120\n",
       "3 2016-12-16  523.611694       523.685974 -0.074280\n",
       "4 2016-12-19  526.286316       518.807251  7.479065\n",
       "5 2016-12-20  523.983154       527.351257 -3.368103\n",
       "6 2016-12-21  526.633057       519.921692  6.711365"
      ]
     },
     "execution_count": 40,
     "metadata": {},
     "output_type": "execute_result"
    }
   ],
   "source": [
    "df_combined[['Date','Close','next5_day_close','5d_diff']].head(7)"
   ]
  },
  {
   "cell_type": "code",
   "execution_count": 41,
   "id": "554ff3e2",
   "metadata": {},
   "outputs": [],
   "source": [
    "x_features_5d = ['Volume_100k','EMA3','EMA5','EMA9','avg_senti_comp']"
   ]
  },
  {
   "cell_type": "code",
   "execution_count": 43,
   "id": "ffa12440",
   "metadata": {},
   "outputs": [
    {
     "name": "stdout",
     "output_type": "stream",
     "text": [
      "<class 'pandas.core.frame.DataFrame'>\n",
      "Int64Index: 1384 entries, 0 to 1383\n",
      "Data columns (total 5 columns):\n",
      " #   Column          Non-Null Count  Dtype  \n",
      "---  ------          --------------  -----  \n",
      " 0   Volume_100k     1384 non-null   float64\n",
      " 1   EMA3            1384 non-null   float64\n",
      " 2   EMA5            1384 non-null   float64\n",
      " 3   EMA9            1384 non-null   float64\n",
      " 4   avg_senti_comp  1384 non-null   float64\n",
      "dtypes: float64(5)\n",
      "memory usage: 64.9 KB\n"
     ]
    }
   ],
   "source": [
    "df_combined[x_features_5d].info()"
   ]
  },
  {
   "cell_type": "code",
   "execution_count": 44,
   "id": "5ff04442",
   "metadata": {},
   "outputs": [],
   "source": [
    "X5d = df_combined[x_features_5d]\n",
    "y5d= df_combined['next5_day_close']"
   ]
  },
  {
   "cell_type": "code",
   "execution_count": 76,
   "id": "497d903b",
   "metadata": {},
   "outputs": [
    {
     "name": "stdout",
     "output_type": "stream",
     "text": [
      "Train size : (968, 5); Test Size : (416, 5)\n",
      "Intercept : [1175.82710931]\n",
      "Coefficient : {'Volume_100k': 12.93, 'EMA3': 164.0, 'EMA5': 138.3, 'EMA9': 104.93, 'avg_senti_comp': 0.88}\n"
     ]
    }
   ],
   "source": [
    "y_pred5,y_test5,X_test5,rmse_5,r2_5 = linear_model_build_eval(X=X5d,Y=y5d,\n",
    "                                                     regressor_obj=sgdregressor,\n",
    "                                                     train_size=0.7)"
   ]
  },
  {
   "cell_type": "code",
   "execution_count": 77,
   "id": "cbca45cd",
   "metadata": {},
   "outputs": [
    {
     "data": {
      "text/plain": [
       "95.09310932217095"
      ]
     },
     "execution_count": 77,
     "metadata": {},
     "output_type": "execute_result"
    }
   ],
   "source": [
    "rmse_5"
   ]
  },
  {
   "cell_type": "code",
   "execution_count": 78,
   "id": "1bcb8936",
   "metadata": {},
   "outputs": [
    {
     "data": {
      "text/plain": [
       "0.8607083898993245"
      ]
     },
     "execution_count": 78,
     "metadata": {},
     "output_type": "execute_result"
    }
   ],
   "source": [
    "r2_5"
   ]
  },
  {
   "cell_type": "code",
   "execution_count": 90,
   "id": "2196ac51",
   "metadata": {},
   "outputs": [
    {
     "data": {
      "text/html": [
       "<div>\n",
       "<style scoped>\n",
       "    .dataframe tbody tr th:only-of-type {\n",
       "        vertical-align: middle;\n",
       "    }\n",
       "\n",
       "    .dataframe tbody tr th {\n",
       "        vertical-align: top;\n",
       "    }\n",
       "\n",
       "    .dataframe thead th {\n",
       "        text-align: right;\n",
       "    }\n",
       "</style>\n",
       "<table border=\"1\" class=\"dataframe\">\n",
       "  <thead>\n",
       "    <tr style=\"text-align: right;\">\n",
       "      <th></th>\n",
       "      <th>y_actual</th>\n",
       "      <th>y_pred</th>\n",
       "      <th>residual</th>\n",
       "    </tr>\n",
       "  </thead>\n",
       "  <tbody>\n",
       "    <tr>\n",
       "      <th>968</th>\n",
       "      <td>1973.150024</td>\n",
       "      <td>2011.883836</td>\n",
       "      <td>-38.733811</td>\n",
       "    </tr>\n",
       "    <tr>\n",
       "      <th>969</th>\n",
       "      <td>1899.500000</td>\n",
       "      <td>2015.614272</td>\n",
       "      <td>-116.114272</td>\n",
       "    </tr>\n",
       "    <tr>\n",
       "      <th>970</th>\n",
       "      <td>1950.699951</td>\n",
       "      <td>1984.552815</td>\n",
       "      <td>-33.852863</td>\n",
       "    </tr>\n",
       "    <tr>\n",
       "      <th>971</th>\n",
       "      <td>1964.050049</td>\n",
       "      <td>2013.619383</td>\n",
       "      <td>-49.569334</td>\n",
       "    </tr>\n",
       "    <tr>\n",
       "      <th>972</th>\n",
       "      <td>1947.800049</td>\n",
       "      <td>1996.004943</td>\n",
       "      <td>-48.204894</td>\n",
       "    </tr>\n",
       "    <tr>\n",
       "      <th>...</th>\n",
       "      <td>...</td>\n",
       "      <td>...</td>\n",
       "      <td>...</td>\n",
       "    </tr>\n",
       "    <tr>\n",
       "      <th>1379</th>\n",
       "      <td>2422.250000</td>\n",
       "      <td>2402.623839</td>\n",
       "      <td>19.626161</td>\n",
       "    </tr>\n",
       "    <tr>\n",
       "      <th>1380</th>\n",
       "      <td>2437.100098</td>\n",
       "      <td>2401.420482</td>\n",
       "      <td>35.679616</td>\n",
       "    </tr>\n",
       "    <tr>\n",
       "      <th>1381</th>\n",
       "      <td>2503.000000</td>\n",
       "      <td>2388.636346</td>\n",
       "      <td>114.363654</td>\n",
       "    </tr>\n",
       "    <tr>\n",
       "      <th>1382</th>\n",
       "      <td>2486.300049</td>\n",
       "      <td>2389.575582</td>\n",
       "      <td>96.724467</td>\n",
       "    </tr>\n",
       "    <tr>\n",
       "      <th>1383</th>\n",
       "      <td>2503.100098</td>\n",
       "      <td>2383.256982</td>\n",
       "      <td>119.843116</td>\n",
       "    </tr>\n",
       "  </tbody>\n",
       "</table>\n",
       "<p>416 rows × 3 columns</p>\n",
       "</div>"
      ],
      "text/plain": [
       "         y_actual       y_pred    residual\n",
       "968   1973.150024  2011.883836  -38.733811\n",
       "969   1899.500000  2015.614272 -116.114272\n",
       "970   1950.699951  1984.552815  -33.852863\n",
       "971   1964.050049  2013.619383  -49.569334\n",
       "972   1947.800049  1996.004943  -48.204894\n",
       "...           ...          ...         ...\n",
       "1379  2422.250000  2402.623839   19.626161\n",
       "1380  2437.100098  2401.420482   35.679616\n",
       "1381  2503.000000  2388.636346  114.363654\n",
       "1382  2486.300049  2389.575582   96.724467\n",
       "1383  2503.100098  2383.256982  119.843116\n",
       "\n",
       "[416 rows x 3 columns]"
      ]
     },
     "execution_count": 90,
     "metadata": {},
     "output_type": "execute_result"
    }
   ],
   "source": [
    "pd.DataFrame({\"y_actual\":y_test5,\n",
    "             \"y_pred\":y_pred5,\n",
    "             \"residual\":y_test5-y_pred5})"
   ]
  },
  {
   "cell_type": "markdown",
   "id": "54d1d13a",
   "metadata": {},
   "source": [
    "## 10d Prediction\n",
    "\n",
    "##### Monday to Monday(14 days including weekend)"
   ]
  },
  {
   "cell_type": "code",
   "execution_count": 80,
   "id": "a7702e73",
   "metadata": {},
   "outputs": [],
   "source": [
    "df_combined['next10_day_close'] = df_combined['Close'] - df_combined['10d_diff']"
   ]
  },
  {
   "cell_type": "code",
   "execution_count": 82,
   "id": "2eb21047",
   "metadata": {},
   "outputs": [
    {
     "data": {
      "text/html": [
       "<div>\n",
       "<style scoped>\n",
       "    .dataframe tbody tr th:only-of-type {\n",
       "        vertical-align: middle;\n",
       "    }\n",
       "\n",
       "    .dataframe tbody tr th {\n",
       "        vertical-align: top;\n",
       "    }\n",
       "\n",
       "    .dataframe thead th {\n",
       "        text-align: right;\n",
       "    }\n",
       "</style>\n",
       "<table border=\"1\" class=\"dataframe\">\n",
       "  <thead>\n",
       "    <tr style=\"text-align: right;\">\n",
       "      <th></th>\n",
       "      <th>Date</th>\n",
       "      <th>Close</th>\n",
       "      <th>next10_day_close</th>\n",
       "      <th>10d_diff</th>\n",
       "    </tr>\n",
       "  </thead>\n",
       "  <tbody>\n",
       "    <tr>\n",
       "      <th>0</th>\n",
       "      <td>2016-12-13</td>\n",
       "      <td>515.018127</td>\n",
       "      <td>527.351257</td>\n",
       "      <td>-12.333130</td>\n",
       "    </tr>\n",
       "    <tr>\n",
       "      <th>1</th>\n",
       "      <td>2016-12-14</td>\n",
       "      <td>524.775635</td>\n",
       "      <td>519.921692</td>\n",
       "      <td>4.853943</td>\n",
       "    </tr>\n",
       "    <tr>\n",
       "      <th>2</th>\n",
       "      <td>2016-12-15</td>\n",
       "      <td>521.531433</td>\n",
       "      <td>527.722717</td>\n",
       "      <td>-6.191284</td>\n",
       "    </tr>\n",
       "    <tr>\n",
       "      <th>3</th>\n",
       "      <td>2016-12-16</td>\n",
       "      <td>523.611694</td>\n",
       "      <td>536.118164</td>\n",
       "      <td>-12.506470</td>\n",
       "    </tr>\n",
       "    <tr>\n",
       "      <th>4</th>\n",
       "      <td>2016-12-19</td>\n",
       "      <td>526.286316</td>\n",
       "      <td>537.455444</td>\n",
       "      <td>-11.169128</td>\n",
       "    </tr>\n",
       "    <tr>\n",
       "      <th>5</th>\n",
       "      <td>2016-12-20</td>\n",
       "      <td>523.983154</td>\n",
       "      <td>539.585266</td>\n",
       "      <td>-15.602112</td>\n",
       "    </tr>\n",
       "    <tr>\n",
       "      <th>6</th>\n",
       "      <td>2016-12-21</td>\n",
       "      <td>526.633057</td>\n",
       "      <td>528.564758</td>\n",
       "      <td>-1.931702</td>\n",
       "    </tr>\n",
       "    <tr>\n",
       "      <th>7</th>\n",
       "      <td>2016-12-22</td>\n",
       "      <td>521.729553</td>\n",
       "      <td>533.641602</td>\n",
       "      <td>-11.912048</td>\n",
       "    </tr>\n",
       "    <tr>\n",
       "      <th>8</th>\n",
       "      <td>2016-12-23</td>\n",
       "      <td>523.685974</td>\n",
       "      <td>532.428101</td>\n",
       "      <td>-8.742126</td>\n",
       "    </tr>\n",
       "    <tr>\n",
       "      <th>9</th>\n",
       "      <td>2016-12-26</td>\n",
       "      <td>518.807251</td>\n",
       "      <td>533.790222</td>\n",
       "      <td>-14.982971</td>\n",
       "    </tr>\n",
       "    <tr>\n",
       "      <th>10</th>\n",
       "      <td>2016-12-27</td>\n",
       "      <td>527.351257</td>\n",
       "      <td>539.808167</td>\n",
       "      <td>-12.456909</td>\n",
       "    </tr>\n",
       "    <tr>\n",
       "      <th>11</th>\n",
       "      <td>2016-12-28</td>\n",
       "      <td>519.921692</td>\n",
       "      <td>537.926025</td>\n",
       "      <td>-18.004333</td>\n",
       "    </tr>\n",
       "    <tr>\n",
       "      <th>12</th>\n",
       "      <td>2016-12-29</td>\n",
       "      <td>527.722717</td>\n",
       "      <td>536.563904</td>\n",
       "      <td>-8.841187</td>\n",
       "    </tr>\n",
       "    <tr>\n",
       "      <th>13</th>\n",
       "      <td>2016-12-30</td>\n",
       "      <td>536.118164</td>\n",
       "      <td>540.080566</td>\n",
       "      <td>-3.962402</td>\n",
       "    </tr>\n",
       "    <tr>\n",
       "      <th>14</th>\n",
       "      <td>2017-01-02</td>\n",
       "      <td>537.455444</td>\n",
       "      <td>533.072021</td>\n",
       "      <td>4.383423</td>\n",
       "    </tr>\n",
       "  </tbody>\n",
       "</table>\n",
       "</div>"
      ],
      "text/plain": [
       "         Date       Close  next10_day_close   10d_diff\n",
       "0  2016-12-13  515.018127        527.351257 -12.333130\n",
       "1  2016-12-14  524.775635        519.921692   4.853943\n",
       "2  2016-12-15  521.531433        527.722717  -6.191284\n",
       "3  2016-12-16  523.611694        536.118164 -12.506470\n",
       "4  2016-12-19  526.286316        537.455444 -11.169128\n",
       "5  2016-12-20  523.983154        539.585266 -15.602112\n",
       "6  2016-12-21  526.633057        528.564758  -1.931702\n",
       "7  2016-12-22  521.729553        533.641602 -11.912048\n",
       "8  2016-12-23  523.685974        532.428101  -8.742126\n",
       "9  2016-12-26  518.807251        533.790222 -14.982971\n",
       "10 2016-12-27  527.351257        539.808167 -12.456909\n",
       "11 2016-12-28  519.921692        537.926025 -18.004333\n",
       "12 2016-12-29  527.722717        536.563904  -8.841187\n",
       "13 2016-12-30  536.118164        540.080566  -3.962402\n",
       "14 2017-01-02  537.455444        533.072021   4.383423"
      ]
     },
     "execution_count": 82,
     "metadata": {},
     "output_type": "execute_result"
    }
   ],
   "source": [
    "df_combined[['Date','Close','next10_day_close','10d_diff']].head(15)"
   ]
  },
  {
   "cell_type": "code",
   "execution_count": 83,
   "id": "2481b638",
   "metadata": {},
   "outputs": [],
   "source": [
    "x_features_10d = ['Volume_100k','EMA5','EMA9','EMA15','avg_senti_comp']"
   ]
  },
  {
   "cell_type": "code",
   "execution_count": 84,
   "id": "c9c1fde3",
   "metadata": {},
   "outputs": [
    {
     "name": "stdout",
     "output_type": "stream",
     "text": [
      "<class 'pandas.core.frame.DataFrame'>\n",
      "Int64Index: 1384 entries, 0 to 1383\n",
      "Data columns (total 5 columns):\n",
      " #   Column          Non-Null Count  Dtype  \n",
      "---  ------          --------------  -----  \n",
      " 0   Volume_100k     1384 non-null   float64\n",
      " 1   EMA5            1384 non-null   float64\n",
      " 2   EMA9            1384 non-null   float64\n",
      " 3   EMA15           1384 non-null   float64\n",
      " 4   avg_senti_comp  1384 non-null   float64\n",
      "dtypes: float64(5)\n",
      "memory usage: 64.9 KB\n"
     ]
    }
   ],
   "source": [
    "df_combined[x_features_10d].info()"
   ]
  },
  {
   "cell_type": "code",
   "execution_count": 85,
   "id": "b18e34d6",
   "metadata": {},
   "outputs": [],
   "source": [
    "X10d = df_combined[x_features_10d]\n",
    "y10d= df_combined['next10_day_close']"
   ]
  },
  {
   "cell_type": "code",
   "execution_count": 86,
   "id": "ead47737",
   "metadata": {},
   "outputs": [
    {
     "name": "stdout",
     "output_type": "stream",
     "text": [
      "Train size : (968, 5); Test Size : (416, 5)\n",
      "Intercept : [1182.46540397]\n",
      "Coefficient : {'Volume_100k': 22.81, 'EMA5': 191.88, 'EMA9': 133.33, 'EMA15': 75.74, 'avg_senti_comp': -2.41}\n"
     ]
    }
   ],
   "source": [
    "y_pred10,y_test10,X_test10,rmse_10,r2_10 = linear_model_build_eval(X=X10d,Y=y10d,\n",
    "                                                     regressor_obj=sgdregressor,\n",
    "                                                     train_size=0.7)"
   ]
  },
  {
   "cell_type": "code",
   "execution_count": 87,
   "id": "91be7b52",
   "metadata": {},
   "outputs": [
    {
     "data": {
      "text/plain": [
       "128.18309078966976"
      ]
     },
     "execution_count": 87,
     "metadata": {},
     "output_type": "execute_result"
    }
   ],
   "source": [
    "rmse_10"
   ]
  },
  {
   "cell_type": "code",
   "execution_count": 88,
   "id": "127b8dfa",
   "metadata": {},
   "outputs": [
    {
     "data": {
      "text/plain": [
       "0.7424087792433609"
      ]
     },
     "execution_count": 88,
     "metadata": {},
     "output_type": "execute_result"
    }
   ],
   "source": [
    "r2_10"
   ]
  },
  {
   "cell_type": "code",
   "execution_count": null,
   "id": "07353621",
   "metadata": {},
   "outputs": [],
   "source": []
  },
  {
   "cell_type": "markdown",
   "id": "69b95788",
   "metadata": {},
   "source": [
    "## Classification "
   ]
  },
  {
   "cell_type": "markdown",
   "id": "c8ddb9f3",
   "metadata": {},
   "source": [
    "### Logistic Regression"
   ]
  },
  {
   "cell_type": "markdown",
   "id": "3014c8cc",
   "metadata": {},
   "source": [
    "#### Model Creation + Eval"
   ]
  },
  {
   "cell_type": "code",
   "execution_count": 126,
   "id": "1be8e782",
   "metadata": {},
   "outputs": [],
   "source": [
    "def loglinear_model_build_eval(X,Y,regressor_obj,train_size=0.7):\n",
    "    \n",
    "    ## train test split\n",
    "    X_train, X_test, y_train, y_test = train_test_split(X,\n",
    "                                                    Y,\n",
    "                                                    shuffle=False,\n",
    "                                                    train_size = train_size,\n",
    "                                                    random_state = 80)\n",
    "    \n",
    "    print(f\"Train size : {X_train.shape}; Test Size : {X_test.shape}\")\n",
    "    \n",
    "    # transformations\n",
    "    scaler = StandardScaler()\n",
    "    \n",
    "    # pipeline\n",
    "    logreg = Pipeline(steps=[('scaler', scaler),\n",
    "                          ('regressor', regressor_obj )])\n",
    "    \n",
    "    #fit train set\n",
    "    logreg.fit(X_train,y_train)\n",
    "    \n",
    "    print(f\"Intercept : {logreg['regressor'].intercept_}\")\n",
    "    \n",
    "    print(f\"Coefficient : {dict(zip(X, np.round(logreg['regressor'].coef_[0], 2)))}\")\n",
    "    \n",
    "    y_pred = logreg.predict(X_test)\n",
    "    \n",
    "    accuracy_s = accuracy_score(y_test,y_pred)\n",
    "    \n",
    "    recall_s = recall_score(y_test,y_pred)\n",
    "    \n",
    "    precision_s = precision_score(y_test,y_pred)\n",
    "    \n",
    "    cm = confusion_matrix(y_test,y_pred, labels = [1,0])\n",
    "    \n",
    "    cr = classification_report(y_test,y_pred,labels=[1,0])\n",
    "    \n",
    "    return y_pred,y_test,X_test,accuracy_s,recall_s,precision_s,cm,cr"
   ]
  },
  {
   "cell_type": "code",
   "execution_count": null,
   "id": "eb47f958",
   "metadata": {},
   "outputs": [],
   "source": []
  },
  {
   "cell_type": "markdown",
   "id": "3d1802da",
   "metadata": {},
   "source": [
    "## 1d Classification"
   ]
  },
  {
   "cell_type": "code",
   "execution_count": 118,
   "id": "0665cc42",
   "metadata": {},
   "outputs": [],
   "source": [
    "x_features_1d = ['Volume_100k','EMA3','EMA5','avg_senti_comp']\n"
   ]
  },
  {
   "cell_type": "code",
   "execution_count": 119,
   "id": "39982dd9",
   "metadata": {},
   "outputs": [],
   "source": [
    "df_combined['1d_up_down'] = np.where(df_combined['next_day_close'] > df_combined['Close'],1,0)"
   ]
  },
  {
   "cell_type": "code",
   "execution_count": 120,
   "id": "ed4e4b2c",
   "metadata": {},
   "outputs": [
    {
     "data": {
      "text/html": [
       "<div>\n",
       "<style scoped>\n",
       "    .dataframe tbody tr th:only-of-type {\n",
       "        vertical-align: middle;\n",
       "    }\n",
       "\n",
       "    .dataframe tbody tr th {\n",
       "        vertical-align: top;\n",
       "    }\n",
       "\n",
       "    .dataframe thead th {\n",
       "        text-align: right;\n",
       "    }\n",
       "</style>\n",
       "<table border=\"1\" class=\"dataframe\">\n",
       "  <thead>\n",
       "    <tr style=\"text-align: right;\">\n",
       "      <th></th>\n",
       "      <th>Date</th>\n",
       "      <th>Close</th>\n",
       "      <th>next_day_close</th>\n",
       "      <th>1d_up_down</th>\n",
       "    </tr>\n",
       "  </thead>\n",
       "  <tbody>\n",
       "    <tr>\n",
       "      <th>0</th>\n",
       "      <td>2016-12-13</td>\n",
       "      <td>515.018127</td>\n",
       "      <td>524.775635</td>\n",
       "      <td>1</td>\n",
       "    </tr>\n",
       "    <tr>\n",
       "      <th>1</th>\n",
       "      <td>2016-12-14</td>\n",
       "      <td>524.775635</td>\n",
       "      <td>521.531433</td>\n",
       "      <td>0</td>\n",
       "    </tr>\n",
       "    <tr>\n",
       "      <th>2</th>\n",
       "      <td>2016-12-15</td>\n",
       "      <td>521.531433</td>\n",
       "      <td>523.611694</td>\n",
       "      <td>1</td>\n",
       "    </tr>\n",
       "    <tr>\n",
       "      <th>3</th>\n",
       "      <td>2016-12-16</td>\n",
       "      <td>523.611694</td>\n",
       "      <td>526.286316</td>\n",
       "      <td>1</td>\n",
       "    </tr>\n",
       "    <tr>\n",
       "      <th>4</th>\n",
       "      <td>2016-12-19</td>\n",
       "      <td>526.286316</td>\n",
       "      <td>523.983154</td>\n",
       "      <td>0</td>\n",
       "    </tr>\n",
       "    <tr>\n",
       "      <th>...</th>\n",
       "      <td>...</td>\n",
       "      <td>...</td>\n",
       "      <td>...</td>\n",
       "      <td>...</td>\n",
       "    </tr>\n",
       "    <tr>\n",
       "      <th>1379</th>\n",
       "      <td>2022-07-11</td>\n",
       "      <td>2423.899902</td>\n",
       "      <td>2420.449951</td>\n",
       "      <td>0</td>\n",
       "    </tr>\n",
       "    <tr>\n",
       "      <th>1380</th>\n",
       "      <td>2022-07-12</td>\n",
       "      <td>2420.449951</td>\n",
       "      <td>2377.550049</td>\n",
       "      <td>0</td>\n",
       "    </tr>\n",
       "    <tr>\n",
       "      <th>1381</th>\n",
       "      <td>2022-07-13</td>\n",
       "      <td>2377.550049</td>\n",
       "      <td>2397.149902</td>\n",
       "      <td>1</td>\n",
       "    </tr>\n",
       "    <tr>\n",
       "      <th>1382</th>\n",
       "      <td>2022-07-14</td>\n",
       "      <td>2397.149902</td>\n",
       "      <td>2401.800049</td>\n",
       "      <td>1</td>\n",
       "    </tr>\n",
       "    <tr>\n",
       "      <th>1383</th>\n",
       "      <td>2022-07-15</td>\n",
       "      <td>2401.800049</td>\n",
       "      <td>2422.250000</td>\n",
       "      <td>1</td>\n",
       "    </tr>\n",
       "  </tbody>\n",
       "</table>\n",
       "<p>1384 rows × 4 columns</p>\n",
       "</div>"
      ],
      "text/plain": [
       "           Date        Close  next_day_close  1d_up_down\n",
       "0    2016-12-13   515.018127      524.775635           1\n",
       "1    2016-12-14   524.775635      521.531433           0\n",
       "2    2016-12-15   521.531433      523.611694           1\n",
       "3    2016-12-16   523.611694      526.286316           1\n",
       "4    2016-12-19   526.286316      523.983154           0\n",
       "...         ...          ...             ...         ...\n",
       "1379 2022-07-11  2423.899902     2420.449951           0\n",
       "1380 2022-07-12  2420.449951     2377.550049           0\n",
       "1381 2022-07-13  2377.550049     2397.149902           1\n",
       "1382 2022-07-14  2397.149902     2401.800049           1\n",
       "1383 2022-07-15  2401.800049     2422.250000           1\n",
       "\n",
       "[1384 rows x 4 columns]"
      ]
     },
     "execution_count": 120,
     "metadata": {},
     "output_type": "execute_result"
    }
   ],
   "source": [
    "df_combined[['Date','Close','next_day_close','1d_up_down']]"
   ]
  },
  {
   "cell_type": "code",
   "execution_count": 121,
   "id": "670a790d",
   "metadata": {},
   "outputs": [],
   "source": [
    "logreg = LogisticRegression(random_state = 101, \n",
    "                               max_iter = 1000)"
   ]
  },
  {
   "cell_type": "code",
   "execution_count": 122,
   "id": "a8d207d5",
   "metadata": {},
   "outputs": [],
   "source": [
    "X1d = df_combined[x_features_1d]\n",
    "y1d = df_combined['1d_up_down']"
   ]
  },
  {
   "cell_type": "code",
   "execution_count": 127,
   "id": "357ba18f",
   "metadata": {},
   "outputs": [
    {
     "name": "stdout",
     "output_type": "stream",
     "text": [
      "Train size : (968, 4); Test Size : (416, 4)\n",
      "Intercept : [0.07449692]\n",
      "Coefficient : {'Volume_100k': 0.0, 'EMA3': 0.05, 'EMA5': -0.1, 'avg_senti_comp': -0.07}\n"
     ]
    }
   ],
   "source": [
    "y_pred1,y_test1,X_test1,accuracy_s1,recall_s1,precision_s1,cm1,cr1 = loglinear_model_build_eval(X1d,y1d,\n",
    "                                                                                               logreg)"
   ]
  },
  {
   "cell_type": "code",
   "execution_count": 128,
   "id": "d6a4d8d3",
   "metadata": {},
   "outputs": [
    {
     "data": {
      "text/plain": [
       "0.4951923076923077"
      ]
     },
     "execution_count": 128,
     "metadata": {},
     "output_type": "execute_result"
    }
   ],
   "source": [
    "accuracy_s1"
   ]
  },
  {
   "cell_type": "code",
   "execution_count": 129,
   "id": "62c34a12",
   "metadata": {},
   "outputs": [
    {
     "data": {
      "text/plain": [
       "0.3153153153153153"
      ]
     },
     "execution_count": 129,
     "metadata": {},
     "output_type": "execute_result"
    }
   ],
   "source": [
    "## out of the actual positive(up), only 31% of times predicted to go up\n",
    "recall_s1"
   ]
  },
  {
   "cell_type": "code",
   "execution_count": 130,
   "id": "69584795",
   "metadata": {},
   "outputs": [
    {
     "data": {
      "text/plain": [
       "0.546875"
      ]
     },
     "execution_count": 130,
     "metadata": {},
     "output_type": "execute_result"
    }
   ],
   "source": [
    "## out of all predicted value of +ve, only 54% times stock goes up\n",
    "precision_s1"
   ]
  },
  {
   "cell_type": "code",
   "execution_count": 134,
   "id": "bba00559",
   "metadata": {},
   "outputs": [
    {
     "name": "stdout",
     "output_type": "stream",
     "text": [
      "              precision    recall  f1-score   support\n",
      "\n",
      "           1       0.55      0.32      0.40       222\n",
      "           0       0.47      0.70      0.56       194\n",
      "\n",
      "    accuracy                           0.50       416\n",
      "   macro avg       0.51      0.51      0.48       416\n",
      "weighted avg       0.51      0.50      0.48       416\n",
      "\n"
     ]
    }
   ],
   "source": [
    "print(cr1)"
   ]
  },
  {
   "cell_type": "code",
   "execution_count": null,
   "id": "5f8111f3",
   "metadata": {},
   "outputs": [],
   "source": []
  }
 ],
 "metadata": {
  "kernelspec": {
   "display_name": "Python 3 (ipykernel)",
   "language": "python",
   "name": "python3"
  },
  "language_info": {
   "codemirror_mode": {
    "name": "ipython",
    "version": 3
   },
   "file_extension": ".py",
   "mimetype": "text/x-python",
   "name": "python",
   "nbconvert_exporter": "python",
   "pygments_lexer": "ipython3",
   "version": "3.9.7"
  }
 },
 "nbformat": 4,
 "nbformat_minor": 5
}
