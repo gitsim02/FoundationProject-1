{
 "cells": [
  {
   "cell_type": "markdown",
   "id": "05289630",
   "metadata": {},
   "source": [
    "#### Test prediction on linear pickle models"
   ]
  },
  {
   "cell_type": "code",
   "execution_count": 21,
   "id": "5ca9c256",
   "metadata": {},
   "outputs": [],
   "source": [
    "import pandas as pd\n",
    "from joblib import load"
   ]
  },
  {
   "cell_type": "code",
   "execution_count": 22,
   "id": "bb9ea62d",
   "metadata": {},
   "outputs": [],
   "source": [
    "class StockPredictionModel():\n",
    "    \n",
    "    def __init__(self, model, features, rmse):\n",
    "        self.model = model\n",
    "        self.features = features\n",
    "        self.rmse = rmse "
   ]
  },
  {
   "cell_type": "code",
   "execution_count": 38,
   "id": "b2d055d8",
   "metadata": {},
   "outputs": [],
   "source": [
    "lm_model_1d = load(\"lm_1d.pkl\")  ## takes volume_100k, EMA3, EMA5, avg_senti_comp\n",
    "lm_model_5d = load(\"lm_5d.pkl\") ## takes 'Volume_100k','EMA3','EMA5','EMA9','avg_senti_comp'\n",
    "lm_model_10d = load(\"lm_10d.pkl\") ## takes 'Volume_100k','EMA5','EMA9','EMA15','EMA30','avg_senti_comp'\n",
    "# cl_model_1d = load(\"cl_model_1d.pkl\")\n",
    "# # For older APIs\n",
    "#model_v1 = joblib.load('./cars.pkl')"
   ]
  },
  {
   "cell_type": "code",
   "execution_count": 24,
   "id": "308fdc62",
   "metadata": {},
   "outputs": [
    {
     "data": {
      "text/plain": [
       "__main__.StockPredictionModel"
      ]
     },
     "execution_count": 24,
     "metadata": {},
     "output_type": "execute_result"
    }
   ],
   "source": [
    "type(lm_model_1d)"
   ]
  },
  {
   "cell_type": "code",
   "execution_count": 25,
   "id": "85e3469c",
   "metadata": {},
   "outputs": [
    {
     "data": {
      "text/plain": [
       "['Volume_100k', 'EMA3', 'EMA5', 'avg_senti_comp']"
      ]
     },
     "execution_count": 25,
     "metadata": {},
     "output_type": "execute_result"
    }
   ],
   "source": [
    "lm_model_1d.features"
   ]
  },
  {
   "cell_type": "code",
   "execution_count": 26,
   "id": "f3d40a90",
   "metadata": {},
   "outputs": [],
   "source": [
    "Stock_dict = {\n",
    "            'Volume_100k': 49.49 ,\n",
    "            'EMA3' : 2410, \n",
    "            'EMA5' : 2420, 'avg_senti_comp' : 0.5\n",
    "            }"
   ]
  },
  {
   "cell_type": "code",
   "execution_count": 27,
   "id": "fad5258f",
   "metadata": {},
   "outputs": [],
   "source": [
    "df = pd.DataFrame(Stock_dict, index = [0])"
   ]
  },
  {
   "cell_type": "code",
   "execution_count": 28,
   "id": "1a5792b4",
   "metadata": {},
   "outputs": [
    {
     "data": {
      "text/plain": [
       "(1, 4)"
      ]
     },
     "execution_count": 28,
     "metadata": {},
     "output_type": "execute_result"
    }
   ],
   "source": [
    "df.shape"
   ]
  },
  {
   "cell_type": "code",
   "execution_count": 29,
   "id": "a7f5dc33",
   "metadata": {},
   "outputs": [
    {
     "data": {
      "text/plain": [
       "<bound method Pipeline.get_params of Pipeline(steps=[('scaler', StandardScaler()),\n",
       "                ('regressor', SGDRegressor(max_iter=100))])>"
      ]
     },
     "execution_count": 29,
     "metadata": {},
     "output_type": "execute_result"
    }
   ],
   "source": [
    "lm_model_1d.model.get_params"
   ]
  },
  {
   "cell_type": "code",
   "execution_count": 30,
   "id": "ae503b5f",
   "metadata": {},
   "outputs": [
    {
     "data": {
      "text/html": [
       "<div>\n",
       "<style scoped>\n",
       "    .dataframe tbody tr th:only-of-type {\n",
       "        vertical-align: middle;\n",
       "    }\n",
       "\n",
       "    .dataframe tbody tr th {\n",
       "        vertical-align: top;\n",
       "    }\n",
       "\n",
       "    .dataframe thead th {\n",
       "        text-align: right;\n",
       "    }\n",
       "</style>\n",
       "<table border=\"1\" class=\"dataframe\">\n",
       "  <thead>\n",
       "    <tr style=\"text-align: right;\">\n",
       "      <th></th>\n",
       "      <th>Volume_100k</th>\n",
       "      <th>EMA3</th>\n",
       "      <th>EMA5</th>\n",
       "      <th>avg_senti_comp</th>\n",
       "    </tr>\n",
       "  </thead>\n",
       "  <tbody>\n",
       "    <tr>\n",
       "      <th>0</th>\n",
       "      <td>49.49</td>\n",
       "      <td>2410</td>\n",
       "      <td>2420</td>\n",
       "      <td>0.5</td>\n",
       "    </tr>\n",
       "  </tbody>\n",
       "</table>\n",
       "</div>"
      ],
      "text/plain": [
       "   Volume_100k  EMA3  EMA5  avg_senti_comp\n",
       "0        49.49  2410  2420             0.5"
      ]
     },
     "execution_count": 30,
     "metadata": {},
     "output_type": "execute_result"
    }
   ],
   "source": [
    "df"
   ]
  },
  {
   "cell_type": "code",
   "execution_count": 31,
   "id": "8c9accfd",
   "metadata": {},
   "outputs": [
    {
     "data": {
      "text/plain": [
       "array([2408.42570035])"
      ]
     },
     "execution_count": 31,
     "metadata": {},
     "output_type": "execute_result"
    }
   ],
   "source": [
    "lm_model_1d.model.predict(df)"
   ]
  },
  {
   "cell_type": "code",
   "execution_count": 32,
   "id": "c215482f",
   "metadata": {},
   "outputs": [
    {
     "data": {
      "text/plain": [
       "array([  4.79160497, 208.97939371, 203.18487813,   1.01761454])"
      ]
     },
     "execution_count": 32,
     "metadata": {},
     "output_type": "execute_result"
    }
   ],
   "source": [
    "lm_model_1d.model['regressor'].coef_"
   ]
  },
  {
   "cell_type": "code",
   "execution_count": 33,
   "id": "0ced7fb8",
   "metadata": {},
   "outputs": [
    {
     "data": {
      "text/plain": [
       "Index(['Volume_100k', 'EMA3', 'EMA5', 'avg_senti_comp'], dtype='object')"
      ]
     },
     "execution_count": 33,
     "metadata": {},
     "output_type": "execute_result"
    }
   ],
   "source": [
    "df.columns"
   ]
  },
  {
   "cell_type": "code",
   "execution_count": 34,
   "id": "aff4ee9d",
   "metadata": {},
   "outputs": [
    {
     "data": {
      "text/plain": [
       "<bound method Pipeline.get_params of Pipeline(steps=[('scaler', StandardScaler()),\n",
       "                ('regressor', SGDRegressor(max_iter=100))])>"
      ]
     },
     "execution_count": 34,
     "metadata": {},
     "output_type": "execute_result"
    }
   ],
   "source": [
    "lm_model_5d.model.get_params"
   ]
  },
  {
   "cell_type": "code",
   "execution_count": 36,
   "id": "d30126fc",
   "metadata": {},
   "outputs": [
    {
     "data": {
      "text/plain": [
       "array([ 12.52664233, 165.12165392, 138.8235687 , 103.5764884 ,\n",
       "         0.56308242])"
      ]
     },
     "execution_count": 36,
     "metadata": {},
     "output_type": "execute_result"
    }
   ],
   "source": [
    "lm_model_5d.model['regressor'].coef_"
   ]
  },
  {
   "cell_type": "code",
   "execution_count": 39,
   "id": "d63e3cf6",
   "metadata": {},
   "outputs": [
    {
     "data": {
      "text/plain": [
       "array([ 21.43032708, 272.03078391, 161.16078663,  55.75406105,\n",
       "       -88.58097052,  -2.22963636])"
      ]
     },
     "execution_count": 39,
     "metadata": {},
     "output_type": "execute_result"
    }
   ],
   "source": [
    "lm_model_10d.model['regressor'].coef_"
   ]
  },
  {
   "cell_type": "code",
   "execution_count": null,
   "id": "67f25398",
   "metadata": {},
   "outputs": [],
   "source": []
  }
 ],
 "metadata": {
  "kernelspec": {
   "display_name": "Python 3 (ipykernel)",
   "language": "python",
   "name": "python3"
  },
  "language_info": {
   "codemirror_mode": {
    "name": "ipython",
    "version": 3
   },
   "file_extension": ".py",
   "mimetype": "text/x-python",
   "name": "python",
   "nbconvert_exporter": "python",
   "pygments_lexer": "ipython3",
   "version": "3.9.7"
  }
 },
 "nbformat": 4,
 "nbformat_minor": 5
}
